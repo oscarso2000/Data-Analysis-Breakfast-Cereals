{
 "cells": [
  {
   "cell_type": "markdown",
   "metadata": {},
   "source": [
    "# KMeans Clustering\n",
    "\n",
    "We used K-Means clustering to differentiate between the 6 brands of cereal."
   ]
  },
  {
   "cell_type": "code",
   "execution_count": 12,
   "metadata": {},
   "outputs": [
    {
     "data": {
      "text/html": [
       "        <script type=\"text/javascript\">\n",
       "        window.PlotlyConfig = {MathJaxConfig: 'local'};\n",
       "        if (window.MathJax) {MathJax.Hub.Config({SVG: {font: \"STIX-Web\"}});}\n",
       "        if (typeof require !== 'undefined') {\n",
       "        require.undef(\"plotly\");\n",
       "        requirejs.config({\n",
       "            paths: {\n",
       "                'plotly': ['https://cdn.plot.ly/plotly-latest.min']\n",
       "            }\n",
       "        });\n",
       "        require(['plotly'], function(Plotly) {\n",
       "            window._Plotly = Plotly;\n",
       "        });\n",
       "        }\n",
       "        </script>\n",
       "        "
      ]
     },
     "metadata": {},
     "output_type": "display_data"
    }
   ],
   "source": [
    "import pandas as pd\n",
    "import numpy as np\n",
    "import matplotlib.pyplot as plt\n",
    "import seaborn as sns\n",
    "import plotly as py\n",
    "import pylab as pl\n",
    "from scipy.spatial.distance import cdist \n",
    "from sklearn.cluster import KMeans\n",
    "from sklearn.decomposition import PCA\n",
    "py.offline.init_notebook_mode(connected=True)\n",
    "%matplotlib inline\n",
    "\n",
    "##Dear Grader: IF you cannot see our graphs, please remember to pip all the libraries, including matplotlib, plotly and pyplot"
   ]
  },
  {
   "cell_type": "code",
   "execution_count": 13,
   "metadata": {},
   "outputs": [
    {
     "data": {
      "text/html": [
       "<div>\n",
       "<style scoped>\n",
       "    .dataframe tbody tr th:only-of-type {\n",
       "        vertical-align: middle;\n",
       "    }\n",
       "\n",
       "    .dataframe tbody tr th {\n",
       "        vertical-align: top;\n",
       "    }\n",
       "\n",
       "    .dataframe thead th {\n",
       "        text-align: right;\n",
       "    }\n",
       "</style>\n",
       "<table border=\"1\" class=\"dataframe\">\n",
       "  <thead>\n",
       "    <tr style=\"text-align: right;\">\n",
       "      <th></th>\n",
       "      <th>Brand Name</th>\n",
       "      <th>Manufacturer</th>\n",
       "      <th>Calories</th>\n",
       "      <th>Protein</th>\n",
       "      <th>Fat</th>\n",
       "      <th>Sodium</th>\n",
       "      <th>Fiber</th>\n",
       "      <th>Carbohydrates</th>\n",
       "      <th>Sugar</th>\n",
       "      <th>Potassium</th>\n",
       "      <th>Vitamins</th>\n",
       "    </tr>\n",
       "  </thead>\n",
       "  <tbody>\n",
       "    <tr>\n",
       "      <th>0</th>\n",
       "      <td>100% Bran</td>\n",
       "      <td>Nabisco</td>\n",
       "      <td>70.0</td>\n",
       "      <td>4.0</td>\n",
       "      <td>1.0</td>\n",
       "      <td>130.0</td>\n",
       "      <td>10.0</td>\n",
       "      <td>5.0</td>\n",
       "      <td>6.0</td>\n",
       "      <td>280.0</td>\n",
       "      <td>25.0</td>\n",
       "    </tr>\n",
       "    <tr>\n",
       "      <th>1</th>\n",
       "      <td>100% Natural Bran</td>\n",
       "      <td>Quaker Oats</td>\n",
       "      <td>120.0</td>\n",
       "      <td>3.0</td>\n",
       "      <td>5.0</td>\n",
       "      <td>15.0</td>\n",
       "      <td>2.0</td>\n",
       "      <td>8.0</td>\n",
       "      <td>8.0</td>\n",
       "      <td>135.0</td>\n",
       "      <td>0.0</td>\n",
       "    </tr>\n",
       "    <tr>\n",
       "      <th>2</th>\n",
       "      <td>All-Bran</td>\n",
       "      <td>Kelloggs</td>\n",
       "      <td>70.0</td>\n",
       "      <td>4.0</td>\n",
       "      <td>1.0</td>\n",
       "      <td>260.0</td>\n",
       "      <td>9.0</td>\n",
       "      <td>7.0</td>\n",
       "      <td>5.0</td>\n",
       "      <td>320.0</td>\n",
       "      <td>25.0</td>\n",
       "    </tr>\n",
       "    <tr>\n",
       "      <th>3</th>\n",
       "      <td>All-Bran with Extra Fiber</td>\n",
       "      <td>Kelloggs</td>\n",
       "      <td>50.0</td>\n",
       "      <td>4.0</td>\n",
       "      <td>0.0</td>\n",
       "      <td>140.0</td>\n",
       "      <td>14.0</td>\n",
       "      <td>8.0</td>\n",
       "      <td>0.0</td>\n",
       "      <td>330.0</td>\n",
       "      <td>25.0</td>\n",
       "    </tr>\n",
       "    <tr>\n",
       "      <th>4</th>\n",
       "      <td>Apple Cinnamon Cheerios</td>\n",
       "      <td>General Mills</td>\n",
       "      <td>110.0</td>\n",
       "      <td>2.0</td>\n",
       "      <td>2.0</td>\n",
       "      <td>180.0</td>\n",
       "      <td>1.5</td>\n",
       "      <td>10.5</td>\n",
       "      <td>10.0</td>\n",
       "      <td>70.0</td>\n",
       "      <td>25.0</td>\n",
       "    </tr>\n",
       "    <tr>\n",
       "      <th>5</th>\n",
       "      <td>Apple Jacks</td>\n",
       "      <td>Kelloggs</td>\n",
       "      <td>110.0</td>\n",
       "      <td>2.0</td>\n",
       "      <td>0.0</td>\n",
       "      <td>125.0</td>\n",
       "      <td>1.0</td>\n",
       "      <td>11.0</td>\n",
       "      <td>14.0</td>\n",
       "      <td>30.0</td>\n",
       "      <td>25.0</td>\n",
       "    </tr>\n",
       "    <tr>\n",
       "      <th>6</th>\n",
       "      <td>Basic 4</td>\n",
       "      <td>General Mills</td>\n",
       "      <td>97.7</td>\n",
       "      <td>2.3</td>\n",
       "      <td>1.5</td>\n",
       "      <td>157.9</td>\n",
       "      <td>1.5</td>\n",
       "      <td>13.5</td>\n",
       "      <td>6.0</td>\n",
       "      <td>75.2</td>\n",
       "      <td>18.8</td>\n",
       "    </tr>\n",
       "    <tr>\n",
       "      <th>7</th>\n",
       "      <td>Bran Chex</td>\n",
       "      <td>Ralston Purina</td>\n",
       "      <td>90.0</td>\n",
       "      <td>2.0</td>\n",
       "      <td>1.0</td>\n",
       "      <td>200.0</td>\n",
       "      <td>4.0</td>\n",
       "      <td>15.0</td>\n",
       "      <td>6.0</td>\n",
       "      <td>125.0</td>\n",
       "      <td>25.0</td>\n",
       "    </tr>\n",
       "    <tr>\n",
       "      <th>8</th>\n",
       "      <td>Bran Flakes</td>\n",
       "      <td>Post</td>\n",
       "      <td>90.0</td>\n",
       "      <td>3.0</td>\n",
       "      <td>0.0</td>\n",
       "      <td>210.0</td>\n",
       "      <td>5.0</td>\n",
       "      <td>13.0</td>\n",
       "      <td>5.0</td>\n",
       "      <td>190.0</td>\n",
       "      <td>25.0</td>\n",
       "    </tr>\n",
       "    <tr>\n",
       "      <th>9</th>\n",
       "      <td>Cap'n'Crunch</td>\n",
       "      <td>Quaker Oats</td>\n",
       "      <td>120.0</td>\n",
       "      <td>1.0</td>\n",
       "      <td>2.0</td>\n",
       "      <td>220.0</td>\n",
       "      <td>0.0</td>\n",
       "      <td>12.0</td>\n",
       "      <td>12.0</td>\n",
       "      <td>35.0</td>\n",
       "      <td>25.0</td>\n",
       "    </tr>\n",
       "  </tbody>\n",
       "</table>\n",
       "</div>"
      ],
      "text/plain": [
       "                  Brand Name    Manufacturer  Calories  Protein  Fat  Sodium  \\\n",
       "0                  100% Bran         Nabisco      70.0      4.0  1.0   130.0   \n",
       "1          100% Natural Bran     Quaker Oats     120.0      3.0  5.0    15.0   \n",
       "2                   All-Bran        Kelloggs      70.0      4.0  1.0   260.0   \n",
       "3  All-Bran with Extra Fiber        Kelloggs      50.0      4.0  0.0   140.0   \n",
       "4    Apple Cinnamon Cheerios   General Mills     110.0      2.0  2.0   180.0   \n",
       "5                Apple Jacks        Kelloggs     110.0      2.0  0.0   125.0   \n",
       "6                    Basic 4   General Mills      97.7      2.3  1.5   157.9   \n",
       "7                  Bran Chex  Ralston Purina      90.0      2.0  1.0   200.0   \n",
       "8                Bran Flakes            Post      90.0      3.0  0.0   210.0   \n",
       "9               Cap'n'Crunch     Quaker Oats     120.0      1.0  2.0   220.0   \n",
       "\n",
       "   Fiber  Carbohydrates  Sugar  Potassium  Vitamins  \n",
       "0   10.0            5.0    6.0      280.0      25.0  \n",
       "1    2.0            8.0    8.0      135.0       0.0  \n",
       "2    9.0            7.0    5.0      320.0      25.0  \n",
       "3   14.0            8.0    0.0      330.0      25.0  \n",
       "4    1.5           10.5   10.0       70.0      25.0  \n",
       "5    1.0           11.0   14.0       30.0      25.0  \n",
       "6    1.5           13.5    6.0       75.2      18.8  \n",
       "7    4.0           15.0    6.0      125.0      25.0  \n",
       "8    5.0           13.0    5.0      190.0      25.0  \n",
       "9    0.0           12.0   12.0       35.0      25.0  "
      ]
     },
     "execution_count": 13,
     "metadata": {},
     "output_type": "execute_result"
    }
   ],
   "source": [
    "data=pd.read_csv('breakfast_cereals.csv')\n",
    "data.head(10)"
   ]
  },
  {
   "cell_type": "markdown",
   "metadata": {},
   "source": [
    "Pre-Processing Data to get cereals by manufacturer."
   ]
  },
  {
   "cell_type": "code",
   "execution_count": 14,
   "metadata": {},
   "outputs": [],
   "source": [
    "import csv\n",
    "import operator\n",
    "sample = open('breakfast_cereals.csv')\n",
    "csv1 = csv.reader(sample, delimiter = ',')\n",
    "sorted_cereals = sorted(csv1, key=operator.itemgetter(1))\n",
    "\n",
    "header = ['Brand Name', 'Manufacturer', 'Calories', 'Protein', 'Fat', 'Sodium', 'Fiber', 'Carbohydrates', 'Sugar', 'Potassium', 'Vitamins']\n",
    "df = pd.DataFrame(sorted_cereals)\n",
    "\n",
    "df.columns = header\n",
    "cereals_df = df.drop([45])\n",
    "\n",
    "df1= cereals_df.iloc[:22,:] #General Mills 22\n",
    "df2= cereals_df.iloc[22:45,:] #Kelloggs \n",
    "df3= cereals_df.iloc[45:51,:] #Nabisco (46 start)\n",
    "df4= cereals_df.iloc[51:60,:] #Post\n",
    "df5= cereals_df.iloc[60:67,:] #Quaker Oats\n",
    "df6= cereals_df.iloc[67:73,:] #Ralston Purina"
   ]
  },
  {
   "cell_type": "code",
   "execution_count": 23,
   "metadata": {},
   "outputs": [],
   "source": [
    "target = data[\"Calories\"]\n",
    "features = data.drop(columns=(['Brand Name','Manufacturer','Calories']))\n"
   ]
  },
  {
   "cell_type": "code",
   "execution_count": 24,
   "metadata": {},
   "outputs": [
    {
     "data": {
      "text/plain": [
       "[<matplotlib.lines.Line2D at 0x7f4e5b4f4e48>]"
      ]
     },
     "execution_count": 24,
     "metadata": {},
     "output_type": "execute_result"
    },
    {
     "data": {
      "image/png": "[encoded data removed]",
      "text/plain": [
       "<matplotlib.figure.Figure at 0x7f4e5d727978>"
      ]
     },
     "metadata": {
      "needs_background": "light"
     },
     "output_type": "display_data"
    }
   ],
   "source": [
    "cluster = range(1,15)\n",
    "meandist = []\n",
    "\n",
    "\n",
    "for k in cluster:\n",
    "    model=KMeans(n_clusters=k)\n",
    "    model.fit(features)\n",
    "    cluassign=model.predict(features)\n",
    "    meandist.append(sum(np.min(cdist(features, model.cluster_centers_, 'euclidean'),axis=1))/features.shape[0])\n",
    "plt.plot(cluster,meandist)"
   ]
  },
  {
   "cell_type": "markdown",
   "metadata": {},
   "source": [
    "Form this graph using the elbow method we can see that a k-value of 6 to 8 is the best number of clusters for what we are doing."
   ]
  },
  {
   "cell_type": "code",
   "execution_count": null,
   "metadata": {},
   "outputs": [],
   "source": []
  },
  {
   "cell_type": "code",
   "execution_count": 48,
   "metadata": {},
   "outputs": [
    {
     "data": {
      "image/png": "[encoded data removed]",
      "text/plain": [
       "<matplotlib.figure.Figure at 0x7f4e5afe06d8>"
      ]
     },
     "metadata": {
      "needs_background": "light"
     },
     "output_type": "display_data"
    }
   ],
   "source": [
    "pca = PCA(n_components=8).fit(features)\n",
    "pca_2d = pca.transform(features)\n",
    "\n",
    "\n",
    "kmeans = KMeans(n_clusters=6)\n",
    "kmeans.fit(features)\n",
    "\n",
    "for i in range(0, pca_2d.shape[0]):\n",
    "    if kmeans.labels_[i] == 1:\n",
    "        c1 = pl.scatter(pca_2d[i,0], pca_2d[i, 1], c='r', marker='+')\n",
    "    elif kmeans.labels_[i] == 0:\n",
    "        c2 = pl.scatter(pca_2d[i,0], pca_2d[i, 1], c='g', marker='o')\n",
    "    elif kmeans.labels_[i] == 2:\n",
    "        c3 = pl.scatter(pca_2d[i,0], pca_2d[i, 1], c='g', marker='x')\n",
    "    elif kmeans.labels_[i] == 3:\n",
    "        c4 = pl.scatter(pca_2d[i,0], pca_2d[i, 1], c='b', marker='o')\n",
    "    elif kmeans.labels_[i] == 4:\n",
    "        c5 = pl.scatter(pca_2d[i,0], pca_2d[i, 1], c='r', marker='o')\n",
    "    elif kmeans.labels_[i] == 5:\n",
    "        c6 = pl.scatter(pca_2d[i,0], pca_2d[i, 1], c='y', marker='o')\n",
    "pl.legend([c1, c2, c3, c4,c5,c6], ['Cluster 2', 'Cluster 1', 'Cluster 3','Cluster 4','Cluster 5',\"Cluster 6\"])\n",
    "pl.title('Unsupervised Cluster Learn')\n",
    "pl.show()"
   ]
  },
  {
   "cell_type": "markdown",
   "metadata": {},
   "source": [
    "These clusters match up slightly to the 3-D Visulalization that we provided inthe visualization notebook. The cluster to the bottom left in this diagram matched up with the cluster of Nabisco cereals in the 3-D graph. The Nabisco cereals were pretty healthy becuase their sodium count was low which can be an indication of a healthier cereal.\n",
    "\n",
    "We used PCA becuase it would be very difficult to diagram all of the features(calories, protein, fat, sodium, fiber, carbs, potassium, vitamins) because making graphs in dimensions higher than 3 can be difficult. The PCA takes higher dimensional data and puts in 2 dimensions so it is easier to visualize.\n",
    "\n",
    "We chose K-Means over KNN becuase we wanted classification model that could run unsupervised, we did not want to overfit our data given the knowledge that we had of the 6 manufacteres that were included in the cereals dataset. With K-Means we can choose the number of clusters based on the data which we did using the elbow method. While the elbow method showed that we could use between 6 and 8 centroids, where the plot started plateauing."
   ]
  },
  {
   "cell_type": "code",
   "execution_count": null,
   "metadata": {},
   "outputs": [],
   "source": []
  },
  {
   "cell_type": "code",
   "execution_count": null,
   "metadata": {},
   "outputs": [],
   "source": []
  },
  {
   "cell_type": "code",
   "execution_count": null,
   "metadata": {},
   "outputs": [],
   "source": []
  }
 ],
 "metadata": {
  "kernelspec": {
   "display_name": "Python 3",
   "language": "python",
   "name": "python3"
  },
  "language_info": {
   "codemirror_mode": {
    "name": "ipython",
    "version": 3
   },
   "file_extension": ".py",
   "mimetype": "text/x-python",
   "name": "python",
   "nbconvert_exporter": "python",
   "pygments_lexer": "ipython3",
   "version": "3.7.1"
  }
 },
 "nbformat": 4,
 "nbformat_minor": 2
}
