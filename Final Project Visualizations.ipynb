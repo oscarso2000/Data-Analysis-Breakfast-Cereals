{
 "cells": [
  {
   "cell_type": "code",
   "execution_count": 1,
   "metadata": {},
   "outputs": [
    {
     "data": {
      "text/html": [
       "        <script type=\"text/javascript\">\n",
       "        window.PlotlyConfig = {MathJaxConfig: 'local'};\n",
       "        if (window.MathJax) {MathJax.Hub.Config({SVG: {font: \"STIX-Web\"}});}\n",
       "        if (typeof require !== 'undefined') {\n",
       "        require.undef(\"plotly\");\n",
       "        requirejs.config({\n",
       "            paths: {\n",
       "                'plotly': ['https://cdn.plot.ly/plotly-latest.min']\n",
       "            }\n",
       "        });\n",
       "        require(['plotly'], function(Plotly) {\n",
       "            window._Plotly = Plotly;\n",
       "        });\n",
       "        }\n",
       "        </script>\n",
       "        "
      ]
     },
     "metadata": {},
     "output_type": "display_data"
    }
   ],
   "source": [
    "import pandas as pd\n",
    "import numpy as np\n",
    "import matplotlib.pyplot as plt\n",
    "import seaborn as sns\n",
    "import plotly as py\n",
    "py.offline.init_notebook_mode(connected=True)\n",
    "%matplotlib inline\n",
    "\n",
    "##Dear Grader: IF you cannot see our graphs, please remember to pip all the libraries, including matplotlib and plotly... "
   ]
  },
  {
   "cell_type": "markdown",
   "metadata": {},
   "source": [
    "Breakfast is an important meal and cereal is a breakfast option that is both fast and easy to ration. For health concious people who do not want to go through the task of prepping meals to go can look to cereals for an easy on-th-go option. Comparing and visualizing relationships between micro and macro nutrients is important for people who wish to fine tune a diet to meet their health goals."
   ]
  },
  {
   "cell_type": "code",
   "execution_count": 2,
   "metadata": {},
   "outputs": [],
   "source": [
    "data=pd.read_csv('breakfast_cereals.csv')"
   ]
  },
  {
   "cell_type": "code",
   "execution_count": 3,
   "metadata": {},
   "outputs": [
    {
     "data": {
      "text/html": [
       "<div>\n",
       "<style scoped>\n",
       "    .dataframe tbody tr th:only-of-type {\n",
       "        vertical-align: middle;\n",
       "    }\n",
       "\n",
       "    .dataframe tbody tr th {\n",
       "        vertical-align: top;\n",
       "    }\n",
       "\n",
       "    .dataframe thead th {\n",
       "        text-align: right;\n",
       "    }\n",
       "</style>\n",
       "<table border=\"1\" class=\"dataframe\">\n",
       "  <thead>\n",
       "    <tr style=\"text-align: right;\">\n",
       "      <th></th>\n",
       "      <th>Brand Name</th>\n",
       "      <th>Manufacturer</th>\n",
       "      <th>Calories</th>\n",
       "      <th>Protein</th>\n",
       "      <th>Fat</th>\n",
       "      <th>Sodium</th>\n",
       "      <th>Fiber</th>\n",
       "      <th>Carbohydrates</th>\n",
       "      <th>Sugar</th>\n",
       "      <th>Potassium</th>\n",
       "      <th>Vitamins</th>\n",
       "    </tr>\n",
       "  </thead>\n",
       "  <tbody>\n",
       "    <tr>\n",
       "      <th>0</th>\n",
       "      <td>100% Bran</td>\n",
       "      <td>Nabisco</td>\n",
       "      <td>70.0</td>\n",
       "      <td>4.0</td>\n",
       "      <td>1.0</td>\n",
       "      <td>130.0</td>\n",
       "      <td>10.0</td>\n",
       "      <td>5.0</td>\n",
       "      <td>6.0</td>\n",
       "      <td>280.0</td>\n",
       "      <td>25.0</td>\n",
       "    </tr>\n",
       "    <tr>\n",
       "      <th>1</th>\n",
       "      <td>100% Natural Bran</td>\n",
       "      <td>Quaker Oats</td>\n",
       "      <td>120.0</td>\n",
       "      <td>3.0</td>\n",
       "      <td>5.0</td>\n",
       "      <td>15.0</td>\n",
       "      <td>2.0</td>\n",
       "      <td>8.0</td>\n",
       "      <td>8.0</td>\n",
       "      <td>135.0</td>\n",
       "      <td>0.0</td>\n",
       "    </tr>\n",
       "    <tr>\n",
       "      <th>2</th>\n",
       "      <td>All-Bran</td>\n",
       "      <td>Kelloggs</td>\n",
       "      <td>70.0</td>\n",
       "      <td>4.0</td>\n",
       "      <td>1.0</td>\n",
       "      <td>260.0</td>\n",
       "      <td>9.0</td>\n",
       "      <td>7.0</td>\n",
       "      <td>5.0</td>\n",
       "      <td>320.0</td>\n",
       "      <td>25.0</td>\n",
       "    </tr>\n",
       "    <tr>\n",
       "      <th>3</th>\n",
       "      <td>All-Bran with Extra Fiber</td>\n",
       "      <td>Kelloggs</td>\n",
       "      <td>50.0</td>\n",
       "      <td>4.0</td>\n",
       "      <td>0.0</td>\n",
       "      <td>140.0</td>\n",
       "      <td>14.0</td>\n",
       "      <td>8.0</td>\n",
       "      <td>0.0</td>\n",
       "      <td>330.0</td>\n",
       "      <td>25.0</td>\n",
       "    </tr>\n",
       "    <tr>\n",
       "      <th>4</th>\n",
       "      <td>Apple Cinnamon Cheerios</td>\n",
       "      <td>General Mills</td>\n",
       "      <td>110.0</td>\n",
       "      <td>2.0</td>\n",
       "      <td>2.0</td>\n",
       "      <td>180.0</td>\n",
       "      <td>1.5</td>\n",
       "      <td>10.5</td>\n",
       "      <td>10.0</td>\n",
       "      <td>70.0</td>\n",
       "      <td>25.0</td>\n",
       "    </tr>\n",
       "  </tbody>\n",
       "</table>\n",
       "</div>"
      ],
      "text/plain": [
       "                  Brand Name   Manufacturer  Calories  Protein  Fat  Sodium  \\\n",
       "0                  100% Bran        Nabisco      70.0      4.0  1.0   130.0   \n",
       "1          100% Natural Bran    Quaker Oats     120.0      3.0  5.0    15.0   \n",
       "2                   All-Bran       Kelloggs      70.0      4.0  1.0   260.0   \n",
       "3  All-Bran with Extra Fiber       Kelloggs      50.0      4.0  0.0   140.0   \n",
       "4    Apple Cinnamon Cheerios  General Mills     110.0      2.0  2.0   180.0   \n",
       "\n",
       "   Fiber  Carbohydrates  Sugar  Potassium  Vitamins  \n",
       "0   10.0            5.0    6.0      280.0      25.0  \n",
       "1    2.0            8.0    8.0      135.0       0.0  \n",
       "2    9.0            7.0    5.0      320.0      25.0  \n",
       "3   14.0            8.0    0.0      330.0      25.0  \n",
       "4    1.5           10.5   10.0       70.0      25.0  "
      ]
     },
     "execution_count": 3,
     "metadata": {},
     "output_type": "execute_result"
    }
   ],
   "source": [
    "data.head(5)"
   ]
  },
  {
   "cell_type": "code",
   "execution_count": 4,
   "metadata": {},
   "outputs": [
    {
     "data": {
      "text/html": [
       "<div>\n",
       "<style scoped>\n",
       "    .dataframe tbody tr th:only-of-type {\n",
       "        vertical-align: middle;\n",
       "    }\n",
       "\n",
       "    .dataframe tbody tr th {\n",
       "        vertical-align: top;\n",
       "    }\n",
       "\n",
       "    .dataframe thead th {\n",
       "        text-align: right;\n",
       "    }\n",
       "</style>\n",
       "<table border=\"1\" class=\"dataframe\">\n",
       "  <thead>\n",
       "    <tr style=\"text-align: right;\">\n",
       "      <th></th>\n",
       "      <th>Calories</th>\n",
       "      <th>Protein</th>\n",
       "      <th>Fat</th>\n",
       "      <th>Sodium</th>\n",
       "      <th>Fiber</th>\n",
       "      <th>Carbohydrates</th>\n",
       "      <th>Sugar</th>\n",
       "      <th>Potassium</th>\n",
       "      <th>Vitamins</th>\n",
       "    </tr>\n",
       "  </thead>\n",
       "  <tbody>\n",
       "    <tr>\n",
       "      <th>count</th>\n",
       "      <td>73.000000</td>\n",
       "      <td>73.000000</td>\n",
       "      <td>73.000000</td>\n",
       "      <td>73.000000</td>\n",
       "      <td>73.000000</td>\n",
       "      <td>73.000000</td>\n",
       "      <td>73.000000</td>\n",
       "      <td>73.000000</td>\n",
       "      <td>73.000000</td>\n",
       "    </tr>\n",
       "    <tr>\n",
       "      <th>mean</th>\n",
       "      <td>104.078082</td>\n",
       "      <td>2.438356</td>\n",
       "      <td>0.953425</td>\n",
       "      <td>157.926027</td>\n",
       "      <td>2.101370</td>\n",
       "      <td>14.527397</td>\n",
       "      <td>6.776712</td>\n",
       "      <td>93.635616</td>\n",
       "      <td>27.661644</td>\n",
       "    </tr>\n",
       "    <tr>\n",
       "      <th>std</th>\n",
       "      <td>14.191882</td>\n",
       "      <td>1.054044</td>\n",
       "      <td>0.988557</td>\n",
       "      <td>80.322520</td>\n",
       "      <td>2.345237</td>\n",
       "      <td>4.247328</td>\n",
       "      <td>4.075146</td>\n",
       "      <td>64.489447</td>\n",
       "      <td>20.573862</td>\n",
       "    </tr>\n",
       "    <tr>\n",
       "      <th>min</th>\n",
       "      <td>50.000000</td>\n",
       "      <td>1.000000</td>\n",
       "      <td>0.000000</td>\n",
       "      <td>0.000000</td>\n",
       "      <td>0.000000</td>\n",
       "      <td>5.000000</td>\n",
       "      <td>0.000000</td>\n",
       "      <td>20.000000</td>\n",
       "      <td>0.000000</td>\n",
       "    </tr>\n",
       "    <tr>\n",
       "      <th>25%</th>\n",
       "      <td>100.000000</td>\n",
       "      <td>2.000000</td>\n",
       "      <td>0.000000</td>\n",
       "      <td>128.000000</td>\n",
       "      <td>1.000000</td>\n",
       "      <td>11.300000</td>\n",
       "      <td>3.000000</td>\n",
       "      <td>40.000000</td>\n",
       "      <td>25.000000</td>\n",
       "    </tr>\n",
       "    <tr>\n",
       "      <th>50%</th>\n",
       "      <td>107.700000</td>\n",
       "      <td>2.000000</td>\n",
       "      <td>1.000000</td>\n",
       "      <td>165.400000</td>\n",
       "      <td>2.000000</td>\n",
       "      <td>14.000000</td>\n",
       "      <td>6.000000</td>\n",
       "      <td>90.000000</td>\n",
       "      <td>25.000000</td>\n",
       "    </tr>\n",
       "    <tr>\n",
       "      <th>75%</th>\n",
       "      <td>110.000000</td>\n",
       "      <td>3.000000</td>\n",
       "      <td>1.000000</td>\n",
       "      <td>210.000000</td>\n",
       "      <td>3.000000</td>\n",
       "      <td>17.000000</td>\n",
       "      <td>10.000000</td>\n",
       "      <td>115.000000</td>\n",
       "      <td>25.000000</td>\n",
       "    </tr>\n",
       "    <tr>\n",
       "      <th>max</th>\n",
       "      <td>150.000000</td>\n",
       "      <td>6.000000</td>\n",
       "      <td>5.000000</td>\n",
       "      <td>320.000000</td>\n",
       "      <td>14.000000</td>\n",
       "      <td>26.000000</td>\n",
       "      <td>15.000000</td>\n",
       "      <td>330.000000</td>\n",
       "      <td>100.000000</td>\n",
       "    </tr>\n",
       "  </tbody>\n",
       "</table>\n",
       "</div>"
      ],
      "text/plain": [
       "         Calories    Protein        Fat      Sodium      Fiber  Carbohydrates  \\\n",
       "count   73.000000  73.000000  73.000000   73.000000  73.000000      73.000000   \n",
       "mean   104.078082   2.438356   0.953425  157.926027   2.101370      14.527397   \n",
       "std     14.191882   1.054044   0.988557   80.322520   2.345237       4.247328   \n",
       "min     50.000000   1.000000   0.000000    0.000000   0.000000       5.000000   \n",
       "25%    100.000000   2.000000   0.000000  128.000000   1.000000      11.300000   \n",
       "50%    107.700000   2.000000   1.000000  165.400000   2.000000      14.000000   \n",
       "75%    110.000000   3.000000   1.000000  210.000000   3.000000      17.000000   \n",
       "max    150.000000   6.000000   5.000000  320.000000  14.000000      26.000000   \n",
       "\n",
       "           Sugar   Potassium    Vitamins  \n",
       "count  73.000000   73.000000   73.000000  \n",
       "mean    6.776712   93.635616   27.661644  \n",
       "std     4.075146   64.489447   20.573862  \n",
       "min     0.000000   20.000000    0.000000  \n",
       "25%     3.000000   40.000000   25.000000  \n",
       "50%     6.000000   90.000000   25.000000  \n",
       "75%    10.000000  115.000000   25.000000  \n",
       "max    15.000000  330.000000  100.000000  "
      ]
     },
     "execution_count": 4,
     "metadata": {},
     "output_type": "execute_result"
    }
   ],
   "source": [
    "data.describe()"
   ]
  },
  {
   "cell_type": "code",
   "execution_count": 5,
   "metadata": {},
   "outputs": [],
   "source": [
    "import csv\n",
    "import operator\n",
    "sample = open('breakfast_cereals.csv')\n",
    "csv1 = csv.reader(sample, delimiter = ',')\n",
    "sorted_cereals = sorted(csv1, key=operator.itemgetter(1)) #sort by Manufacturer Name (we know there are 6)"
   ]
  },
  {
   "cell_type": "code",
   "execution_count": 6,
   "metadata": {},
   "outputs": [
    {
     "name": "stdout",
     "output_type": "stream",
     "text": [
      "Manufacturer: General Mills , Index: 0\n",
      "Manufacturer: Kelloggs , Index: 22\n",
      "Manufacturer: Manufacturer , Index: 45\n",
      "Manufacturer: Nabisco , Index: 46\n",
      "Manufacturer: Post , Index: 51\n",
      "Manufacturer: Quaker Oats , Index: 60\n",
      "Manufacturer: Ralston Purina , Index: 67\n"
     ]
    }
   ],
   "source": [
    "change = \" \"\n",
    "for i in range(73):\n",
    "    if (change != (sorted_cereals[i][1])):\n",
    "        print (\"Manufacturer:\", sorted_cereals[i][1], \", Index:\", i)\n",
    "        change = sorted_cereals[i][1]"
   ]
  },
  {
   "cell_type": "code",
   "execution_count": 7,
   "metadata": {},
   "outputs": [],
   "source": [
    "header = ['Brand Name', 'Manufacturer', 'Calories', 'Protein', 'Fat', 'Sodium', 'Fiber', 'Carbohydrates', 'Sugar', 'Potassium', 'Vitamins']\n",
    "df = pd.DataFrame(sorted_cereals)"
   ]
  },
  {
   "cell_type": "code",
   "execution_count": 8,
   "metadata": {},
   "outputs": [],
   "source": [
    "df.columns = header\n",
    "cereals_df = df.drop([45])"
   ]
  },
  {
   "cell_type": "code",
   "execution_count": 9,
   "metadata": {},
   "outputs": [],
   "source": [
    "import plotly.graph_objs as go"
   ]
  },
  {
   "cell_type": "code",
   "execution_count": 10,
   "metadata": {},
   "outputs": [],
   "source": [
    "df1= cereals_df.iloc[:22,:] #General Mills 22\n",
    "df2= cereals_df.iloc[22:45,:] #Kelloggs \n",
    "df3= cereals_df.iloc[45:50,:] #Nabisco (46 start)\n",
    "df4= cereals_df.iloc[50:59,:] #Post\n",
    "df5= cereals_df.iloc[59:66,:] #Quaker Oats\n",
    "df6= cereals_df.iloc[66:73,:] #Ralston Purina"
   ]
  },
  {
   "cell_type": "code",
   "execution_count": 11,
   "metadata": {},
   "outputs": [
    {
     "name": "stdout",
     "output_type": "stream",
     "text": [
      "   Sugar  Fat  Count\n",
      "0    1.0  2.0      1\n",
      "1   10.0  1.0      2\n",
      "2   10.0  2.0      1\n",
      "3   12.0  1.0      2\n",
      "4   13.0  1.0      2\n",
      "5    3.0  1.0      5\n",
      "6    6.0  1.0      1\n",
      "7    6.0  1.5      1\n",
      "8    7.0  2.0      1\n",
      "9    8.0  1.0      1\n",
      "10   8.0  1.6      1\n",
      "11   8.0  2.0      1\n",
      "12   9.0  1.0      1\n",
      "13   9.0  3.0      1\n",
      "14   9.3  0.7      1\n"
     ]
    }
   ],
   "source": [
    "doc = df1.groupby(['Sugar','Fat']).size().reset_index(name='Count')\n",
    "print (doc) #TODO: try to add a count"
   ]
  },
  {
   "cell_type": "code",
   "execution_count": 12,
   "metadata": {},
   "outputs": [],
   "source": [
    "trace1 = go.Scatter(\n",
    "    #x=x-axis\n",
    "    x= df1.Sugar,\n",
    "    #y=y-axis\n",
    "    y= df1.Fat,\n",
    "    #mode defines the type of plot eg-lines,markers,line+markers\n",
    "    mode='markers',\n",
    "    #name pf the plots\n",
    "    name='General Mills',\n",
    "    #markers->color and alpha of the respective trace\n",
    "    marker=dict(color = 'rgba(12, 112, 212, 0.8)'),\n",
    "    #the hover text\n",
    "    text=df1.Manufacturer)\n",
    "trace2 = go.Scatter(\n",
    "    x=df2.Sugar,\n",
    "    y=df2.Fat,\n",
    "    mode='markers',\n",
    "    name='Kelloggs',\n",
    "    marker=dict(color = 'rgba(11, 209, 208, 0.8)'),\n",
    "    text=df2.Manufacturer)\n",
    "trace3 = go.Scatter(\n",
    "    x=df3.Sugar,\n",
    "    y=df3.Fat,\n",
    "    mode='markers',\n",
    "    name='Nabisco',\n",
    "    marker=dict(color = 'rgba(183, 98, 65, 0.8)'),\n",
    "    text=df3.Manufacturer)\n",
    "trace4 = go.Scatter(\n",
    "    x=df4.Sugar,\n",
    "    y=df4.Fat,\n",
    "    mode='markers',\n",
    "    name='Post',\n",
    "    marker=dict(color = 'rgba(23, 50, 170, 0.8)'),\n",
    "    text=df4.Manufacturer)\n",
    "trace5 = go.Scatter(\n",
    "    x=df5.Sugar,\n",
    "    y=df5.Fat,\n",
    "    mode='markers',\n",
    "    name='Quaker Oats',\n",
    "    marker=dict(color = 'rgba(123, 123, 10, 0.8)'),\n",
    "    text=df5.Manufacturer)\n",
    "trace6 = go.Scatter(\n",
    "    x=df6.Sugar,\n",
    "    y=df6.Fat,\n",
    "    mode='markers',\n",
    "    name='Ralston Purina',\n",
    "    marker=dict(color = 'rgba(80, 198, 65, 0.8)'),\n",
    "    text=df6.Manufacturer)"
   ]
  },
  {
   "cell_type": "code",
   "execution_count": 13,
   "metadata": {},
   "outputs": [],
   "source": [
    "data_list=[trace1,trace2,trace3,trace4,trace5,trace6]"
   ]
  },
  {
   "cell_type": "code",
   "execution_count": 14,
   "metadata": {},
   "outputs": [],
   "source": [
    "layout=dict(title='Fat vs Sugar',\n",
    "               xaxis=dict(title='Sugar',ticklen=5,zeroline=False),\n",
    "               yaxis=dict(title='Fat',ticklen=5,zeroline=False)\n",
    "            )"
   ]
  },
  {
   "cell_type": "code",
   "execution_count": 15,
   "metadata": {},
   "outputs": [],
   "source": [
    "fig=dict(data=data_list,layout=layout)"
   ]
  },
  {
   "cell_type": "code",
   "execution_count": 16,
   "metadata": {},
   "outputs": [
    {
     "data": {
      "application/vnd.plotly.v1+json": {
       "config": {
        "linkText": "Export to plot.ly",
        "plotlyServerURL": "https://plot.ly",
        "responsive": true,
        "showLink": false
       },
       "data": [
        {
         "marker": {
          "color": "rgba(12, 112, 212, 0.8)"
         },
         "mode": "markers",
         "name": "General Mills",
         "text": [
          "General Mills",
          "General Mills",
          "General Mills",
          "General Mills",
          "General Mills",
          "General Mills",
          "General Mills",
          "General Mills",
          "General Mills",
          "General Mills",
          "General Mills",
          "General Mills",
          "General Mills",
          "General Mills",
          "General Mills",
          "General Mills",
          "General Mills",
          "General Mills",
          "General Mills",
          "General Mills",
          "General Mills",
          "General Mills"
         ],
         "type": "scatter",
         "uid": "415e64d1-ebbd-4fd7-a0bd-c6c4d919f0ac",
         "x": [
          "10.0",
          "6.0",
          "1.0",
          "9.0",
          "7.0",
          "13.0",
          "13.0",
          "10.0",
          "9.0",
          "10.0",
          "3.0",
          "12.0",
          "6.0",
          "8.0",
          "8.0",
          "3.0",
          "9.3",
          "3.0",
          "3.0",
          "12.0",
          "3.0",
          "8.0"
         ],
         "y": [
          "2.0",
          "1.5",
          "2.0",
          "3.0",
          "2.0",
          "1.0",
          "1.0",
          "1.0",
          "1.0",
          "1.0",
          "1.0",
          "1.0",
          "1.0",
          "1.6",
          "2.0",
          "1.0",
          "0.7",
          "1.0",
          "1.0",
          "1.0",
          "1.0",
          "1.0"
         ]
        },
        {
         "marker": {
          "color": "rgba(11, 209, 208, 0.8)"
         },
         "mode": "markers",
         "name": "Kelloggs",
         "text": [
          "Kelloggs",
          "Kelloggs",
          "Kelloggs",
          "Kelloggs",
          "Kelloggs",
          "Kelloggs",
          "Kelloggs",
          "Kelloggs",
          "Kelloggs",
          "Kelloggs",
          "Kelloggs",
          "Kelloggs",
          "Kelloggs",
          "Kelloggs",
          "Kelloggs",
          "Kelloggs",
          "Kelloggs",
          "Kelloggs",
          "Kelloggs",
          "Kelloggs",
          "Kelloggs",
          "Kelloggs",
          "Kelloggs"
         ],
         "type": "scatter",
         "uid": "4908ed68-e83d-4740-a72b-6998d27e8d25",
         "x": [
          "5.0",
          "0.0",
          "14.0",
          "2.0",
          "12.0",
          "7.0",
          "3.0",
          "13.0",
          "11.0",
          "7.0",
          "9.0",
          "6.0",
          "6.9",
          "8.7",
          "9.0",
          "5.3",
          "2.0",
          "3.0",
          "9.0",
          "6.0",
          "3.0",
          "15.0",
          "3.0"
         ],
         "y": [
          "1.0",
          "0.0",
          "0.0",
          "0.0",
          "0.0",
          "3.0",
          "0.0",
          "1.0",
          "0.0",
          "0.0",
          "0.0",
          "1.0",
          "0.8",
          "1.3",
          "1.0",
          "1.5",
          "0.0",
          "0.0",
          "0.8",
          "0.0",
          "0.0",
          "1.0",
          "0.0"
         ]
        },
        {
         "marker": {
          "color": "rgba(183, 98, 65, 0.8)"
         },
         "mode": "markers",
         "name": "Nabisco",
         "text": [
          "Nabisco",
          "Nabisco",
          "Nabisco",
          "Nabisco",
          "Nabisco"
         ],
         "type": "scatter",
         "uid": "166ab6f2-444c-47e3-a558-dc8e143023ea",
         "x": [
          "6.0",
          "0.0",
          "0.0",
          "0.0",
          "5.0"
         ],
         "y": [
          "1.0",
          "0.0",
          "0.0",
          "0.0",
          "0.0"
         ]
        },
        {
         "marker": {
          "color": "rgba(23, 50, 170, 0.8)"
         },
         "mode": "markers",
         "name": "Post",
         "text": [
          "Post",
          "Post",
          "Post",
          "Post",
          "Post",
          "Post",
          "Post",
          "Post",
          "Post"
         ],
         "type": "scatter",
         "uid": "096d20ef-cb9d-4020-ba53-34ae28eb63e1",
         "x": [
          "5.0",
          "8.0",
          "12.0",
          "15.0",
          "5.0",
          "3.0",
          "4.0",
          "11.0",
          "10.5"
         ],
         "y": [
          "0.0",
          "1.6",
          "1.0",
          "0.0",
          "1.0",
          "0.0",
          "3.0",
          "0.0",
          "0.8"
         ]
        },
        {
         "marker": {
          "color": "rgba(123, 123, 10, 0.8)"
         },
         "mode": "markers",
         "name": "Quaker Oats",
         "text": [
          "Quaker Oats",
          "Quaker Oats",
          "Quaker Oats",
          "Quaker Oats",
          "Quaker Oats",
          "Quaker Oats",
          "Quaker Oats"
         ],
         "type": "scatter",
         "uid": "a18c0509-b6e5-481e-b6ee-54f0ac562030",
         "x": [
          "8.0",
          "12.0",
          "11.0",
          "6.0",
          "0.0",
          "0.0",
          "6.0"
         ],
         "y": [
          "5.0",
          "2.0",
          "2.0",
          "2.0",
          "0.0",
          "0.0",
          "1.0"
         ]
        },
        {
         "marker": {
          "color": "rgba(80, 198, 65, 0.8)"
         },
         "mode": "markers",
         "name": "Ralston Purina",
         "text": [
          "Ralston Purina",
          "Ralston Purina",
          "Ralston Purina",
          "Ralston Purina",
          "Ralston Purina",
          "Ralston Purina",
          "Ralston Purina"
         ],
         "type": "scatter",
         "uid": "ac368c54-c84e-4518-a630-d9f7036b810b",
         "x": [
          "6.0",
          "3.0",
          "5.0",
          "11.0",
          "11.0",
          "2.0",
          "3.0"
         ],
         "y": [
          "1.0",
          "0.0",
          "0.0",
          "3.0",
          "3.0",
          "0.0",
          "1.0"
         ]
        }
       ],
       "layout": {
        "title": {
         "text": "Fat vs Sugar"
        },
        "xaxis": {
         "ticklen": 5,
         "title": {
          "text": "Sugar"
         },
         "zeroline": false
        },
        "yaxis": {
         "ticklen": 5,
         "title": {
          "text": "Fat"
         },
         "zeroline": false
        }
       }
      },
      "text/html": [
       "<div>\n",
       "        \n",
       "        \n",
       "            <div id=\"f48778c7-978e-4508-ba12-2a5fc733805d\" class=\"plotly-graph-div\" style=\"height:525px; width:100%;\"></div>\n",
       "            <script type=\"text/javascript\">\n",
       "                require([\"plotly\"], function(Plotly) {\n",
       "                    window.PLOTLYENV=window.PLOTLYENV || {};\n",
       "                    window.PLOTLYENV.BASE_URL='https://plot.ly';\n",
       "                    \n",
       "                if (document.getElementById(\"f48778c7-978e-4508-ba12-2a5fc733805d\")) {\n",
       "                    Plotly.newPlot(\n",
       "                        'f48778c7-978e-4508-ba12-2a5fc733805d',\n",
       "                        [{\"marker\": {\"color\": \"rgba(12, 112, 212, 0.8)\"}, \"mode\": \"markers\", \"name\": \"General Mills\", \"text\": [\"General Mills\", \"General Mills\", \"General Mills\", \"General Mills\", \"General Mills\", \"General Mills\", \"General Mills\", \"General Mills\", \"General Mills\", \"General Mills\", \"General Mills\", \"General Mills\", \"General Mills\", \"General Mills\", \"General Mills\", \"General Mills\", \"General Mills\", \"General Mills\", \"General Mills\", \"General Mills\", \"General Mills\", \"General Mills\"], \"type\": \"scatter\", \"uid\": \"8a6c6c26-e416-41b3-a1ca-1d90a19fc4a2\", \"x\": [\"10.0\", \"6.0\", \"1.0\", \"9.0\", \"7.0\", \"13.0\", \"13.0\", \"10.0\", \"9.0\", \"10.0\", \"3.0\", \"12.0\", \"6.0\", \"8.0\", \"8.0\", \"3.0\", \"9.3\", \"3.0\", \"3.0\", \"12.0\", \"3.0\", \"8.0\"], \"y\": [\"2.0\", \"1.5\", \"2.0\", \"3.0\", \"2.0\", \"1.0\", \"1.0\", \"1.0\", \"1.0\", \"1.0\", \"1.0\", \"1.0\", \"1.0\", \"1.6\", \"2.0\", \"1.0\", \"0.7\", \"1.0\", \"1.0\", \"1.0\", \"1.0\", \"1.0\"]}, {\"marker\": {\"color\": \"rgba(11, 209, 208, 0.8)\"}, \"mode\": \"markers\", \"name\": \"Kelloggs\", \"text\": [\"Kelloggs\", \"Kelloggs\", \"Kelloggs\", \"Kelloggs\", \"Kelloggs\", \"Kelloggs\", \"Kelloggs\", \"Kelloggs\", \"Kelloggs\", \"Kelloggs\", \"Kelloggs\", \"Kelloggs\", \"Kelloggs\", \"Kelloggs\", \"Kelloggs\", \"Kelloggs\", \"Kelloggs\", \"Kelloggs\", \"Kelloggs\", \"Kelloggs\", \"Kelloggs\", \"Kelloggs\", \"Kelloggs\"], \"type\": \"scatter\", \"uid\": \"44b8d126-e8d4-4763-afed-4228bbac7634\", \"x\": [\"5.0\", \"0.0\", \"14.0\", \"2.0\", \"12.0\", \"7.0\", \"3.0\", \"13.0\", \"11.0\", \"7.0\", \"9.0\", \"6.0\", \"6.9\", \"8.7\", \"9.0\", \"5.3\", \"2.0\", \"3.0\", \"9.0\", \"6.0\", \"3.0\", \"15.0\", \"3.0\"], \"y\": [\"1.0\", \"0.0\", \"0.0\", \"0.0\", \"0.0\", \"3.0\", \"0.0\", \"1.0\", \"0.0\", \"0.0\", \"0.0\", \"1.0\", \"0.8\", \"1.3\", \"1.0\", \"1.5\", \"0.0\", \"0.0\", \"0.8\", \"0.0\", \"0.0\", \"1.0\", \"0.0\"]}, {\"marker\": {\"color\": \"rgba(183, 98, 65, 0.8)\"}, \"mode\": \"markers\", \"name\": \"Nabisco\", \"text\": [\"Nabisco\", \"Nabisco\", \"Nabisco\", \"Nabisco\", \"Nabisco\"], \"type\": \"scatter\", \"uid\": \"d62d5e7c-5ae3-4aac-bf3e-7e4dc9a87039\", \"x\": [\"6.0\", \"0.0\", \"0.0\", \"0.0\", \"5.0\"], \"y\": [\"1.0\", \"0.0\", \"0.0\", \"0.0\", \"0.0\"]}, {\"marker\": {\"color\": \"rgba(23, 50, 170, 0.8)\"}, \"mode\": \"markers\", \"name\": \"Post\", \"text\": [\"Post\", \"Post\", \"Post\", \"Post\", \"Post\", \"Post\", \"Post\", \"Post\", \"Post\"], \"type\": \"scatter\", \"uid\": \"d6e49488-4348-4857-9571-bb891f72d596\", \"x\": [\"5.0\", \"8.0\", \"12.0\", \"15.0\", \"5.0\", \"3.0\", \"4.0\", \"11.0\", \"10.5\"], \"y\": [\"0.0\", \"1.6\", \"1.0\", \"0.0\", \"1.0\", \"0.0\", \"3.0\", \"0.0\", \"0.8\"]}, {\"marker\": {\"color\": \"rgba(123, 123, 10, 0.8)\"}, \"mode\": \"markers\", \"name\": \"Quaker Oats\", \"text\": [\"Quaker Oats\", \"Quaker Oats\", \"Quaker Oats\", \"Quaker Oats\", \"Quaker Oats\", \"Quaker Oats\", \"Quaker Oats\"], \"type\": \"scatter\", \"uid\": \"37edf299-e294-43ce-b30f-b0a86bb4f057\", \"x\": [\"8.0\", \"12.0\", \"11.0\", \"6.0\", \"0.0\", \"0.0\", \"6.0\"], \"y\": [\"5.0\", \"2.0\", \"2.0\", \"2.0\", \"0.0\", \"0.0\", \"1.0\"]}, {\"marker\": {\"color\": \"rgba(80, 198, 65, 0.8)\"}, \"mode\": \"markers\", \"name\": \"Ralston Purina\", \"text\": [\"Ralston Purina\", \"Ralston Purina\", \"Ralston Purina\", \"Ralston Purina\", \"Ralston Purina\", \"Ralston Purina\", \"Ralston Purina\"], \"type\": \"scatter\", \"uid\": \"ceb7a0ee-17fe-4171-938e-f746cd6c4f4b\", \"x\": [\"6.0\", \"3.0\", \"5.0\", \"11.0\", \"11.0\", \"2.0\", \"3.0\"], \"y\": [\"1.0\", \"0.0\", \"0.0\", \"3.0\", \"3.0\", \"0.0\", \"1.0\"]}],\n",
       "                        {\"title\": {\"text\": \"Fat vs Sugar\"}, \"xaxis\": {\"ticklen\": 5, \"title\": {\"text\": \"Sugar\"}, \"zeroline\": false}, \"yaxis\": {\"ticklen\": 5, \"title\": {\"text\": \"Fat\"}, \"zeroline\": false}},\n",
       "                        {\"showLink\": false, \"linkText\": \"Export to plot.ly\", \"plotlyServerURL\": \"https://plot.ly\", \"responsive\": true}\n",
       "                    ).then(function(){\n",
       "                            \n",
       "var gd = document.getElementById('f48778c7-978e-4508-ba12-2a5fc733805d');\n",
       "var x = new MutationObserver(function (mutations, observer) {{\n",
       "        var display = window.getComputedStyle(gd).display;\n",
       "        if (!display || display === 'none') {{\n",
       "            console.log([gd, 'removed!']);\n",
       "            Plotly.purge(gd);\n",
       "            observer.disconnect();\n",
       "        }}\n",
       "}});\n",
       "\n",
       "// Listen for the removal of the full notebook cells\n",
       "var notebookContainer = gd.closest('#notebook-container');\n",
       "if (notebookContainer) {{\n",
       "    x.observe(notebookContainer, {childList: true});\n",
       "}}\n",
       "\n",
       "// Listen for the clearing of the current output cell\n",
       "var outputEl = gd.closest('.output');\n",
       "if (outputEl) {{\n",
       "    x.observe(outputEl, {childList: true});\n",
       "}}\n",
       "\n",
       "                        })\n",
       "                };\n",
       "                });\n",
       "            </script>\n",
       "        </div>"
      ]
     },
     "metadata": {},
     "output_type": "display_data"
    }
   ],
   "source": [
    "py.offline.iplot(fig)"
   ]
  },
  {
   "cell_type": "markdown",
   "metadata": {},
   "source": [
    "This graph shows the relationship between fat content and sugar content in grams per serving. This graph can be zoomed in on if you select a square with your mouse."
   ]
  },
  {
   "cell_type": "code",
   "execution_count": 17,
   "metadata": {},
   "outputs": [],
   "source": [
    "trace1 = go.Scatter(\n",
    "    #x=x-axis\n",
    "    x= df1.Potassium,\n",
    "    #y=y-axis\n",
    "    y= df1.Fiber,\n",
    "    #mode defines the type of plot eg-lines,markers,line+markers\n",
    "    mode='markers',\n",
    "    #name pf the plots\n",
    "    name='General Mills',\n",
    "    #markers->color and alpha of the respective trace\n",
    "    marker=dict(color = 'rgba(12, 112, 212, 0.8)'),\n",
    "    #the hover text\n",
    "    text=df1.Manufacturer)\n",
    "trace2 = go.Scatter(\n",
    "    x=df2.Potassium,\n",
    "    y=df2.Fiber,\n",
    "    mode='markers',\n",
    "    name='Kelloggs',\n",
    "    marker=dict(color = 'rgba(11, 209, 208, 0.8)'),\n",
    "    text=df2.Manufacturer)\n",
    "trace3 = go.Scatter(\n",
    "    x=df3.Potassium,\n",
    "    y=df3.Fiber,\n",
    "    mode='markers',\n",
    "    name='Nabisco',\n",
    "    marker=dict(color = 'rgba(183, 98, 65, 0.8)'),\n",
    "    text=df3.Manufacturer)\n",
    "trace4 = go.Scatter(\n",
    "    x=df4.Potassium,\n",
    "    y=df4.Fiber,\n",
    "    mode='markers',\n",
    "    name='Post',\n",
    "    marker=dict(color = 'rgba(23, 50, 170, 0.8)'),\n",
    "    text=df4.Manufacturer)\n",
    "trace5 = go.Scatter(\n",
    "    x=df5.Potassium,\n",
    "    y=df5.Fiber,\n",
    "    mode='markers',\n",
    "    name='Quaker Oats',\n",
    "    marker=dict(color = 'rgba(123, 123, 10, 0.8)'),\n",
    "    text=df5.Manufacturer)\n",
    "trace6 = go.Scatter(\n",
    "    x=df6.Potassium,\n",
    "    y=df6.Fiber,\n",
    "    mode='markers',\n",
    "    name='Ralston Purina',\n",
    "    marker=dict(color = 'rgba(80, 198, 65, 0.8)'),\n",
    "    text=df6.Manufacturer)"
   ]
  },
  {
   "cell_type": "code",
   "execution_count": 18,
   "metadata": {},
   "outputs": [],
   "source": [
    "data_list=[trace1,trace2,trace3,trace4,trace5,trace6]"
   ]
  },
  {
   "cell_type": "code",
   "execution_count": 19,
   "metadata": {},
   "outputs": [],
   "source": [
    "layout=dict(title='Fiber vs Potassium',\n",
    "               xaxis=dict(title='Potassium',ticklen=5,zeroline=False),\n",
    "               yaxis=dict(title='Fat',ticklen=5,zeroline=False)\n",
    "            )"
   ]
  },
  {
   "cell_type": "code",
   "execution_count": 20,
   "metadata": {},
   "outputs": [],
   "source": [
    "fig=dict(data=data_list,layout=layout)"
   ]
  },
  {
   "cell_type": "code",
   "execution_count": 21,
   "metadata": {},
   "outputs": [
    {
     "data": {
      "application/vnd.plotly.v1+json": {
       "config": {
        "linkText": "Export to plot.ly",
        "plotlyServerURL": "https://plot.ly",
        "responsive": true,
        "showLink": false
       },
       "data": [
        {
         "marker": {
          "color": "rgba(12, 112, 212, 0.8)"
         },
         "mode": "markers",
         "name": "General Mills",
         "text": [
          "General Mills",
          "General Mills",
          "General Mills",
          "General Mills",
          "General Mills",
          "General Mills",
          "General Mills",
          "General Mills",
          "General Mills",
          "General Mills",
          "General Mills",
          "General Mills",
          "General Mills",
          "General Mills",
          "General Mills",
          "General Mills",
          "General Mills",
          "General Mills",
          "General Mills",
          "General Mills",
          "General Mills",
          "General Mills"
         ],
         "type": "scatter",
         "uid": "405a4948-8a03-48e0-9d08-3ba703757a28",
         "x": [
          "70.0",
          "75.2",
          "105.0",
          "45.0",
          "105.0",
          "55.0",
          "65.0",
          "120.0",
          "45.0",
          "90.0",
          "40.0",
          "55.0",
          "90.0",
          "96.0",
          "140.0",
          "35.0",
          "153.3",
          "110.0",
          "60.0",
          "25.0",
          "110.0",
          "60.0"
         ],
         "y": [
          "1.5",
          "1.5",
          "2.0",
          "0.0",
          "2.0",
          "0.0",
          "0.0",
          "2.0",
          "0.0",
          "1.5",
          "0.0",
          "0.0",
          "2.0",
          "1.2",
          "2.5",
          "0.0",
          "2.7",
          "3.0",
          "0.0",
          "0.0",
          "3.0",
          "1.0"
         ]
        },
        {
         "marker": {
          "color": "rgba(11, 209, 208, 0.8)"
         },
         "mode": "markers",
         "name": "Kelloggs",
         "text": [
          "Kelloggs",
          "Kelloggs",
          "Kelloggs",
          "Kelloggs",
          "Kelloggs",
          "Kelloggs",
          "Kelloggs",
          "Kelloggs",
          "Kelloggs",
          "Kelloggs",
          "Kelloggs",
          "Kelloggs",
          "Kelloggs",
          "Kelloggs",
          "Kelloggs",
          "Kelloggs",
          "Kelloggs",
          "Kelloggs",
          "Kelloggs",
          "Kelloggs",
          "Kelloggs",
          "Kelloggs",
          "Kelloggs"
         ],
         "type": "scatter",
         "uid": "de62f9a7-a860-4e1b-9344-bf657db18818",
         "x": [
          "320.0",
          "330.0",
          "30.0",
          "35.0",
          "20.0",
          "160.0",
          "30.0",
          "30.0",
          "25.0",
          "100.0",
          "142.9",
          "60.0",
          "73.1",
          "106.7",
          "40.0",
          "97.7",
          "90.0",
          "45.0",
          "180.5",
          "110.0",
          "35.0",
          "40.0",
          "55.0"
         ],
         "y": [
          "9.0",
          "14.0",
          "1.0",
          "1.0",
          "1.0",
          "4.0",
          "1.0",
          "1.0",
          "1.0",
          "3.0",
          "3.8",
          "1.0",
          "1.5",
          "2.0",
          "0.0",
          "2.3",
          "3.0",
          "1.0",
          "3.8",
          "2.0",
          "0.0",
          "1.0",
          "1.0"
         ]
        },
        {
         "marker": {
          "color": "rgba(183, 98, 65, 0.8)"
         },
         "mode": "markers",
         "name": "Nabisco",
         "text": [
          "Nabisco",
          "Nabisco",
          "Nabisco",
          "Nabisco",
          "Nabisco"
         ],
         "type": "scatter",
         "uid": "c9a570e7-4f6f-4608-9fb2-278c85eeaa99",
         "x": [
          "280.0",
          "114.5",
          "140.0",
          "120.0",
          "90.0"
         ],
         "y": [
          "10.0",
          "3.6",
          "4.0",
          "3.0",
          "3.0"
         ]
        },
        {
         "marker": {
          "color": "rgba(23, 50, 170, 0.8)"
         },
         "mode": "markers",
         "name": "Post",
         "text": [
          "Post",
          "Post",
          "Post",
          "Post",
          "Post",
          "Post",
          "Post",
          "Post",
          "Post"
         ],
         "type": "scatter",
         "uid": "c4f34944-4599-4868-b5af-c6a1ac4d60a6",
         "x": [
          "190.0",
          "160.0",
          "25.0",
          "40.0",
          "85.0",
          "90.0",
          "100.0",
          "35.0",
          "195.5"
         ],
         "y": [
          "5.0",
          "4.0",
          "0.0",
          "0.0",
          "3.0",
          "3.0",
          "3.0",
          "0.0",
          "4.5"
         ]
        },
        {
         "marker": {
          "color": "rgba(123, 123, 10, 0.8)"
         },
         "mode": "markers",
         "name": "Quaker Oats",
         "text": [
          "Quaker Oats",
          "Quaker Oats",
          "Quaker Oats",
          "Quaker Oats",
          "Quaker Oats",
          "Quaker Oats",
          "Quaker Oats"
         ],
         "type": "scatter",
         "uid": "1d788979-d876-4f51-bee4-7241bb03cc23",
         "x": [
          "135.0",
          "35.0",
          "45.0",
          "95.0",
          "30.0",
          "100.0",
          "110.0"
         ],
         "y": [
          "2.0",
          "0.0",
          "1.0",
          "2.0",
          "0.0",
          "2.0",
          "2.0"
         ]
        },
        {
         "marker": {
          "color": "rgba(80, 198, 65, 0.8)"
         },
         "mode": "markers",
         "name": "Ralston Purina",
         "text": [
          "Ralston Purina",
          "Ralston Purina",
          "Ralston Purina",
          "Ralston Purina",
          "Ralston Purina",
          "Ralston Purina",
          "Ralston Purina"
         ],
         "type": "scatter",
         "uid": "6c70640d-cc75-4873-8b1c-37eb294d7af4",
         "x": [
          "125.0",
          "25.0",
          "80.0",
          "170.0",
          "170.0",
          "30.0",
          "115.0"
         ],
         "y": [
          "4.0",
          "0.0",
          "1.0",
          "3.0",
          "3.0",
          "0.0",
          "3.0"
         ]
        }
       ],
       "layout": {
        "title": {
         "text": "Fiber vs Potassium"
        },
        "xaxis": {
         "ticklen": 5,
         "title": {
          "text": "Potassium"
         },
         "zeroline": false
        },
        "yaxis": {
         "ticklen": 5,
         "title": {
          "text": "Fat"
         },
         "zeroline": false
        }
       }
      },
      "text/html": [
       "<div>\n",
       "        \n",
       "        \n",
       "            <div id=\"6cbf7ef7-39d0-4284-b4e6-f9e6e30b6fa5\" class=\"plotly-graph-div\" style=\"height:525px; width:100%;\"></div>\n",
       "            <script type=\"text/javascript\">\n",
       "                require([\"plotly\"], function(Plotly) {\n",
       "                    window.PLOTLYENV=window.PLOTLYENV || {};\n",
       "                    window.PLOTLYENV.BASE_URL='https://plot.ly';\n",
       "                    \n",
       "                if (document.getElementById(\"6cbf7ef7-39d0-4284-b4e6-f9e6e30b6fa5\")) {\n",
       "                    Plotly.newPlot(\n",
       "                        '6cbf7ef7-39d0-4284-b4e6-f9e6e30b6fa5',\n",
       "                        [{\"marker\": {\"color\": \"rgba(12, 112, 212, 0.8)\"}, \"mode\": \"markers\", \"name\": \"General Mills\", \"text\": [\"General Mills\", \"General Mills\", \"General Mills\", \"General Mills\", \"General Mills\", \"General Mills\", \"General Mills\", \"General Mills\", \"General Mills\", \"General Mills\", \"General Mills\", \"General Mills\", \"General Mills\", \"General Mills\", \"General Mills\", \"General Mills\", \"General Mills\", \"General Mills\", \"General Mills\", \"General Mills\", \"General Mills\", \"General Mills\"], \"type\": \"scatter\", \"uid\": \"6403b3c9-0e0d-440c-90f4-73eae0066c03\", \"x\": [\"70.0\", \"75.2\", \"105.0\", \"45.0\", \"105.0\", \"55.0\", \"65.0\", \"120.0\", \"45.0\", \"90.0\", \"40.0\", \"55.0\", \"90.0\", \"96.0\", \"140.0\", \"35.0\", \"153.3\", \"110.0\", \"60.0\", \"25.0\", \"110.0\", \"60.0\"], \"y\": [\"1.5\", \"1.5\", \"2.0\", \"0.0\", \"2.0\", \"0.0\", \"0.0\", \"2.0\", \"0.0\", \"1.5\", \"0.0\", \"0.0\", \"2.0\", \"1.2\", \"2.5\", \"0.0\", \"2.7\", \"3.0\", \"0.0\", \"0.0\", \"3.0\", \"1.0\"]}, {\"marker\": {\"color\": \"rgba(11, 209, 208, 0.8)\"}, \"mode\": \"markers\", \"name\": \"Kelloggs\", \"text\": [\"Kelloggs\", \"Kelloggs\", \"Kelloggs\", \"Kelloggs\", \"Kelloggs\", \"Kelloggs\", \"Kelloggs\", \"Kelloggs\", \"Kelloggs\", \"Kelloggs\", \"Kelloggs\", \"Kelloggs\", \"Kelloggs\", \"Kelloggs\", \"Kelloggs\", \"Kelloggs\", \"Kelloggs\", \"Kelloggs\", \"Kelloggs\", \"Kelloggs\", \"Kelloggs\", \"Kelloggs\", \"Kelloggs\"], \"type\": \"scatter\", \"uid\": \"829d800d-cb69-40a2-b21e-86ec4833b778\", \"x\": [\"320.0\", \"330.0\", \"30.0\", \"35.0\", \"20.0\", \"160.0\", \"30.0\", \"30.0\", \"25.0\", \"100.0\", \"142.9\", \"60.0\", \"73.1\", \"106.7\", \"40.0\", \"97.7\", \"90.0\", \"45.0\", \"180.5\", \"110.0\", \"35.0\", \"40.0\", \"55.0\"], \"y\": [\"9.0\", \"14.0\", \"1.0\", \"1.0\", \"1.0\", \"4.0\", \"1.0\", \"1.0\", \"1.0\", \"3.0\", \"3.8\", \"1.0\", \"1.5\", \"2.0\", \"0.0\", \"2.3\", \"3.0\", \"1.0\", \"3.8\", \"2.0\", \"0.0\", \"1.0\", \"1.0\"]}, {\"marker\": {\"color\": \"rgba(183, 98, 65, 0.8)\"}, \"mode\": \"markers\", \"name\": \"Nabisco\", \"text\": [\"Nabisco\", \"Nabisco\", \"Nabisco\", \"Nabisco\", \"Nabisco\"], \"type\": \"scatter\", \"uid\": \"afa50031-1a79-4eab-924f-08f89bfd501b\", \"x\": [\"280.0\", \"114.5\", \"140.0\", \"120.0\", \"90.0\"], \"y\": [\"10.0\", \"3.6\", \"4.0\", \"3.0\", \"3.0\"]}, {\"marker\": {\"color\": \"rgba(23, 50, 170, 0.8)\"}, \"mode\": \"markers\", \"name\": \"Post\", \"text\": [\"Post\", \"Post\", \"Post\", \"Post\", \"Post\", \"Post\", \"Post\", \"Post\", \"Post\"], \"type\": \"scatter\", \"uid\": \"fc344fff-ed0e-483a-b66f-7cb4c9034e2a\", \"x\": [\"190.0\", \"160.0\", \"25.0\", \"40.0\", \"85.0\", \"90.0\", \"100.0\", \"35.0\", \"195.5\"], \"y\": [\"5.0\", \"4.0\", \"0.0\", \"0.0\", \"3.0\", \"3.0\", \"3.0\", \"0.0\", \"4.5\"]}, {\"marker\": {\"color\": \"rgba(123, 123, 10, 0.8)\"}, \"mode\": \"markers\", \"name\": \"Quaker Oats\", \"text\": [\"Quaker Oats\", \"Quaker Oats\", \"Quaker Oats\", \"Quaker Oats\", \"Quaker Oats\", \"Quaker Oats\", \"Quaker Oats\"], \"type\": \"scatter\", \"uid\": \"bc536e6b-74b0-4c5c-8c1e-8729f612ec0b\", \"x\": [\"135.0\", \"35.0\", \"45.0\", \"95.0\", \"30.0\", \"100.0\", \"110.0\"], \"y\": [\"2.0\", \"0.0\", \"1.0\", \"2.0\", \"0.0\", \"2.0\", \"2.0\"]}, {\"marker\": {\"color\": \"rgba(80, 198, 65, 0.8)\"}, \"mode\": \"markers\", \"name\": \"Ralston Purina\", \"text\": [\"Ralston Purina\", \"Ralston Purina\", \"Ralston Purina\", \"Ralston Purina\", \"Ralston Purina\", \"Ralston Purina\", \"Ralston Purina\"], \"type\": \"scatter\", \"uid\": \"347e98b7-a5ae-4793-8436-8b4a9bc2eb52\", \"x\": [\"125.0\", \"25.0\", \"80.0\", \"170.0\", \"170.0\", \"30.0\", \"115.0\"], \"y\": [\"4.0\", \"0.0\", \"1.0\", \"3.0\", \"3.0\", \"0.0\", \"3.0\"]}],\n",
       "                        {\"title\": {\"text\": \"Fiber vs Potassium\"}, \"xaxis\": {\"ticklen\": 5, \"title\": {\"text\": \"Potassium\"}, \"zeroline\": false}, \"yaxis\": {\"ticklen\": 5, \"title\": {\"text\": \"Fat\"}, \"zeroline\": false}},\n",
       "                        {\"showLink\": false, \"linkText\": \"Export to plot.ly\", \"plotlyServerURL\": \"https://plot.ly\", \"responsive\": true}\n",
       "                    ).then(function(){\n",
       "                            \n",
       "var gd = document.getElementById('6cbf7ef7-39d0-4284-b4e6-f9e6e30b6fa5');\n",
       "var x = new MutationObserver(function (mutations, observer) {{\n",
       "        var display = window.getComputedStyle(gd).display;\n",
       "        if (!display || display === 'none') {{\n",
       "            console.log([gd, 'removed!']);\n",
       "            Plotly.purge(gd);\n",
       "            observer.disconnect();\n",
       "        }}\n",
       "}});\n",
       "\n",
       "// Listen for the removal of the full notebook cells\n",
       "var notebookContainer = gd.closest('#notebook-container');\n",
       "if (notebookContainer) {{\n",
       "    x.observe(notebookContainer, {childList: true});\n",
       "}}\n",
       "\n",
       "// Listen for the clearing of the current output cell\n",
       "var outputEl = gd.closest('.output');\n",
       "if (outputEl) {{\n",
       "    x.observe(outputEl, {childList: true});\n",
       "}}\n",
       "\n",
       "                        })\n",
       "                };\n",
       "                });\n",
       "            </script>\n",
       "        </div>"
      ]
     },
     "metadata": {},
     "output_type": "display_data"
    }
   ],
   "source": [
    "py.offline.iplot(fig)"
   ]
  },
  {
   "cell_type": "markdown",
   "metadata": {},
   "source": [
    "This graph show the relationship between grams of fat and milligrams of potassium. Like the previous graph this one can be zoomed in on."
   ]
  },
  {
   "cell_type": "code",
   "execution_count": 22,
   "metadata": {},
   "outputs": [
    {
     "data": {
      "image/png": "[encoded data removed]",
      "text/plain": [
       "<Figure size 432x288 with 1 Axes>"
      ]
     },
     "metadata": {},
     "output_type": "display_data"
    }
   ],
   "source": [
    "data=pd.read_csv('breakfast_cereals.csv')\n",
    "plt.hist(data['Vitamins'],bins=10)\n",
    "\n",
    "# Add a suitable title\n",
    "plt.title('Histogram of Vitamins in Cereals')\n",
    "\n",
    "# Adding suitable labels to the axes\n",
    "plt.xlabel('Vitamins')\n",
    "plt.ylabel('Count')\n",
    "\n",
    "plt.show()"
   ]
  },
  {
   "cell_type": "markdown",
   "metadata": {},
   "source": [
    "The above demonstrates how most cereals' vitamin level are clustered between the 20-30mg range. The outlier cereals could be used for those who have special dietary needs or lack vitamins in their normal diets."
   ]
  },
  {
   "cell_type": "code",
   "execution_count": 24,
   "metadata": {},
   "outputs": [
    {
     "data": {
      "application/vnd.plotly.v1+json": {
       "config": {
        "linkText": "Export to plot.ly",
        "plotlyServerURL": "https://plot.ly",
        "responsive": true,
        "showLink": false
       },
       "data": [
        {
         "marker": {
          "color": "rgba(12, 112, 212, 0.8)"
         },
         "name": "General Mills",
         "type": "box",
         "uid": "b34ea3b6-ec66-48ce-80d1-ce3cbbc20fb8",
         "y": [
          "10.0",
          "6.0",
          "1.0",
          "9.0",
          "7.0",
          "13.0",
          "13.0",
          "10.0",
          "9.0",
          "10.0",
          "3.0",
          "12.0",
          "6.0",
          "8.0",
          "8.0",
          "3.0",
          "9.3",
          "3.0",
          "3.0",
          "12.0",
          "3.0",
          "8.0"
         ]
        },
        {
         "marker": {
          "color": "rgba(11, 209, 208, 0.8)"
         },
         "name": "Kelloggs",
         "type": "box",
         "uid": "893367d3-6907-4310-a6b5-2b41d9ac6f24",
         "y": [
          "5.0",
          "0.0",
          "14.0",
          "2.0",
          "12.0",
          "7.0",
          "3.0",
          "13.0",
          "11.0",
          "7.0",
          "9.0",
          "6.0",
          "6.9",
          "8.7",
          "9.0",
          "5.3",
          "2.0",
          "3.0",
          "9.0",
          "6.0",
          "3.0",
          "15.0",
          "3.0"
         ]
        },
        {
         "marker": {
          "color": "rgba(183, 98, 65, 0.8)"
         },
         "name": "Nabisco",
         "type": "box",
         "uid": "f7b2de2c-9f41-4d73-a5bd-cf00b4a0dc97",
         "y": [
          "6.0",
          "0.0",
          "0.0",
          "0.0",
          "5.0"
         ]
        },
        {
         "marker": {
          "color": "rgba(23, 50, 170, 0.8)"
         },
         "name": "Post",
         "type": "box",
         "uid": "ab16a556-c835-4d21-84f9-aa69c55e5f63",
         "y": [
          "5.0",
          "8.0",
          "12.0",
          "15.0",
          "5.0",
          "3.0",
          "4.0",
          "11.0",
          "10.5"
         ]
        },
        {
         "marker": {
          "color": "rgba(123, 123, 10, 0.8)"
         },
         "name": "Quaker Oats",
         "type": "box",
         "uid": "287fe629-11c5-488c-a417-d75a205e4438",
         "y": [
          "8.0",
          "12.0",
          "11.0",
          "6.0",
          "0.0",
          "0.0",
          "6.0"
         ]
        },
        {
         "marker": {
          "color": "rgba(80, 198, 65, 0.8)"
         },
         "name": "Ralston Purina",
         "type": "box",
         "uid": "e8903deb-3deb-43c9-8bff-6fc4b6c36bbd",
         "y": [
          "6.0",
          "3.0",
          "5.0",
          "11.0",
          "11.0",
          "2.0",
          "3.0"
         ]
        }
       ],
       "layout": {
        "title": {
         "text": "Sugar Levels for Cereals",
         "x": 0,
         "xref": "paper"
        },
        "xaxis": {
         "title": {
          "text": "Brands"
         }
        },
        "yaxis": {
         "title": {
          "text": "Sugar (g)"
         }
        }
       }
      },
      "text/html": [
       "<div>\n",
       "        \n",
       "        \n",
       "            <div id=\"60b5aa7b-2598-4c28-8914-f45a40e7fcac\" class=\"plotly-graph-div\" style=\"height:525px; width:100%;\"></div>\n",
       "            <script type=\"text/javascript\">\n",
       "                require([\"plotly\"], function(Plotly) {\n",
       "                    window.PLOTLYENV=window.PLOTLYENV || {};\n",
       "                    window.PLOTLYENV.BASE_URL='https://plot.ly';\n",
       "                    \n",
       "                if (document.getElementById(\"60b5aa7b-2598-4c28-8914-f45a40e7fcac\")) {\n",
       "                    Plotly.newPlot(\n",
       "                        '60b5aa7b-2598-4c28-8914-f45a40e7fcac',\n",
       "                        [{\"marker\": {\"color\": \"rgba(12, 112, 212, 0.8)\"}, \"name\": \"General Mills\", \"type\": \"box\", \"uid\": \"904213ee-82e2-4d05-b218-8d9b71058d98\", \"y\": [\"10.0\", \"6.0\", \"1.0\", \"9.0\", \"7.0\", \"13.0\", \"13.0\", \"10.0\", \"9.0\", \"10.0\", \"3.0\", \"12.0\", \"6.0\", \"8.0\", \"8.0\", \"3.0\", \"9.3\", \"3.0\", \"3.0\", \"12.0\", \"3.0\", \"8.0\"]}, {\"marker\": {\"color\": \"rgba(11, 209, 208, 0.8)\"}, \"name\": \"Kelloggs\", \"type\": \"box\", \"uid\": \"de560867-17a3-4e0a-8184-643c4c9cd3d3\", \"y\": [\"5.0\", \"0.0\", \"14.0\", \"2.0\", \"12.0\", \"7.0\", \"3.0\", \"13.0\", \"11.0\", \"7.0\", \"9.0\", \"6.0\", \"6.9\", \"8.7\", \"9.0\", \"5.3\", \"2.0\", \"3.0\", \"9.0\", \"6.0\", \"3.0\", \"15.0\", \"3.0\"]}, {\"marker\": {\"color\": \"rgba(183, 98, 65, 0.8)\"}, \"name\": \"Nabisco\", \"type\": \"box\", \"uid\": \"6bbfe58d-23ac-4b9c-a36d-373037874da7\", \"y\": [\"6.0\", \"0.0\", \"0.0\", \"0.0\", \"5.0\"]}, {\"marker\": {\"color\": \"rgba(23, 50, 170, 0.8)\"}, \"name\": \"Post\", \"type\": \"box\", \"uid\": \"de8aefc5-5c17-4000-9372-9dca12dab0b5\", \"y\": [\"5.0\", \"8.0\", \"12.0\", \"15.0\", \"5.0\", \"3.0\", \"4.0\", \"11.0\", \"10.5\"]}, {\"marker\": {\"color\": \"rgba(123, 123, 10, 0.8)\"}, \"name\": \"Quaker Oats\", \"type\": \"box\", \"uid\": \"1386de91-2c2e-415b-9922-d497f462f349\", \"y\": [\"8.0\", \"12.0\", \"11.0\", \"6.0\", \"0.0\", \"0.0\", \"6.0\"]}, {\"marker\": {\"color\": \"rgba(80, 198, 65, 0.8)\"}, \"name\": \"Ralston Purina\", \"type\": \"box\", \"uid\": \"edd59c99-e192-47c6-b0d2-b5e0d96e3751\", \"y\": [\"6.0\", \"3.0\", \"5.0\", \"11.0\", \"11.0\", \"2.0\", \"3.0\"]}],\n",
       "                        {\"title\": {\"text\": \"Sugar Levels for Cereals\", \"x\": 0, \"xref\": \"paper\"}, \"xaxis\": {\"title\": {\"text\": \"Brands\"}}, \"yaxis\": {\"title\": {\"text\": \"Sugar (g)\"}}},\n",
       "                        {\"showLink\": false, \"linkText\": \"Export to plot.ly\", \"plotlyServerURL\": \"https://plot.ly\", \"responsive\": true}\n",
       "                    ).then(function(){\n",
       "                            \n",
       "var gd = document.getElementById('60b5aa7b-2598-4c28-8914-f45a40e7fcac');\n",
       "var x = new MutationObserver(function (mutations, observer) {{\n",
       "        var display = window.getComputedStyle(gd).display;\n",
       "        if (!display || display === 'none') {{\n",
       "            console.log([gd, 'removed!']);\n",
       "            Plotly.purge(gd);\n",
       "            observer.disconnect();\n",
       "        }}\n",
       "}});\n",
       "\n",
       "// Listen for the removal of the full notebook cells\n",
       "var notebookContainer = gd.closest('#notebook-container');\n",
       "if (notebookContainer) {{\n",
       "    x.observe(notebookContainer, {childList: true});\n",
       "}}\n",
       "\n",
       "// Listen for the clearing of the current output cell\n",
       "var outputEl = gd.closest('.output');\n",
       "if (outputEl) {{\n",
       "    x.observe(outputEl, {childList: true});\n",
       "}}\n",
       "\n",
       "                        })\n",
       "                };\n",
       "                });\n",
       "            </script>\n",
       "        </div>"
      ]
     },
     "metadata": {},
     "output_type": "display_data"
    }
   ],
   "source": [
    "#Generate Box Plots for Sugar values for each manufacturer\n",
    "\n",
    "trace1 = go.Box(\n",
    "    y=df1.Sugar,\n",
    "    name='General Mills',\n",
    "    marker=dict(color = 'rgba(12, 112, 212, 0.8)'),\n",
    "    )\n",
    "trace2 = go.Box(\n",
    "    y=df2.Sugar,\n",
    "    name='Kelloggs',\n",
    "    marker=dict(color = 'rgba(11, 209, 208, 0.8)'),\n",
    "    )\n",
    "trace3 = go.Box(\n",
    "    y=df3.Sugar,\n",
    "    name='Nabisco',\n",
    "    marker=dict(color = 'rgba(183, 98, 65, 0.8)'),\n",
    "    )\n",
    "trace4 = go.Box(\n",
    "    y=df4.Sugar,\n",
    "    name='Post',\n",
    "    marker=dict(color = 'rgba(23, 50, 170, 0.8)'),\n",
    "    )\n",
    "trace5 = go.Box(\n",
    "    y=df5.Sugar,\n",
    "    name='Quaker Oats',\n",
    "    marker=dict(color = 'rgba(123, 123, 10, 0.8)'),\n",
    "    )\n",
    "trace6 = go.Box(\n",
    "    y=df6.Sugar,\n",
    "    name='Ralston Purina',\n",
    "    marker=dict(color = 'rgba(80, 198, 65, 0.8)'),\n",
    ")\n",
    "\n",
    "bp = [trace1, trace2, trace3, trace4, trace5, trace6]\n",
    "layout = go.Layout(\n",
    "    title=go.layout.Title(\n",
    "        text='Sugar Levels for Cereals',\n",
    "        xref='paper',\n",
    "        x=0\n",
    "    ),\n",
    "    xaxis = dict(\n",
    "        title= 'Brands'),\n",
    "    yaxis = dict(\n",
    "        title= 'Sugar (g)'),\n",
    ")\n",
    "fig=dict(data = bp,layout=layout)\n",
    "py.offline.iplot(fig)"
   ]
  },
  {
   "cell_type": "markdown",
   "metadata": {},
   "source": [
    "The above box and whisker plot shows that most cereal manufacturers make cereals around with 6 to 8 grams of sugar per serving. For those who are concious about eating processed sugars they could look to a manufacturer like Nabisco for a solid healthey sugar free breakfast. Those people with a sweet tooth could get the sugary cereals from Kellogs or Post to satisfy their sweet tooth."
   ]
  },
  {
   "cell_type": "code",
   "execution_count": 25,
   "metadata": {},
   "outputs": [
    {
     "data": {
      "application/vnd.plotly.v1+json": {
       "config": {
        "linkText": "Export to plot.ly",
        "plotlyServerURL": "https://plot.ly",
        "responsive": true,
        "showLink": false
       },
       "data": [
        {
         "marker": {
          "color": "rgba(12, 112, 212, 0.8)",
          "line": {
           "color": "rgb(204, 204, 204)",
           "width": 0.5
          },
          "opacity": 0.8,
          "size": 12
         },
         "mode": "markers",
         "name": "General Mills",
         "type": "scatter3d",
         "uid": "d659d021-c51c-4462-88cf-6bae2f40456a",
         "x": [
          "110.0",
          "97.7",
          "110.0",
          "120.0",
          "110.0",
          "110.0",
          "110.0",
          "100.0",
          "110.0",
          "110.0",
          "110.0",
          "110.0",
          "100.0",
          "104.0",
          "100.0",
          "110.0",
          "93.3",
          "100.0",
          "110.0",
          "110.0",
          "100.0",
          "110.0"
         ],
         "y": [
          "180.0",
          "157.9",
          "290.0",
          "210.0",
          "140.0",
          "180.0",
          "180.0",
          "140.0",
          "280.0",
          "250.0",
          "260.0",
          "180.0",
          "220.0",
          "136.0",
          "140.0",
          "200.0",
          "126.7",
          "200.0",
          "250.0",
          "140.0",
          "200.0",
          "200.0"
         ],
         "z": [
          "70.0",
          "75.2",
          "105.0",
          "45.0",
          "105.0",
          "55.0",
          "65.0",
          "120.0",
          "45.0",
          "90.0",
          "40.0",
          "55.0",
          "90.0",
          "96.0",
          "140.0",
          "35.0",
          "153.3",
          "110.0",
          "60.0",
          "25.0",
          "110.0",
          "60.0"
         ]
        },
        {
         "marker": {
          "color": "rgba(11, 209, 208, 0.8)",
          "line": {
           "color": "rgb(204, 204, 204)",
           "width": 1
          },
          "opacity": 0.9,
          "size": 12,
          "symbol": "circle"
         },
         "mode": "markers",
         "name": "Kelloggs",
         "type": "scatter3d",
         "uid": "e411f30e-81a1-430a-934f-c8712790f988",
         "x": [
          "70.0",
          "50.0",
          "110.0",
          "100.0",
          "110.0",
          "110.0",
          "110.0",
          "110.0",
          "110.0",
          "100.0",
          "90.2",
          "110.0",
          "107.7",
          "106.7",
          "120.0",
          "105.3",
          "90.0",
          "100.0",
          "90.2",
          "90.0",
          "110.0",
          "110.0",
          "110.0"
         ],
         "y": [
          "260.0",
          "140.0",
          "125.0",
          "290.0",
          "90.0",
          "140.0",
          "220.0",
          "125.0",
          "200.0",
          "0.0",
          "180.5",
          "170.0",
          "130.8",
          "100.0",
          "190.0",
          "165.4",
          "170.0",
          "320.0",
          "157.9",
          "0.0",
          "290.0",
          "70.0",
          "230.0"
         ],
         "z": [
          "320.0",
          "330.0",
          "30.0",
          "35.0",
          "20.0",
          "160.0",
          "30.0",
          "30.0",
          "25.0",
          "100.0",
          "142.9",
          "60.0",
          "73.1",
          "106.7",
          "40.0",
          "97.7",
          "90.0",
          "45.0",
          "180.5",
          "110.0",
          "35.0",
          "40.0",
          "55.0"
         ]
        },
        {
         "marker": {
          "color": "rgba(183, 98, 65, 0.8)",
          "line": {
           "color": "rgb(204, 204, 204)",
           "width": 1
          },
          "opacity": 0.9,
          "size": 12,
          "symbol": "circle"
         },
         "mode": "markers",
         "name": "Nabisco",
         "type": "scatter3d",
         "uid": "697906e5-3779-48d3-873f-4a7c66c45eae",
         "x": [
          "70.0",
          "96.4",
          "90.0",
          "90.0",
          "90.0"
         ],
         "y": [
          "130.0",
          "0.0",
          "0.0",
          "0.0",
          "15.0"
         ],
         "z": [
          "280.0",
          "114.5",
          "140.0",
          "120.0",
          "90.0"
         ]
        },
        {
         "marker": {
          "color": "rgba(23, 50, 170, 0.8)",
          "line": {
           "color": "rgb(204, 204, 204)",
           "width": 1
          },
          "opacity": 0.9,
          "size": 12,
          "symbol": "circle"
         },
         "mode": "markers",
         "name": "Post",
         "type": "scatter3d",
         "uid": "dc8882ff-b39c-4ddc-8ebd-fd8d0dcf23d2",
         "x": [
          "90.0",
          "96.0",
          "110.0",
          "100.0",
          "100.0",
          "110.0",
          "120.0",
          "110.0",
          "90.2"
         ],
         "y": [
          "210.0",
          "128.0",
          "135.0",
          "45.0",
          "140.0",
          "170.0",
          "75.0",
          "180.0",
          "150.4"
         ],
         "z": [
          "190.0",
          "160.0",
          "25.0",
          "40.0",
          "85.0",
          "90.0",
          "100.0",
          "35.0",
          "195.5"
         ]
        },
        {
         "marker": {
          "color": "rgba(123, 123, 10, 0.8)",
          "line": {
           "color": "rgb(204, 204, 204)",
           "width": 1
          },
          "opacity": 0.9,
          "size": 12,
          "symbol": "circle"
         },
         "mode": "markers",
         "name": "Quaker Oats",
         "type": "scatter3d",
         "uid": "edecba16-9c59-46b0-bf91-76b6c793255e",
         "x": [
          "120.0",
          "120.0",
          "120.0",
          "100.0",
          "100.0",
          "100.0",
          "100.0"
         ],
         "y": [
          "15.0",
          "220.0",
          "220.0",
          "150.0",
          "0.0",
          "0.0",
          "135.0"
         ],
         "z": [
          "135.0",
          "35.0",
          "45.0",
          "95.0",
          "30.0",
          "100.0",
          "110.0"
         ]
        },
        {
         "marker": {
          "color": "rgba(80, 198, 65, 0.8)",
          "line": {
           "color": "rgb(204, 204, 204)",
           "width": 1
          },
          "opacity": 0.9,
          "size": 12,
          "symbol": "circle"
         },
         "mode": "markers",
         "name": "Ralston Purina",
         "type": "scatter3d",
         "uid": "190dbb0b-5d3f-4edf-9bae-699ade4a69dc",
         "x": [
          "90.0",
          "110.0",
          "100.0",
          "150.0",
          "150.0",
          "110.0",
          "100.0"
         ],
         "y": [
          "200.0",
          "280.0",
          "190.0",
          "95.0",
          "150.0",
          "240.0",
          "230.0"
         ],
         "z": [
          "125.0",
          "25.0",
          "80.0",
          "170.0",
          "170.0",
          "30.0",
          "115.0"
         ]
        }
       ],
       "layout": {
        "margin": {
         "b": 0,
         "l": 0,
         "r": 0,
         "t": 0
        },
        "scene": {
         "xaxis": {
          "title": {
           "text": "Calories (Cal)"
          }
         },
         "yaxis": {
          "title": {
           "text": "Sodium (mg)"
          }
         },
         "zaxis": {
          "title": {
           "text": "Potassium (mg)"
          }
         }
        },
        "title": {
         "text": "Calories vs Sodium vs Potassium",
         "x": 0,
         "xref": "paper"
        }
       }
      },
      "text/html": [
       "<div>\n",
       "        \n",
       "        \n",
       "            <div id=\"4fa61890-18e5-4719-b7ce-7577e24537c6\" class=\"plotly-graph-div\" style=\"height:525px; width:100%;\"></div>\n",
       "            <script type=\"text/javascript\">\n",
       "                require([\"plotly\"], function(Plotly) {\n",
       "                    window.PLOTLYENV=window.PLOTLYENV || {};\n",
       "                    window.PLOTLYENV.BASE_URL='https://plot.ly';\n",
       "                    \n",
       "                if (document.getElementById(\"4fa61890-18e5-4719-b7ce-7577e24537c6\")) {\n",
       "                    Plotly.newPlot(\n",
       "                        '4fa61890-18e5-4719-b7ce-7577e24537c6',\n",
       "                        [{\"marker\": {\"color\": \"rgba(12, 112, 212, 0.8)\", \"line\": {\"color\": \"rgb(204, 204, 204)\", \"width\": 0.5}, \"opacity\": 0.8, \"size\": 12}, \"mode\": \"markers\", \"name\": \"General Mills\", \"type\": \"scatter3d\", \"uid\": \"9940bc8f-5044-48a6-90f3-6ffca9f97b42\", \"x\": [\"110.0\", \"97.7\", \"110.0\", \"120.0\", \"110.0\", \"110.0\", \"110.0\", \"100.0\", \"110.0\", \"110.0\", \"110.0\", \"110.0\", \"100.0\", \"104.0\", \"100.0\", \"110.0\", \"93.3\", \"100.0\", \"110.0\", \"110.0\", \"100.0\", \"110.0\"], \"y\": [\"180.0\", \"157.9\", \"290.0\", \"210.0\", \"140.0\", \"180.0\", \"180.0\", \"140.0\", \"280.0\", \"250.0\", \"260.0\", \"180.0\", \"220.0\", \"136.0\", \"140.0\", \"200.0\", \"126.7\", \"200.0\", \"250.0\", \"140.0\", \"200.0\", \"200.0\"], \"z\": [\"70.0\", \"75.2\", \"105.0\", \"45.0\", \"105.0\", \"55.0\", \"65.0\", \"120.0\", \"45.0\", \"90.0\", \"40.0\", \"55.0\", \"90.0\", \"96.0\", \"140.0\", \"35.0\", \"153.3\", \"110.0\", \"60.0\", \"25.0\", \"110.0\", \"60.0\"]}, {\"marker\": {\"color\": \"rgba(11, 209, 208, 0.8)\", \"line\": {\"color\": \"rgb(204, 204, 204)\", \"width\": 1}, \"opacity\": 0.9, \"size\": 12, \"symbol\": \"circle\"}, \"mode\": \"markers\", \"name\": \"Kelloggs\", \"type\": \"scatter3d\", \"uid\": \"59bd3cb9-d518-411f-a138-a380c8ec0b1e\", \"x\": [\"70.0\", \"50.0\", \"110.0\", \"100.0\", \"110.0\", \"110.0\", \"110.0\", \"110.0\", \"110.0\", \"100.0\", \"90.2\", \"110.0\", \"107.7\", \"106.7\", \"120.0\", \"105.3\", \"90.0\", \"100.0\", \"90.2\", \"90.0\", \"110.0\", \"110.0\", \"110.0\"], \"y\": [\"260.0\", \"140.0\", \"125.0\", \"290.0\", \"90.0\", \"140.0\", \"220.0\", \"125.0\", \"200.0\", \"0.0\", \"180.5\", \"170.0\", \"130.8\", \"100.0\", \"190.0\", \"165.4\", \"170.0\", \"320.0\", \"157.9\", \"0.0\", \"290.0\", \"70.0\", \"230.0\"], \"z\": [\"320.0\", \"330.0\", \"30.0\", \"35.0\", \"20.0\", \"160.0\", \"30.0\", \"30.0\", \"25.0\", \"100.0\", \"142.9\", \"60.0\", \"73.1\", \"106.7\", \"40.0\", \"97.7\", \"90.0\", \"45.0\", \"180.5\", \"110.0\", \"35.0\", \"40.0\", \"55.0\"]}, {\"marker\": {\"color\": \"rgba(183, 98, 65, 0.8)\", \"line\": {\"color\": \"rgb(204, 204, 204)\", \"width\": 1}, \"opacity\": 0.9, \"size\": 12, \"symbol\": \"circle\"}, \"mode\": \"markers\", \"name\": \"Nabisco\", \"type\": \"scatter3d\", \"uid\": \"774962ab-ae4d-42eb-b4e4-c52d7a6e5f24\", \"x\": [\"70.0\", \"96.4\", \"90.0\", \"90.0\", \"90.0\"], \"y\": [\"130.0\", \"0.0\", \"0.0\", \"0.0\", \"15.0\"], \"z\": [\"280.0\", \"114.5\", \"140.0\", \"120.0\", \"90.0\"]}, {\"marker\": {\"color\": \"rgba(23, 50, 170, 0.8)\", \"line\": {\"color\": \"rgb(204, 204, 204)\", \"width\": 1}, \"opacity\": 0.9, \"size\": 12, \"symbol\": \"circle\"}, \"mode\": \"markers\", \"name\": \"Post\", \"type\": \"scatter3d\", \"uid\": \"3a990bcf-74ec-4a99-a0ef-9142f39f99e2\", \"x\": [\"90.0\", \"96.0\", \"110.0\", \"100.0\", \"100.0\", \"110.0\", \"120.0\", \"110.0\", \"90.2\"], \"y\": [\"210.0\", \"128.0\", \"135.0\", \"45.0\", \"140.0\", \"170.0\", \"75.0\", \"180.0\", \"150.4\"], \"z\": [\"190.0\", \"160.0\", \"25.0\", \"40.0\", \"85.0\", \"90.0\", \"100.0\", \"35.0\", \"195.5\"]}, {\"marker\": {\"color\": \"rgba(123, 123, 10, 0.8)\", \"line\": {\"color\": \"rgb(204, 204, 204)\", \"width\": 1}, \"opacity\": 0.9, \"size\": 12, \"symbol\": \"circle\"}, \"mode\": \"markers\", \"name\": \"Quaker Oats\", \"type\": \"scatter3d\", \"uid\": \"dc1cc38c-9c31-4af5-b5ee-2866f3556939\", \"x\": [\"120.0\", \"120.0\", \"120.0\", \"100.0\", \"100.0\", \"100.0\", \"100.0\"], \"y\": [\"15.0\", \"220.0\", \"220.0\", \"150.0\", \"0.0\", \"0.0\", \"135.0\"], \"z\": [\"135.0\", \"35.0\", \"45.0\", \"95.0\", \"30.0\", \"100.0\", \"110.0\"]}, {\"marker\": {\"color\": \"rgba(80, 198, 65, 0.8)\", \"line\": {\"color\": \"rgb(204, 204, 204)\", \"width\": 1}, \"opacity\": 0.9, \"size\": 12, \"symbol\": \"circle\"}, \"mode\": \"markers\", \"name\": \"Ralston Purina\", \"type\": \"scatter3d\", \"uid\": \"ecdac4c4-2f6e-4b3a-9401-c8d46b258bb1\", \"x\": [\"90.0\", \"110.0\", \"100.0\", \"150.0\", \"150.0\", \"110.0\", \"100.0\"], \"y\": [\"200.0\", \"280.0\", \"190.0\", \"95.0\", \"150.0\", \"240.0\", \"230.0\"], \"z\": [\"125.0\", \"25.0\", \"80.0\", \"170.0\", \"170.0\", \"30.0\", \"115.0\"]}],\n",
       "                        {\"margin\": {\"b\": 0, \"l\": 0, \"r\": 0, \"t\": 0}, \"scene\": {\"xaxis\": {\"title\": {\"text\": \"Calories (Cal)\"}}, \"yaxis\": {\"title\": {\"text\": \"Sodium (mg)\"}}, \"zaxis\": {\"title\": {\"text\": \"Potassium (mg)\"}}}, \"title\": {\"text\": \"Calories vs Sodium vs Potassium\", \"x\": 0, \"xref\": \"paper\"}},\n",
       "                        {\"showLink\": false, \"linkText\": \"Export to plot.ly\", \"plotlyServerURL\": \"https://plot.ly\", \"responsive\": true}\n",
       "                    ).then(function(){\n",
       "                            \n",
       "var gd = document.getElementById('4fa61890-18e5-4719-b7ce-7577e24537c6');\n",
       "var x = new MutationObserver(function (mutations, observer) {{\n",
       "        var display = window.getComputedStyle(gd).display;\n",
       "        if (!display || display === 'none') {{\n",
       "            console.log([gd, 'removed!']);\n",
       "            Plotly.purge(gd);\n",
       "            observer.disconnect();\n",
       "        }}\n",
       "}});\n",
       "\n",
       "// Listen for the removal of the full notebook cells\n",
       "var notebookContainer = gd.closest('#notebook-container');\n",
       "if (notebookContainer) {{\n",
       "    x.observe(notebookContainer, {childList: true});\n",
       "}}\n",
       "\n",
       "// Listen for the clearing of the current output cell\n",
       "var outputEl = gd.closest('.output');\n",
       "if (outputEl) {{\n",
       "    x.observe(outputEl, {childList: true});\n",
       "}}\n",
       "\n",
       "                        })\n",
       "                };\n",
       "                });\n",
       "            </script>\n",
       "        </div>"
      ]
     },
     "metadata": {},
     "output_type": "display_data"
    }
   ],
   "source": [
    "trace1 = go.Scatter3d(\n",
    "    x=df1.Calories,\n",
    "    y=df1.Sodium,\n",
    "    z=df1.Potassium,\n",
    "    name = 'General Mills',\n",
    "    mode='markers',\n",
    "    marker=dict(\n",
    "        color= 'rgba(12, 112, 212, 0.8)',\n",
    "        size=12,\n",
    "        line=dict(\n",
    "            color='rgb(204, 204, 204)',\n",
    "            width=0.5\n",
    "        ),\n",
    "        opacity=0.8\n",
    "    )\n",
    ")\n",
    "trace2 = go.Scatter3d(\n",
    "    x=df2.Calories,\n",
    "    y=df2.Sodium,\n",
    "    z=df2.Potassium,\n",
    "    name = 'Kelloggs',\n",
    "    mode='markers',\n",
    "    marker=dict(\n",
    "        color='rgba(11, 209, 208, 0.8)',\n",
    "        size=12,\n",
    "        symbol='circle',\n",
    "        line=dict(\n",
    "            color='rgb(204, 204, 204)',\n",
    "            width=1\n",
    "        ),\n",
    "        opacity=0.9\n",
    "    )\n",
    ")\n",
    "trace3 = go.Scatter3d(\n",
    "    x=df3.Calories,\n",
    "    y=df3.Sodium,\n",
    "    z=df3.Potassium,\n",
    "    name = 'Nabisco',\n",
    "    mode='markers',\n",
    "    marker=dict(\n",
    "        color='rgba(183, 98, 65, 0.8)',\n",
    "        size=12,\n",
    "        symbol='circle',\n",
    "        line=dict(\n",
    "            color='rgb(204, 204, 204)',\n",
    "            width=1\n",
    "        ),\n",
    "        opacity=0.9\n",
    "    )\n",
    ")\n",
    "trace4 = go.Scatter3d(\n",
    "    x=df4.Calories,\n",
    "    y=df4.Sodium,\n",
    "    z=df4.Potassium,\n",
    "    name = 'Post',\n",
    "    mode='markers',\n",
    "    marker=dict(\n",
    "        color='rgba(23, 50, 170, 0.8)',\n",
    "        size=12,\n",
    "        symbol='circle',\n",
    "        line=dict(\n",
    "            color='rgb(204, 204, 204)',\n",
    "            width=1\n",
    "        ),\n",
    "        opacity=0.9\n",
    "    )\n",
    ")\n",
    "trace5 = go.Scatter3d(\n",
    "    x=df5.Calories,\n",
    "    y=df5.Sodium,\n",
    "    z=df5.Potassium,\n",
    "    name = 'Quaker Oats',\n",
    "    mode='markers',\n",
    "    marker=dict(\n",
    "        color='rgba(123, 123, 10, 0.8)',\n",
    "        size=12,\n",
    "        symbol='circle',\n",
    "        line=dict(\n",
    "            color='rgb(204, 204, 204)',\n",
    "            width=1\n",
    "        ),\n",
    "        opacity=0.9\n",
    "    )\n",
    ")\n",
    "trace6 = go.Scatter3d(\n",
    "    x=df6.Calories,\n",
    "    y=df6.Sodium,\n",
    "    z=df6.Potassium,\n",
    "    name = 'Ralston Purina',\n",
    "    mode='markers',\n",
    "    marker=dict(\n",
    "        color='rgba(80, 198, 65, 0.8)',\n",
    "        size=12,\n",
    "        symbol='circle',\n",
    "        line=dict(\n",
    "            color='rgb(204, 204, 204)',\n",
    "            width=1\n",
    "        ),\n",
    "        opacity=0.9\n",
    "    )\n",
    ")\n",
    "data = [trace1, trace2, trace3, trace4, trace5, trace6]\n",
    "layout = go.Layout(\n",
    "    margin=dict(\n",
    "        l=0,\n",
    "        r=0,\n",
    "        b=0,\n",
    "        t=0\n",
    "    ),\n",
    "    scene = dict(\n",
    "        xaxis = dict(\n",
    "            title= 'Calories (Cal)'),\n",
    "        yaxis = dict(\n",
    "            title= 'Sodium (mg)'),\n",
    "        zaxis = dict(\n",
    "            title='Potassium (mg)'),),\n",
    "    title=go.layout.Title(\n",
    "        text='Calories vs Sodium vs Potassium',\n",
    "        xref='paper',\n",
    "        x=0\n",
    "    ),\n",
    ")\n",
    "fig = go.Figure(data=data, layout=layout)\n",
    "py.offline.iplot(fig, filename='Calories vs Sodium vs Potassium')"
   ]
  },
  {
   "cell_type": "markdown",
   "metadata": {},
   "source": [
    "This graphs shows a relationship between micronutirents sodium and potassium compared to the calories in a serving of cereal. Nabisco again has a lot of cereals with very low sodium count which is an indication of a healthier cereal. The 3-D Graph can be manipulated to view from different angles and one can zoom in and out to get a better view of the data."
   ]
  },
  {
   "cell_type": "code",
   "execution_count": null,
   "metadata": {},
   "outputs": [],
   "source": []
  },
  {
   "cell_type": "code",
   "execution_count": null,
   "metadata": {},
   "outputs": [],
   "source": []
  },
  {
   "cell_type": "code",
   "execution_count": null,
   "metadata": {},
   "outputs": [],
   "source": []
  },
  {
   "cell_type": "code",
   "execution_count": null,
   "metadata": {},
   "outputs": [],
   "source": []
  }
 ],
 "metadata": {
  "kernelspec": {
   "display_name": "Python 3",
   "language": "python",
   "name": "python3"
  },
  "language_info": {
   "codemirror_mode": {
    "name": "ipython",
    "version": 3
   },
   "file_extension": ".py",
   "mimetype": "text/x-python",
   "name": "python",
   "nbconvert_exporter": "python",
   "pygments_lexer": "ipython3",
   "version": "3.6.7"
  }
 },
 "nbformat": 4,
 "nbformat_minor": 2
}
