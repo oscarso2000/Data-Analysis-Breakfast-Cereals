{
 "cells": [
  {
   "cell_type": "code",
   "execution_count": 63,
   "metadata": {},
   "outputs": [
    {
     "data": {
      "text/html": [
       "<script type=\"text/javascript\">window.PlotlyConfig = {MathJaxConfig: 'local'};</script><script type=\"text/javascript\">if (window.MathJax) {MathJax.Hub.Config({SVG: {font: \"STIX-Web\"}});}</script><script>requirejs.config({paths: { 'plotly': ['https://cdn.plot.ly/plotly-latest.min']},});if(!window._Plotly) {require(['plotly'],function(plotly) {window._Plotly=plotly;});}</script>"
      ],
      "text/vnd.plotly.v1+html": [
       "<script type=\"text/javascript\">window.PlotlyConfig = {MathJaxConfig: 'local'};</script><script type=\"text/javascript\">if (window.MathJax) {MathJax.Hub.Config({SVG: {font: \"STIX-Web\"}});}</script><script>requirejs.config({paths: { 'plotly': ['https://cdn.plot.ly/plotly-latest.min']},});if(!window._Plotly) {require(['plotly'],function(plotly) {window._Plotly=plotly;});}</script>"
      ]
     },
     "metadata": {},
     "output_type": "display_data"
    }
   ],
   "source": [
    "import pandas as pd\n",
    "import numpy as np\n",
    "import matplotlib.pyplot as plt\n",
    "import seaborn as sns\n",
    "import plotly as py\n",
    "py.offline.init_notebook_mode(connected=True)\n",
    "%matplotlib inline\n",
    "\n",
    "##Dear Grader: IF you cannot see our graphs, please remember to pip all the libraries, including matplotlib, plotly and pyplot... "
   ]
  },
  {
   "cell_type": "code",
   "execution_count": 64,
   "metadata": {},
   "outputs": [],
   "source": [
    "data=pd.read_csv('breakfast_cereals.csv')"
   ]
  },
  {
   "cell_type": "code",
   "execution_count": 65,
   "metadata": {},
   "outputs": [
    {
     "data": {
      "text/html": [
       "<div>\n",
       "<style scoped>\n",
       "    .dataframe tbody tr th:only-of-type {\n",
       "        vertical-align: middle;\n",
       "    }\n",
       "\n",
       "    .dataframe tbody tr th {\n",
       "        vertical-align: top;\n",
       "    }\n",
       "\n",
       "    .dataframe thead th {\n",
       "        text-align: right;\n",
       "    }\n",
       "</style>\n",
       "<table border=\"1\" class=\"dataframe\">\n",
       "  <thead>\n",
       "    <tr style=\"text-align: right;\">\n",
       "      <th></th>\n",
       "      <th>Brand Name</th>\n",
       "      <th>Manufacturer</th>\n",
       "      <th>Calories</th>\n",
       "      <th>Protein</th>\n",
       "      <th>Fat</th>\n",
       "      <th>Sodium</th>\n",
       "      <th>Fiber</th>\n",
       "      <th>Carbohydrates</th>\n",
       "      <th>Sugar</th>\n",
       "      <th>Potassium</th>\n",
       "      <th>Vitamins</th>\n",
       "    </tr>\n",
       "  </thead>\n",
       "  <tbody>\n",
       "    <tr>\n",
       "      <th>0</th>\n",
       "      <td>100% Bran</td>\n",
       "      <td>Nabisco</td>\n",
       "      <td>70.0</td>\n",
       "      <td>4.0</td>\n",
       "      <td>1.0</td>\n",
       "      <td>130.0</td>\n",
       "      <td>10.0</td>\n",
       "      <td>5.0</td>\n",
       "      <td>6.0</td>\n",
       "      <td>280.0</td>\n",
       "      <td>25.0</td>\n",
       "    </tr>\n",
       "    <tr>\n",
       "      <th>1</th>\n",
       "      <td>100% Natural Bran</td>\n",
       "      <td>Quaker Oats</td>\n",
       "      <td>120.0</td>\n",
       "      <td>3.0</td>\n",
       "      <td>5.0</td>\n",
       "      <td>15.0</td>\n",
       "      <td>2.0</td>\n",
       "      <td>8.0</td>\n",
       "      <td>8.0</td>\n",
       "      <td>135.0</td>\n",
       "      <td>0.0</td>\n",
       "    </tr>\n",
       "    <tr>\n",
       "      <th>2</th>\n",
       "      <td>All-Bran</td>\n",
       "      <td>Kelloggs</td>\n",
       "      <td>70.0</td>\n",
       "      <td>4.0</td>\n",
       "      <td>1.0</td>\n",
       "      <td>260.0</td>\n",
       "      <td>9.0</td>\n",
       "      <td>7.0</td>\n",
       "      <td>5.0</td>\n",
       "      <td>320.0</td>\n",
       "      <td>25.0</td>\n",
       "    </tr>\n",
       "    <tr>\n",
       "      <th>3</th>\n",
       "      <td>All-Bran with Extra Fiber</td>\n",
       "      <td>Kelloggs</td>\n",
       "      <td>50.0</td>\n",
       "      <td>4.0</td>\n",
       "      <td>0.0</td>\n",
       "      <td>140.0</td>\n",
       "      <td>14.0</td>\n",
       "      <td>8.0</td>\n",
       "      <td>0.0</td>\n",
       "      <td>330.0</td>\n",
       "      <td>25.0</td>\n",
       "    </tr>\n",
       "    <tr>\n",
       "      <th>4</th>\n",
       "      <td>Apple Cinnamon Cheerios</td>\n",
       "      <td>General Mills</td>\n",
       "      <td>110.0</td>\n",
       "      <td>2.0</td>\n",
       "      <td>2.0</td>\n",
       "      <td>180.0</td>\n",
       "      <td>1.5</td>\n",
       "      <td>10.5</td>\n",
       "      <td>10.0</td>\n",
       "      <td>70.0</td>\n",
       "      <td>25.0</td>\n",
       "    </tr>\n",
       "  </tbody>\n",
       "</table>\n",
       "</div>"
      ],
      "text/plain": [
       "                  Brand Name   Manufacturer  Calories  Protein  Fat  Sodium  \\\n",
       "0                  100% Bran        Nabisco      70.0      4.0  1.0   130.0   \n",
       "1          100% Natural Bran    Quaker Oats     120.0      3.0  5.0    15.0   \n",
       "2                   All-Bran       Kelloggs      70.0      4.0  1.0   260.0   \n",
       "3  All-Bran with Extra Fiber       Kelloggs      50.0      4.0  0.0   140.0   \n",
       "4    Apple Cinnamon Cheerios  General Mills     110.0      2.0  2.0   180.0   \n",
       "\n",
       "   Fiber  Carbohydrates  Sugar  Potassium  Vitamins  \n",
       "0   10.0            5.0    6.0      280.0      25.0  \n",
       "1    2.0            8.0    8.0      135.0       0.0  \n",
       "2    9.0            7.0    5.0      320.0      25.0  \n",
       "3   14.0            8.0    0.0      330.0      25.0  \n",
       "4    1.5           10.5   10.0       70.0      25.0  "
      ]
     },
     "execution_count": 65,
     "metadata": {},
     "output_type": "execute_result"
    }
   ],
   "source": [
    "data.head(5)"
   ]
  },
  {
   "cell_type": "code",
   "execution_count": 66,
   "metadata": {},
   "outputs": [
    {
     "data": {
      "text/html": [
       "<div>\n",
       "<style scoped>\n",
       "    .dataframe tbody tr th:only-of-type {\n",
       "        vertical-align: middle;\n",
       "    }\n",
       "\n",
       "    .dataframe tbody tr th {\n",
       "        vertical-align: top;\n",
       "    }\n",
       "\n",
       "    .dataframe thead th {\n",
       "        text-align: right;\n",
       "    }\n",
       "</style>\n",
       "<table border=\"1\" class=\"dataframe\">\n",
       "  <thead>\n",
       "    <tr style=\"text-align: right;\">\n",
       "      <th></th>\n",
       "      <th>Calories</th>\n",
       "      <th>Protein</th>\n",
       "      <th>Fat</th>\n",
       "      <th>Sodium</th>\n",
       "      <th>Fiber</th>\n",
       "      <th>Carbohydrates</th>\n",
       "      <th>Sugar</th>\n",
       "      <th>Potassium</th>\n",
       "      <th>Vitamins</th>\n",
       "    </tr>\n",
       "  </thead>\n",
       "  <tbody>\n",
       "    <tr>\n",
       "      <th>count</th>\n",
       "      <td>73.000000</td>\n",
       "      <td>73.000000</td>\n",
       "      <td>73.000000</td>\n",
       "      <td>73.000000</td>\n",
       "      <td>73.000000</td>\n",
       "      <td>73.000000</td>\n",
       "      <td>73.000000</td>\n",
       "      <td>73.000000</td>\n",
       "      <td>73.000000</td>\n",
       "    </tr>\n",
       "    <tr>\n",
       "      <th>mean</th>\n",
       "      <td>104.078082</td>\n",
       "      <td>2.438356</td>\n",
       "      <td>0.953425</td>\n",
       "      <td>157.926027</td>\n",
       "      <td>2.101370</td>\n",
       "      <td>14.527397</td>\n",
       "      <td>6.776712</td>\n",
       "      <td>93.635616</td>\n",
       "      <td>27.661644</td>\n",
       "    </tr>\n",
       "    <tr>\n",
       "      <th>std</th>\n",
       "      <td>14.191882</td>\n",
       "      <td>1.054044</td>\n",
       "      <td>0.988557</td>\n",
       "      <td>80.322520</td>\n",
       "      <td>2.345237</td>\n",
       "      <td>4.247328</td>\n",
       "      <td>4.075146</td>\n",
       "      <td>64.489447</td>\n",
       "      <td>20.573862</td>\n",
       "    </tr>\n",
       "    <tr>\n",
       "      <th>min</th>\n",
       "      <td>50.000000</td>\n",
       "      <td>1.000000</td>\n",
       "      <td>0.000000</td>\n",
       "      <td>0.000000</td>\n",
       "      <td>0.000000</td>\n",
       "      <td>5.000000</td>\n",
       "      <td>0.000000</td>\n",
       "      <td>20.000000</td>\n",
       "      <td>0.000000</td>\n",
       "    </tr>\n",
       "    <tr>\n",
       "      <th>25%</th>\n",
       "      <td>100.000000</td>\n",
       "      <td>2.000000</td>\n",
       "      <td>0.000000</td>\n",
       "      <td>128.000000</td>\n",
       "      <td>1.000000</td>\n",
       "      <td>11.300000</td>\n",
       "      <td>3.000000</td>\n",
       "      <td>40.000000</td>\n",
       "      <td>25.000000</td>\n",
       "    </tr>\n",
       "    <tr>\n",
       "      <th>50%</th>\n",
       "      <td>107.700000</td>\n",
       "      <td>2.000000</td>\n",
       "      <td>1.000000</td>\n",
       "      <td>165.400000</td>\n",
       "      <td>2.000000</td>\n",
       "      <td>14.000000</td>\n",
       "      <td>6.000000</td>\n",
       "      <td>90.000000</td>\n",
       "      <td>25.000000</td>\n",
       "    </tr>\n",
       "    <tr>\n",
       "      <th>75%</th>\n",
       "      <td>110.000000</td>\n",
       "      <td>3.000000</td>\n",
       "      <td>1.000000</td>\n",
       "      <td>210.000000</td>\n",
       "      <td>3.000000</td>\n",
       "      <td>17.000000</td>\n",
       "      <td>10.000000</td>\n",
       "      <td>115.000000</td>\n",
       "      <td>25.000000</td>\n",
       "    </tr>\n",
       "    <tr>\n",
       "      <th>max</th>\n",
       "      <td>150.000000</td>\n",
       "      <td>6.000000</td>\n",
       "      <td>5.000000</td>\n",
       "      <td>320.000000</td>\n",
       "      <td>14.000000</td>\n",
       "      <td>26.000000</td>\n",
       "      <td>15.000000</td>\n",
       "      <td>330.000000</td>\n",
       "      <td>100.000000</td>\n",
       "    </tr>\n",
       "  </tbody>\n",
       "</table>\n",
       "</div>"
      ],
      "text/plain": [
       "         Calories    Protein        Fat      Sodium      Fiber  Carbohydrates  \\\n",
       "count   73.000000  73.000000  73.000000   73.000000  73.000000      73.000000   \n",
       "mean   104.078082   2.438356   0.953425  157.926027   2.101370      14.527397   \n",
       "std     14.191882   1.054044   0.988557   80.322520   2.345237       4.247328   \n",
       "min     50.000000   1.000000   0.000000    0.000000   0.000000       5.000000   \n",
       "25%    100.000000   2.000000   0.000000  128.000000   1.000000      11.300000   \n",
       "50%    107.700000   2.000000   1.000000  165.400000   2.000000      14.000000   \n",
       "75%    110.000000   3.000000   1.000000  210.000000   3.000000      17.000000   \n",
       "max    150.000000   6.000000   5.000000  320.000000  14.000000      26.000000   \n",
       "\n",
       "           Sugar   Potassium    Vitamins  \n",
       "count  73.000000   73.000000   73.000000  \n",
       "mean    6.776712   93.635616   27.661644  \n",
       "std     4.075146   64.489447   20.573862  \n",
       "min     0.000000   20.000000    0.000000  \n",
       "25%     3.000000   40.000000   25.000000  \n",
       "50%     6.000000   90.000000   25.000000  \n",
       "75%    10.000000  115.000000   25.000000  \n",
       "max    15.000000  330.000000  100.000000  "
      ]
     },
     "execution_count": 66,
     "metadata": {},
     "output_type": "execute_result"
    }
   ],
   "source": [
    "data.describe()"
   ]
  },
  {
   "cell_type": "code",
   "execution_count": 67,
   "metadata": {},
   "outputs": [],
   "source": [
    "import csv\n",
    "import operator\n",
    "sample = open('breakfast_cereals.csv')\n",
    "csv1 = csv.reader(sample, delimiter = ',')\n",
    "sorted_cereals = sorted(csv1, key=operator.itemgetter(1)) #sort by Manufacturer Name (we know there are 6)"
   ]
  },
  {
   "cell_type": "code",
   "execution_count": 68,
   "metadata": {},
   "outputs": [
    {
     "name": "stdout",
     "output_type": "stream",
     "text": [
      "Manufacturer: General Mills , Index: 0\n",
      "Manufacturer: Kelloggs , Index: 22\n",
      "Manufacturer: Manufacturer , Index: 45\n",
      "Manufacturer: Nabisco , Index: 46\n",
      "Manufacturer: Post , Index: 51\n",
      "Manufacturer: Quaker Oats , Index: 60\n",
      "Manufacturer: Ralston Purina , Index: 67\n"
     ]
    }
   ],
   "source": [
    "change = \" \"\n",
    "for i in range(73):\n",
    "    if (change != (sorted_cereals[i][1])):\n",
    "        print (\"Manufacturer:\", sorted_cereals[i][1], \", Index:\", i)\n",
    "        change = sorted_cereals[i][1]"
   ]
  },
  {
   "cell_type": "code",
   "execution_count": 69,
   "metadata": {},
   "outputs": [],
   "source": [
    "header = ['Brand Name', 'Manufacturer', 'Calories', 'Protein', 'Fat', 'Sodium', 'Fiber', 'Carbohydrates', 'Sugar', 'Potassium', 'Vitamins']\n",
    "df = pd.DataFrame(sorted_cereals)"
   ]
  },
  {
   "cell_type": "code",
   "execution_count": 70,
   "metadata": {},
   "outputs": [],
   "source": [
    "df.columns = header\n",
    "cereals_df = df.drop([45])"
   ]
  },
  {
   "cell_type": "code",
   "execution_count": 71,
   "metadata": {},
   "outputs": [],
   "source": [
    "import plotly.graph_objs as go"
   ]
  },
  {
   "cell_type": "code",
   "execution_count": 72,
   "metadata": {},
   "outputs": [],
   "source": [
    "df1= cereals_df.iloc[:22,:] #General Mills 22\n",
    "df2= cereals_df.iloc[22:45,:] #Kelloggs \n",
    "df3= cereals_df.iloc[45:50,:] #Nabisco (46 start)\n",
    "df4= cereals_df.iloc[50:59,:] #Post\n",
    "df5= cereals_df.iloc[59:66,:] #Quaker Oats\n",
    "df6= cereals_df.iloc[66:73,:] #Ralston Purina"
   ]
  },
  {
   "cell_type": "code",
   "execution_count": 73,
   "metadata": {},
   "outputs": [
    {
     "name": "stdout",
     "output_type": "stream",
     "text": [
      "   Sugar  Fat  Count\n",
      "0    1.0  2.0      1\n",
      "1   10.0  1.0      2\n",
      "2   10.0  2.0      1\n",
      "3   12.0  1.0      2\n",
      "4   13.0  1.0      2\n",
      "5    3.0  1.0      5\n",
      "6    6.0  1.0      1\n",
      "7    6.0  1.5      1\n",
      "8    7.0  2.0      1\n",
      "9    8.0  1.0      1\n",
      "10   8.0  1.6      1\n",
      "11   8.0  2.0      1\n",
      "12   9.0  1.0      1\n",
      "13   9.0  3.0      1\n",
      "14   9.3  0.7      1\n"
     ]
    }
   ],
   "source": [
    "doc = df1.groupby(['Sugar','Fat']).size().reset_index(name='Count')\n",
    "print (doc) #TODO: try to add a count"
   ]
  },
  {
   "cell_type": "code",
   "execution_count": 74,
   "metadata": {},
   "outputs": [],
   "source": [
    "trace1 = go.Scatter(\n",
    "    #x=x-axis\n",
    "    x= df1.Sugar,\n",
    "    #y=y-axis\n",
    "    y= df1.Fat,\n",
    "    #mode defines the type of plot eg-lines,markers,line+markers\n",
    "    mode='markers',\n",
    "    #name pf the plots\n",
    "    name='General Mills',\n",
    "    #markers->color and alpha of the respective trace\n",
    "    marker=dict(color = 'rgba(12, 112, 212, 0.8)'),\n",
    "    #the hover text\n",
    "    text=df1.Manufacturer)\n",
    "trace2 = go.Scatter(\n",
    "    x=df2.Sugar,\n",
    "    y=df2.Fat,\n",
    "    mode='markers',\n",
    "    name='Kelloggs',\n",
    "    marker=dict(color = 'rgba(11, 209, 208, 0.8)'),\n",
    "    text=df2.Manufacturer)\n",
    "trace3 = go.Scatter(\n",
    "    x=df3.Sugar,\n",
    "    y=df3.Fat,\n",
    "    mode='markers',\n",
    "    name='Nabisco',\n",
    "    marker=dict(color = 'rgba(183, 98, 65, 0.8)'),\n",
    "    text=df3.Manufacturer)\n",
    "trace4 = go.Scatter(\n",
    "    x=df4.Sugar,\n",
    "    y=df4.Fat,\n",
    "    mode='markers',\n",
    "    name='Post',\n",
    "    marker=dict(color = 'rgba(23, 50, 170, 0.8)'),\n",
    "    text=df4.Manufacturer)\n",
    "trace5 = go.Scatter(\n",
    "    x=df5.Sugar,\n",
    "    y=df5.Fat,\n",
    "    mode='markers',\n",
    "    name='Quaker Oats',\n",
    "    marker=dict(color = 'rgba(123, 123, 10, 0.8)'),\n",
    "    text=df5.Manufacturer)\n",
    "trace6 = go.Scatter(\n",
    "    x=df6.Sugar,\n",
    "    y=df6.Fat,\n",
    "    mode='markers',\n",
    "    name='Ralston Purina',\n",
    "    marker=dict(color = 'rgba(80, 198, 65, 0.8)'),\n",
    "    text=df6.Manufacturer)"
   ]
  },
  {
   "cell_type": "code",
   "execution_count": 75,
   "metadata": {},
   "outputs": [],
   "source": [
    "data_list=[trace1,trace2,trace3,trace4,trace5,trace6]"
   ]
  },
  {
   "cell_type": "code",
   "execution_count": 76,
   "metadata": {},
   "outputs": [],
   "source": [
    "layout=dict(title='Fat vs Sugar',\n",
    "               xaxis=dict(title='Sugar',ticklen=5,zeroline=False),\n",
    "               yaxis=dict(title='Fat',ticklen=5,zeroline=False)\n",
    "            )"
   ]
  },
  {
   "cell_type": "code",
   "execution_count": 77,
   "metadata": {},
   "outputs": [],
   "source": [
    "fig=dict(data=data_list,layout=layout)"
   ]
  },
  {
   "cell_type": "code",
   "execution_count": 78,
   "metadata": {},
   "outputs": [
    {
     "data": {
      "application/vnd.plotly.v1+json": {
       "config": {
        "linkText": "Export to plot.ly",
        "plotlyServerURL": "https://plot.ly",
        "showLink": false
       },
       "data": [
        {
         "marker": {
          "color": "rgba(12, 112, 212, 0.8)"
         },
         "mode": "markers",
         "name": "General Mills",
         "text": [
          "General Mills",
          "General Mills",
          "General Mills",
          "General Mills",
          "General Mills",
          "General Mills",
          "General Mills",
          "General Mills",
          "General Mills",
          "General Mills",
          "General Mills",
          "General Mills",
          "General Mills",
          "General Mills",
          "General Mills",
          "General Mills",
          "General Mills",
          "General Mills",
          "General Mills",
          "General Mills",
          "General Mills",
          "General Mills"
         ],
         "type": "scatter",
         "uid": "ced6d16a-df6e-4f5e-b560-73bd6e0ade57",
         "x": [
          "10.0",
          "6.0",
          "1.0",
          "9.0",
          "7.0",
          "13.0",
          "13.0",
          "10.0",
          "9.0",
          "10.0",
          "3.0",
          "12.0",
          "6.0",
          "8.0",
          "8.0",
          "3.0",
          "9.3",
          "3.0",
          "3.0",
          "12.0",
          "3.0",
          "8.0"
         ],
         "y": [
          "2.0",
          "1.5",
          "2.0",
          "3.0",
          "2.0",
          "1.0",
          "1.0",
          "1.0",
          "1.0",
          "1.0",
          "1.0",
          "1.0",
          "1.0",
          "1.6",
          "2.0",
          "1.0",
          "0.7",
          "1.0",
          "1.0",
          "1.0",
          "1.0",
          "1.0"
         ]
        },
        {
         "marker": {
          "color": "rgba(11, 209, 208, 0.8)"
         },
         "mode": "markers",
         "name": "Kelloggs",
         "text": [
          "Kelloggs",
          "Kelloggs",
          "Kelloggs",
          "Kelloggs",
          "Kelloggs",
          "Kelloggs",
          "Kelloggs",
          "Kelloggs",
          "Kelloggs",
          "Kelloggs",
          "Kelloggs",
          "Kelloggs",
          "Kelloggs",
          "Kelloggs",
          "Kelloggs",
          "Kelloggs",
          "Kelloggs",
          "Kelloggs",
          "Kelloggs",
          "Kelloggs",
          "Kelloggs",
          "Kelloggs",
          "Kelloggs"
         ],
         "type": "scatter",
         "uid": "8f027d35-6f21-4954-b542-10803e80ebfe",
         "x": [
          "5.0",
          "0.0",
          "14.0",
          "2.0",
          "12.0",
          "7.0",
          "3.0",
          "13.0",
          "11.0",
          "7.0",
          "9.0",
          "6.0",
          "6.9",
          "8.7",
          "9.0",
          "5.3",
          "2.0",
          "3.0",
          "9.0",
          "6.0",
          "3.0",
          "15.0",
          "3.0"
         ],
         "y": [
          "1.0",
          "0.0",
          "0.0",
          "0.0",
          "0.0",
          "3.0",
          "0.0",
          "1.0",
          "0.0",
          "0.0",
          "0.0",
          "1.0",
          "0.8",
          "1.3",
          "1.0",
          "1.5",
          "0.0",
          "0.0",
          "0.8",
          "0.0",
          "0.0",
          "1.0",
          "0.0"
         ]
        },
        {
         "marker": {
          "color": "rgba(183, 98, 65, 0.8)"
         },
         "mode": "markers",
         "name": "Nabisco",
         "text": [
          "Nabisco",
          "Nabisco",
          "Nabisco",
          "Nabisco",
          "Nabisco"
         ],
         "type": "scatter",
         "uid": "51559317-7c63-40b0-9b3b-8c3f4f548f89",
         "x": [
          "6.0",
          "0.0",
          "0.0",
          "0.0",
          "5.0"
         ],
         "y": [
          "1.0",
          "0.0",
          "0.0",
          "0.0",
          "0.0"
         ]
        },
        {
         "marker": {
          "color": "rgba(23, 50, 170, 0.8)"
         },
         "mode": "markers",
         "name": "Post",
         "text": [
          "Post",
          "Post",
          "Post",
          "Post",
          "Post",
          "Post",
          "Post",
          "Post",
          "Post"
         ],
         "type": "scatter",
         "uid": "c1f10116-852c-43b5-87aa-eea50de12c09",
         "x": [
          "5.0",
          "8.0",
          "12.0",
          "15.0",
          "5.0",
          "3.0",
          "4.0",
          "11.0",
          "10.5"
         ],
         "y": [
          "0.0",
          "1.6",
          "1.0",
          "0.0",
          "1.0",
          "0.0",
          "3.0",
          "0.0",
          "0.8"
         ]
        },
        {
         "marker": {
          "color": "rgba(123, 123, 10, 0.8)"
         },
         "mode": "markers",
         "name": "Quaker Oats",
         "text": [
          "Quaker Oats",
          "Quaker Oats",
          "Quaker Oats",
          "Quaker Oats",
          "Quaker Oats",
          "Quaker Oats",
          "Quaker Oats"
         ],
         "type": "scatter",
         "uid": "4b88c2dd-a40e-4406-a90e-b39fedd6f3d7",
         "x": [
          "8.0",
          "12.0",
          "11.0",
          "6.0",
          "0.0",
          "0.0",
          "6.0"
         ],
         "y": [
          "5.0",
          "2.0",
          "2.0",
          "2.0",
          "0.0",
          "0.0",
          "1.0"
         ]
        },
        {
         "marker": {
          "color": "rgba(80, 198, 65, 0.8)"
         },
         "mode": "markers",
         "name": "Ralston Purina",
         "text": [
          "Ralston Purina",
          "Ralston Purina",
          "Ralston Purina",
          "Ralston Purina",
          "Ralston Purina",
          "Ralston Purina",
          "Ralston Purina"
         ],
         "type": "scatter",
         "uid": "f96e6b3e-a6b3-4fee-acc2-55e9713695cd",
         "x": [
          "6.0",
          "3.0",
          "5.0",
          "11.0",
          "11.0",
          "2.0",
          "3.0"
         ],
         "y": [
          "1.0",
          "0.0",
          "0.0",
          "3.0",
          "3.0",
          "0.0",
          "1.0"
         ]
        }
       ],
       "layout": {
        "title": {
         "text": "Fat vs Sugar"
        },
        "xaxis": {
         "ticklen": 5,
         "title": {
          "text": "Sugar"
         },
         "zeroline": false
        },
        "yaxis": {
         "ticklen": 5,
         "title": {
          "text": "Fat"
         },
         "zeroline": false
        }
       }
      },
      "text/html": [
       "<div id=\"7c0a3493-860d-436a-89b0-f5707b30b7b3\" style=\"height: 525px; width: 100%;\" class=\"plotly-graph-div\"></div><script type=\"text/javascript\">require([\"plotly\"], function(Plotly) { window.PLOTLYENV=window.PLOTLYENV || {};window.PLOTLYENV.BASE_URL=\"https://plot.ly\";Plotly.newPlot(\"7c0a3493-860d-436a-89b0-f5707b30b7b3\", [{\"marker\": {\"color\": \"rgba(12, 112, 212, 0.8)\"}, \"mode\": \"markers\", \"name\": \"General Mills\", \"text\": [\"General Mills\", \"General Mills\", \"General Mills\", \"General Mills\", \"General Mills\", \"General Mills\", \"General Mills\", \"General Mills\", \"General Mills\", \"General Mills\", \"General Mills\", \"General Mills\", \"General Mills\", \"General Mills\", \"General Mills\", \"General Mills\", \"General Mills\", \"General Mills\", \"General Mills\", \"General Mills\", \"General Mills\", \"General Mills\"], \"x\": [\"10.0\", \"6.0\", \"1.0\", \"9.0\", \"7.0\", \"13.0\", \"13.0\", \"10.0\", \"9.0\", \"10.0\", \"3.0\", \"12.0\", \"6.0\", \"8.0\", \"8.0\", \"3.0\", \"9.3\", \"3.0\", \"3.0\", \"12.0\", \"3.0\", \"8.0\"], \"y\": [\"2.0\", \"1.5\", \"2.0\", \"3.0\", \"2.0\", \"1.0\", \"1.0\", \"1.0\", \"1.0\", \"1.0\", \"1.0\", \"1.0\", \"1.0\", \"1.6\", \"2.0\", \"1.0\", \"0.7\", \"1.0\", \"1.0\", \"1.0\", \"1.0\", \"1.0\"], \"type\": \"scatter\", \"uid\": \"5e390cf1-c696-4250-94d9-b4c1f835304b\"}, {\"marker\": {\"color\": \"rgba(11, 209, 208, 0.8)\"}, \"mode\": \"markers\", \"name\": \"Kelloggs\", \"text\": [\"Kelloggs\", \"Kelloggs\", \"Kelloggs\", \"Kelloggs\", \"Kelloggs\", \"Kelloggs\", \"Kelloggs\", \"Kelloggs\", \"Kelloggs\", \"Kelloggs\", \"Kelloggs\", \"Kelloggs\", \"Kelloggs\", \"Kelloggs\", \"Kelloggs\", \"Kelloggs\", \"Kelloggs\", \"Kelloggs\", \"Kelloggs\", \"Kelloggs\", \"Kelloggs\", \"Kelloggs\", \"Kelloggs\"], \"x\": [\"5.0\", \"0.0\", \"14.0\", \"2.0\", \"12.0\", \"7.0\", \"3.0\", \"13.0\", \"11.0\", \"7.0\", \"9.0\", \"6.0\", \"6.9\", \"8.7\", \"9.0\", \"5.3\", \"2.0\", \"3.0\", \"9.0\", \"6.0\", \"3.0\", \"15.0\", \"3.0\"], \"y\": [\"1.0\", \"0.0\", \"0.0\", \"0.0\", \"0.0\", \"3.0\", \"0.0\", \"1.0\", \"0.0\", \"0.0\", \"0.0\", \"1.0\", \"0.8\", \"1.3\", \"1.0\", \"1.5\", \"0.0\", \"0.0\", \"0.8\", \"0.0\", \"0.0\", \"1.0\", \"0.0\"], \"type\": \"scatter\", \"uid\": \"eb72bab4-725a-41e1-8bc9-9d3b04215da4\"}, {\"marker\": {\"color\": \"rgba(183, 98, 65, 0.8)\"}, \"mode\": \"markers\", \"name\": \"Nabisco\", \"text\": [\"Nabisco\", \"Nabisco\", \"Nabisco\", \"Nabisco\", \"Nabisco\"], \"x\": [\"6.0\", \"0.0\", \"0.0\", \"0.0\", \"5.0\"], \"y\": [\"1.0\", \"0.0\", \"0.0\", \"0.0\", \"0.0\"], \"type\": \"scatter\", \"uid\": \"16fcbd93-ee53-4f94-9cbd-46b450489121\"}, {\"marker\": {\"color\": \"rgba(23, 50, 170, 0.8)\"}, \"mode\": \"markers\", \"name\": \"Post\", \"text\": [\"Post\", \"Post\", \"Post\", \"Post\", \"Post\", \"Post\", \"Post\", \"Post\", \"Post\"], \"x\": [\"5.0\", \"8.0\", \"12.0\", \"15.0\", \"5.0\", \"3.0\", \"4.0\", \"11.0\", \"10.5\"], \"y\": [\"0.0\", \"1.6\", \"1.0\", \"0.0\", \"1.0\", \"0.0\", \"3.0\", \"0.0\", \"0.8\"], \"type\": \"scatter\", \"uid\": \"4661c649-bb4b-4ee6-846c-100b8832976e\"}, {\"marker\": {\"color\": \"rgba(123, 123, 10, 0.8)\"}, \"mode\": \"markers\", \"name\": \"Quaker Oats\", \"text\": [\"Quaker Oats\", \"Quaker Oats\", \"Quaker Oats\", \"Quaker Oats\", \"Quaker Oats\", \"Quaker Oats\", \"Quaker Oats\"], \"x\": [\"8.0\", \"12.0\", \"11.0\", \"6.0\", \"0.0\", \"0.0\", \"6.0\"], \"y\": [\"5.0\", \"2.0\", \"2.0\", \"2.0\", \"0.0\", \"0.0\", \"1.0\"], \"type\": \"scatter\", \"uid\": \"c3db1e00-b6e8-4c29-95d4-8e267db6b548\"}, {\"marker\": {\"color\": \"rgba(80, 198, 65, 0.8)\"}, \"mode\": \"markers\", \"name\": \"Ralston Purina\", \"text\": [\"Ralston Purina\", \"Ralston Purina\", \"Ralston Purina\", \"Ralston Purina\", \"Ralston Purina\", \"Ralston Purina\", \"Ralston Purina\"], \"x\": [\"6.0\", \"3.0\", \"5.0\", \"11.0\", \"11.0\", \"2.0\", \"3.0\"], \"y\": [\"1.0\", \"0.0\", \"0.0\", \"3.0\", \"3.0\", \"0.0\", \"1.0\"], \"type\": \"scatter\", \"uid\": \"c656979b-41c0-4d99-a63a-ec494e8d62e2\"}], {\"title\": {\"text\": \"Fat vs Sugar\"}, \"xaxis\": {\"ticklen\": 5, \"title\": {\"text\": \"Sugar\"}, \"zeroline\": false}, \"yaxis\": {\"ticklen\": 5, \"title\": {\"text\": \"Fat\"}, \"zeroline\": false}}, {\"showLink\": false, \"linkText\": \"Export to plot.ly\", \"plotlyServerURL\": \"https://plot.ly\"})});</script><script type=\"text/javascript\">window.addEventListener(\"resize\", function(){window._Plotly.Plots.resize(document.getElementById(\"7c0a3493-860d-436a-89b0-f5707b30b7b3\"));});</script>"
      ],
      "text/vnd.plotly.v1+html": [
       "<div id=\"7c0a3493-860d-436a-89b0-f5707b30b7b3\" style=\"height: 525px; width: 100%;\" class=\"plotly-graph-div\"></div><script type=\"text/javascript\">require([\"plotly\"], function(Plotly) { window.PLOTLYENV=window.PLOTLYENV || {};window.PLOTLYENV.BASE_URL=\"https://plot.ly\";Plotly.newPlot(\"7c0a3493-860d-436a-89b0-f5707b30b7b3\", [{\"marker\": {\"color\": \"rgba(12, 112, 212, 0.8)\"}, \"mode\": \"markers\", \"name\": \"General Mills\", \"text\": [\"General Mills\", \"General Mills\", \"General Mills\", \"General Mills\", \"General Mills\", \"General Mills\", \"General Mills\", \"General Mills\", \"General Mills\", \"General Mills\", \"General Mills\", \"General Mills\", \"General Mills\", \"General Mills\", \"General Mills\", \"General Mills\", \"General Mills\", \"General Mills\", \"General Mills\", \"General Mills\", \"General Mills\", \"General Mills\"], \"x\": [\"10.0\", \"6.0\", \"1.0\", \"9.0\", \"7.0\", \"13.0\", \"13.0\", \"10.0\", \"9.0\", \"10.0\", \"3.0\", \"12.0\", \"6.0\", \"8.0\", \"8.0\", \"3.0\", \"9.3\", \"3.0\", \"3.0\", \"12.0\", \"3.0\", \"8.0\"], \"y\": [\"2.0\", \"1.5\", \"2.0\", \"3.0\", \"2.0\", \"1.0\", \"1.0\", \"1.0\", \"1.0\", \"1.0\", \"1.0\", \"1.0\", \"1.0\", \"1.6\", \"2.0\", \"1.0\", \"0.7\", \"1.0\", \"1.0\", \"1.0\", \"1.0\", \"1.0\"], \"type\": \"scatter\", \"uid\": \"5e390cf1-c696-4250-94d9-b4c1f835304b\"}, {\"marker\": {\"color\": \"rgba(11, 209, 208, 0.8)\"}, \"mode\": \"markers\", \"name\": \"Kelloggs\", \"text\": [\"Kelloggs\", \"Kelloggs\", \"Kelloggs\", \"Kelloggs\", \"Kelloggs\", \"Kelloggs\", \"Kelloggs\", \"Kelloggs\", \"Kelloggs\", \"Kelloggs\", \"Kelloggs\", \"Kelloggs\", \"Kelloggs\", \"Kelloggs\", \"Kelloggs\", \"Kelloggs\", \"Kelloggs\", \"Kelloggs\", \"Kelloggs\", \"Kelloggs\", \"Kelloggs\", \"Kelloggs\", \"Kelloggs\"], \"x\": [\"5.0\", \"0.0\", \"14.0\", \"2.0\", \"12.0\", \"7.0\", \"3.0\", \"13.0\", \"11.0\", \"7.0\", \"9.0\", \"6.0\", \"6.9\", \"8.7\", \"9.0\", \"5.3\", \"2.0\", \"3.0\", \"9.0\", \"6.0\", \"3.0\", \"15.0\", \"3.0\"], \"y\": [\"1.0\", \"0.0\", \"0.0\", \"0.0\", \"0.0\", \"3.0\", \"0.0\", \"1.0\", \"0.0\", \"0.0\", \"0.0\", \"1.0\", \"0.8\", \"1.3\", \"1.0\", \"1.5\", \"0.0\", \"0.0\", \"0.8\", \"0.0\", \"0.0\", \"1.0\", \"0.0\"], \"type\": \"scatter\", \"uid\": \"eb72bab4-725a-41e1-8bc9-9d3b04215da4\"}, {\"marker\": {\"color\": \"rgba(183, 98, 65, 0.8)\"}, \"mode\": \"markers\", \"name\": \"Nabisco\", \"text\": [\"Nabisco\", \"Nabisco\", \"Nabisco\", \"Nabisco\", \"Nabisco\"], \"x\": [\"6.0\", \"0.0\", \"0.0\", \"0.0\", \"5.0\"], \"y\": [\"1.0\", \"0.0\", \"0.0\", \"0.0\", \"0.0\"], \"type\": \"scatter\", \"uid\": \"16fcbd93-ee53-4f94-9cbd-46b450489121\"}, {\"marker\": {\"color\": \"rgba(23, 50, 170, 0.8)\"}, \"mode\": \"markers\", \"name\": \"Post\", \"text\": [\"Post\", \"Post\", \"Post\", \"Post\", \"Post\", \"Post\", \"Post\", \"Post\", \"Post\"], \"x\": [\"5.0\", \"8.0\", \"12.0\", \"15.0\", \"5.0\", \"3.0\", \"4.0\", \"11.0\", \"10.5\"], \"y\": [\"0.0\", \"1.6\", \"1.0\", \"0.0\", \"1.0\", \"0.0\", \"3.0\", \"0.0\", \"0.8\"], \"type\": \"scatter\", \"uid\": \"4661c649-bb4b-4ee6-846c-100b8832976e\"}, {\"marker\": {\"color\": \"rgba(123, 123, 10, 0.8)\"}, \"mode\": \"markers\", \"name\": \"Quaker Oats\", \"text\": [\"Quaker Oats\", \"Quaker Oats\", \"Quaker Oats\", \"Quaker Oats\", \"Quaker Oats\", \"Quaker Oats\", \"Quaker Oats\"], \"x\": [\"8.0\", \"12.0\", \"11.0\", \"6.0\", \"0.0\", \"0.0\", \"6.0\"], \"y\": [\"5.0\", \"2.0\", \"2.0\", \"2.0\", \"0.0\", \"0.0\", \"1.0\"], \"type\": \"scatter\", \"uid\": \"c3db1e00-b6e8-4c29-95d4-8e267db6b548\"}, {\"marker\": {\"color\": \"rgba(80, 198, 65, 0.8)\"}, \"mode\": \"markers\", \"name\": \"Ralston Purina\", \"text\": [\"Ralston Purina\", \"Ralston Purina\", \"Ralston Purina\", \"Ralston Purina\", \"Ralston Purina\", \"Ralston Purina\", \"Ralston Purina\"], \"x\": [\"6.0\", \"3.0\", \"5.0\", \"11.0\", \"11.0\", \"2.0\", \"3.0\"], \"y\": [\"1.0\", \"0.0\", \"0.0\", \"3.0\", \"3.0\", \"0.0\", \"1.0\"], \"type\": \"scatter\", \"uid\": \"c656979b-41c0-4d99-a63a-ec494e8d62e2\"}], {\"title\": {\"text\": \"Fat vs Sugar\"}, \"xaxis\": {\"ticklen\": 5, \"title\": {\"text\": \"Sugar\"}, \"zeroline\": false}, \"yaxis\": {\"ticklen\": 5, \"title\": {\"text\": \"Fat\"}, \"zeroline\": false}}, {\"showLink\": false, \"linkText\": \"Export to plot.ly\", \"plotlyServerURL\": \"https://plot.ly\"})});</script><script type=\"text/javascript\">window.addEventListener(\"resize\", function(){window._Plotly.Plots.resize(document.getElementById(\"7c0a3493-860d-436a-89b0-f5707b30b7b3\"));});</script>"
      ]
     },
     "metadata": {},
     "output_type": "display_data"
    }
   ],
   "source": [
    "py.offline.iplot(fig)"
   ]
  },
  {
   "cell_type": "code",
   "execution_count": 79,
   "metadata": {},
   "outputs": [],
   "source": [
    "trace1 = go.Scatter(\n",
    "    #x=x-axis\n",
    "    x= df1.Potassium,\n",
    "    #y=y-axis\n",
    "    y= df1.Fiber,\n",
    "    #mode defines the type of plot eg-lines,markers,line+markers\n",
    "    mode='markers',\n",
    "    #name pf the plots\n",
    "    name='General Mills',\n",
    "    #markers->color and alpha of the respective trace\n",
    "    marker=dict(color = 'rgba(12, 112, 212, 0.8)'),\n",
    "    #the hover text\n",
    "    text=df1.Manufacturer)\n",
    "trace2 = go.Scatter(\n",
    "    x=df2.Potassium,\n",
    "    y=df2.Fiber,\n",
    "    mode='markers',\n",
    "    name='Kelloggs',\n",
    "    marker=dict(color = 'rgba(11, 209, 208, 0.8)'),\n",
    "    text=df2.Manufacturer)\n",
    "trace3 = go.Scatter(\n",
    "    x=df3.Potassium,\n",
    "    y=df3.Fiber,\n",
    "    mode='markers',\n",
    "    name='Nabisco',\n",
    "    marker=dict(color = 'rgba(183, 98, 65, 0.8)'),\n",
    "    text=df3.Manufacturer)\n",
    "trace4 = go.Scatter(\n",
    "    x=df4.Potassium,\n",
    "    y=df4.Fiber,\n",
    "    mode='markers',\n",
    "    name='Post',\n",
    "    marker=dict(color = 'rgba(23, 50, 170, 0.8)'),\n",
    "    text=df4.Manufacturer)\n",
    "trace5 = go.Scatter(\n",
    "    x=df5.Potassium,\n",
    "    y=df5.Fiber,\n",
    "    mode='markers',\n",
    "    name='Quaker Oats',\n",
    "    marker=dict(color = 'rgba(123, 123, 10, 0.8)'),\n",
    "    text=df5.Manufacturer)\n",
    "trace6 = go.Scatter(\n",
    "    x=df6.Potassium,\n",
    "    y=df6.Fiber,\n",
    "    mode='markers',\n",
    "    name='Ralston Purina',\n",
    "    marker=dict(color = 'rgba(80, 198, 65, 0.8)'),\n",
    "    text=df6.Manufacturer)"
   ]
  },
  {
   "cell_type": "code",
   "execution_count": 80,
   "metadata": {},
   "outputs": [],
   "source": [
    "data_list=[trace1,trace2,trace3,trace4,trace5,trace6]"
   ]
  },
  {
   "cell_type": "code",
   "execution_count": 81,
   "metadata": {},
   "outputs": [],
   "source": [
    "layout=dict(title='Fiber vs Potassium',\n",
    "               xaxis=dict(title='Potassium',ticklen=5,zeroline=False),\n",
    "               yaxis=dict(title='Fat',ticklen=5,zeroline=False)\n",
    "            )"
   ]
  },
  {
   "cell_type": "code",
   "execution_count": 82,
   "metadata": {},
   "outputs": [],
   "source": [
    "fig=dict(data=data_list,layout=layout)"
   ]
  },
  {
   "cell_type": "code",
   "execution_count": 83,
   "metadata": {},
   "outputs": [
    {
     "data": {
      "application/vnd.plotly.v1+json": {
       "config": {
        "linkText": "Export to plot.ly",
        "plotlyServerURL": "https://plot.ly",
        "showLink": false
       },
       "data": [
        {
         "marker": {
          "color": "rgba(12, 112, 212, 0.8)"
         },
         "mode": "markers",
         "name": "General Mills",
         "text": [
          "General Mills",
          "General Mills",
          "General Mills",
          "General Mills",
          "General Mills",
          "General Mills",
          "General Mills",
          "General Mills",
          "General Mills",
          "General Mills",
          "General Mills",
          "General Mills",
          "General Mills",
          "General Mills",
          "General Mills",
          "General Mills",
          "General Mills",
          "General Mills",
          "General Mills",
          "General Mills",
          "General Mills",
          "General Mills"
         ],
         "type": "scatter",
         "uid": "69ed2881-ea09-44f5-addd-1317a0674fe7",
         "x": [
          "70.0",
          "75.2",
          "105.0",
          "45.0",
          "105.0",
          "55.0",
          "65.0",
          "120.0",
          "45.0",
          "90.0",
          "40.0",
          "55.0",
          "90.0",
          "96.0",
          "140.0",
          "35.0",
          "153.3",
          "110.0",
          "60.0",
          "25.0",
          "110.0",
          "60.0"
         ],
         "y": [
          "1.5",
          "1.5",
          "2.0",
          "0.0",
          "2.0",
          "0.0",
          "0.0",
          "2.0",
          "0.0",
          "1.5",
          "0.0",
          "0.0",
          "2.0",
          "1.2",
          "2.5",
          "0.0",
          "2.7",
          "3.0",
          "0.0",
          "0.0",
          "3.0",
          "1.0"
         ]
        },
        {
         "marker": {
          "color": "rgba(11, 209, 208, 0.8)"
         },
         "mode": "markers",
         "name": "Kelloggs",
         "text": [
          "Kelloggs",
          "Kelloggs",
          "Kelloggs",
          "Kelloggs",
          "Kelloggs",
          "Kelloggs",
          "Kelloggs",
          "Kelloggs",
          "Kelloggs",
          "Kelloggs",
          "Kelloggs",
          "Kelloggs",
          "Kelloggs",
          "Kelloggs",
          "Kelloggs",
          "Kelloggs",
          "Kelloggs",
          "Kelloggs",
          "Kelloggs",
          "Kelloggs",
          "Kelloggs",
          "Kelloggs",
          "Kelloggs"
         ],
         "type": "scatter",
         "uid": "c2d0c579-9025-4732-b400-94176c65b9cf",
         "x": [
          "320.0",
          "330.0",
          "30.0",
          "35.0",
          "20.0",
          "160.0",
          "30.0",
          "30.0",
          "25.0",
          "100.0",
          "142.9",
          "60.0",
          "73.1",
          "106.7",
          "40.0",
          "97.7",
          "90.0",
          "45.0",
          "180.5",
          "110.0",
          "35.0",
          "40.0",
          "55.0"
         ],
         "y": [
          "9.0",
          "14.0",
          "1.0",
          "1.0",
          "1.0",
          "4.0",
          "1.0",
          "1.0",
          "1.0",
          "3.0",
          "3.8",
          "1.0",
          "1.5",
          "2.0",
          "0.0",
          "2.3",
          "3.0",
          "1.0",
          "3.8",
          "2.0",
          "0.0",
          "1.0",
          "1.0"
         ]
        },
        {
         "marker": {
          "color": "rgba(183, 98, 65, 0.8)"
         },
         "mode": "markers",
         "name": "Nabisco",
         "text": [
          "Nabisco",
          "Nabisco",
          "Nabisco",
          "Nabisco",
          "Nabisco"
         ],
         "type": "scatter",
         "uid": "3194e9e1-dcb8-4df8-bfd4-575b03689d23",
         "x": [
          "280.0",
          "114.5",
          "140.0",
          "120.0",
          "90.0"
         ],
         "y": [
          "10.0",
          "3.6",
          "4.0",
          "3.0",
          "3.0"
         ]
        },
        {
         "marker": {
          "color": "rgba(23, 50, 170, 0.8)"
         },
         "mode": "markers",
         "name": "Post",
         "text": [
          "Post",
          "Post",
          "Post",
          "Post",
          "Post",
          "Post",
          "Post",
          "Post",
          "Post"
         ],
         "type": "scatter",
         "uid": "7e3e017c-a921-443f-9c1d-2c9b6301918e",
         "x": [
          "190.0",
          "160.0",
          "25.0",
          "40.0",
          "85.0",
          "90.0",
          "100.0",
          "35.0",
          "195.5"
         ],
         "y": [
          "5.0",
          "4.0",
          "0.0",
          "0.0",
          "3.0",
          "3.0",
          "3.0",
          "0.0",
          "4.5"
         ]
        },
        {
         "marker": {
          "color": "rgba(123, 123, 10, 0.8)"
         },
         "mode": "markers",
         "name": "Quaker Oats",
         "text": [
          "Quaker Oats",
          "Quaker Oats",
          "Quaker Oats",
          "Quaker Oats",
          "Quaker Oats",
          "Quaker Oats",
          "Quaker Oats"
         ],
         "type": "scatter",
         "uid": "d9e95569-7daf-469b-8f95-9f9778d6ed61",
         "x": [
          "135.0",
          "35.0",
          "45.0",
          "95.0",
          "30.0",
          "100.0",
          "110.0"
         ],
         "y": [
          "2.0",
          "0.0",
          "1.0",
          "2.0",
          "0.0",
          "2.0",
          "2.0"
         ]
        },
        {
         "marker": {
          "color": "rgba(80, 198, 65, 0.8)"
         },
         "mode": "markers",
         "name": "Ralston Purina",
         "text": [
          "Ralston Purina",
          "Ralston Purina",
          "Ralston Purina",
          "Ralston Purina",
          "Ralston Purina",
          "Ralston Purina",
          "Ralston Purina"
         ],
         "type": "scatter",
         "uid": "8f15fca4-c371-420f-8ba8-bc73a4f29acf",
         "x": [
          "125.0",
          "25.0",
          "80.0",
          "170.0",
          "170.0",
          "30.0",
          "115.0"
         ],
         "y": [
          "4.0",
          "0.0",
          "1.0",
          "3.0",
          "3.0",
          "0.0",
          "3.0"
         ]
        }
       ],
       "layout": {
        "title": {
         "text": "Fiber vs Potassium"
        },
        "xaxis": {
         "ticklen": 5,
         "title": {
          "text": "Potassium"
         },
         "zeroline": false
        },
        "yaxis": {
         "ticklen": 5,
         "title": {
          "text": "Fat"
         },
         "zeroline": false
        }
       }
      },
      "text/html": [
       "<div id=\"86d2f235-a180-4710-ab42-fba3d0519e7e\" style=\"height: 525px; width: 100%;\" class=\"plotly-graph-div\"></div><script type=\"text/javascript\">require([\"plotly\"], function(Plotly) { window.PLOTLYENV=window.PLOTLYENV || {};window.PLOTLYENV.BASE_URL=\"https://plot.ly\";Plotly.newPlot(\"86d2f235-a180-4710-ab42-fba3d0519e7e\", [{\"marker\": {\"color\": \"rgba(12, 112, 212, 0.8)\"}, \"mode\": \"markers\", \"name\": \"General Mills\", \"text\": [\"General Mills\", \"General Mills\", \"General Mills\", \"General Mills\", \"General Mills\", \"General Mills\", \"General Mills\", \"General Mills\", \"General Mills\", \"General Mills\", \"General Mills\", \"General Mills\", \"General Mills\", \"General Mills\", \"General Mills\", \"General Mills\", \"General Mills\", \"General Mills\", \"General Mills\", \"General Mills\", \"General Mills\", \"General Mills\"], \"x\": [\"70.0\", \"75.2\", \"105.0\", \"45.0\", \"105.0\", \"55.0\", \"65.0\", \"120.0\", \"45.0\", \"90.0\", \"40.0\", \"55.0\", \"90.0\", \"96.0\", \"140.0\", \"35.0\", \"153.3\", \"110.0\", \"60.0\", \"25.0\", \"110.0\", \"60.0\"], \"y\": [\"1.5\", \"1.5\", \"2.0\", \"0.0\", \"2.0\", \"0.0\", \"0.0\", \"2.0\", \"0.0\", \"1.5\", \"0.0\", \"0.0\", \"2.0\", \"1.2\", \"2.5\", \"0.0\", \"2.7\", \"3.0\", \"0.0\", \"0.0\", \"3.0\", \"1.0\"], \"type\": \"scatter\", \"uid\": \"76836564-a72c-4a64-ac4d-1e3e8acb66f2\"}, {\"marker\": {\"color\": \"rgba(11, 209, 208, 0.8)\"}, \"mode\": \"markers\", \"name\": \"Kelloggs\", \"text\": [\"Kelloggs\", \"Kelloggs\", \"Kelloggs\", \"Kelloggs\", \"Kelloggs\", \"Kelloggs\", \"Kelloggs\", \"Kelloggs\", \"Kelloggs\", \"Kelloggs\", \"Kelloggs\", \"Kelloggs\", \"Kelloggs\", \"Kelloggs\", \"Kelloggs\", \"Kelloggs\", \"Kelloggs\", \"Kelloggs\", \"Kelloggs\", \"Kelloggs\", \"Kelloggs\", \"Kelloggs\", \"Kelloggs\"], \"x\": [\"320.0\", \"330.0\", \"30.0\", \"35.0\", \"20.0\", \"160.0\", \"30.0\", \"30.0\", \"25.0\", \"100.0\", \"142.9\", \"60.0\", \"73.1\", \"106.7\", \"40.0\", \"97.7\", \"90.0\", \"45.0\", \"180.5\", \"110.0\", \"35.0\", \"40.0\", \"55.0\"], \"y\": [\"9.0\", \"14.0\", \"1.0\", \"1.0\", \"1.0\", \"4.0\", \"1.0\", \"1.0\", \"1.0\", \"3.0\", \"3.8\", \"1.0\", \"1.5\", \"2.0\", \"0.0\", \"2.3\", \"3.0\", \"1.0\", \"3.8\", \"2.0\", \"0.0\", \"1.0\", \"1.0\"], \"type\": \"scatter\", \"uid\": \"01ad3953-1a17-42bf-b0cc-98cae0d565c2\"}, {\"marker\": {\"color\": \"rgba(183, 98, 65, 0.8)\"}, \"mode\": \"markers\", \"name\": \"Nabisco\", \"text\": [\"Nabisco\", \"Nabisco\", \"Nabisco\", \"Nabisco\", \"Nabisco\"], \"x\": [\"280.0\", \"114.5\", \"140.0\", \"120.0\", \"90.0\"], \"y\": [\"10.0\", \"3.6\", \"4.0\", \"3.0\", \"3.0\"], \"type\": \"scatter\", \"uid\": \"a9ba72c9-578b-41d3-abe8-33420522b8de\"}, {\"marker\": {\"color\": \"rgba(23, 50, 170, 0.8)\"}, \"mode\": \"markers\", \"name\": \"Post\", \"text\": [\"Post\", \"Post\", \"Post\", \"Post\", \"Post\", \"Post\", \"Post\", \"Post\", \"Post\"], \"x\": [\"190.0\", \"160.0\", \"25.0\", \"40.0\", \"85.0\", \"90.0\", \"100.0\", \"35.0\", \"195.5\"], \"y\": [\"5.0\", \"4.0\", \"0.0\", \"0.0\", \"3.0\", \"3.0\", \"3.0\", \"0.0\", \"4.5\"], \"type\": \"scatter\", \"uid\": \"d07d4bc3-dc6d-4127-babf-ad044924a6a6\"}, {\"marker\": {\"color\": \"rgba(123, 123, 10, 0.8)\"}, \"mode\": \"markers\", \"name\": \"Quaker Oats\", \"text\": [\"Quaker Oats\", \"Quaker Oats\", \"Quaker Oats\", \"Quaker Oats\", \"Quaker Oats\", \"Quaker Oats\", \"Quaker Oats\"], \"x\": [\"135.0\", \"35.0\", \"45.0\", \"95.0\", \"30.0\", \"100.0\", \"110.0\"], \"y\": [\"2.0\", \"0.0\", \"1.0\", \"2.0\", \"0.0\", \"2.0\", \"2.0\"], \"type\": \"scatter\", \"uid\": \"3758a47d-4f0b-47e8-8211-6bf911de1fd0\"}, {\"marker\": {\"color\": \"rgba(80, 198, 65, 0.8)\"}, \"mode\": \"markers\", \"name\": \"Ralston Purina\", \"text\": [\"Ralston Purina\", \"Ralston Purina\", \"Ralston Purina\", \"Ralston Purina\", \"Ralston Purina\", \"Ralston Purina\", \"Ralston Purina\"], \"x\": [\"125.0\", \"25.0\", \"80.0\", \"170.0\", \"170.0\", \"30.0\", \"115.0\"], \"y\": [\"4.0\", \"0.0\", \"1.0\", \"3.0\", \"3.0\", \"0.0\", \"3.0\"], \"type\": \"scatter\", \"uid\": \"8052084e-81a9-4d6a-9133-8ee9e9b1eee3\"}], {\"title\": {\"text\": \"Fiber vs Potassium\"}, \"xaxis\": {\"ticklen\": 5, \"title\": {\"text\": \"Potassium\"}, \"zeroline\": false}, \"yaxis\": {\"ticklen\": 5, \"title\": {\"text\": \"Fat\"}, \"zeroline\": false}}, {\"showLink\": false, \"linkText\": \"Export to plot.ly\", \"plotlyServerURL\": \"https://plot.ly\"})});</script><script type=\"text/javascript\">window.addEventListener(\"resize\", function(){window._Plotly.Plots.resize(document.getElementById(\"86d2f235-a180-4710-ab42-fba3d0519e7e\"));});</script>"
      ],
      "text/vnd.plotly.v1+html": [
       "<div id=\"86d2f235-a180-4710-ab42-fba3d0519e7e\" style=\"height: 525px; width: 100%;\" class=\"plotly-graph-div\"></div><script type=\"text/javascript\">require([\"plotly\"], function(Plotly) { window.PLOTLYENV=window.PLOTLYENV || {};window.PLOTLYENV.BASE_URL=\"https://plot.ly\";Plotly.newPlot(\"86d2f235-a180-4710-ab42-fba3d0519e7e\", [{\"marker\": {\"color\": \"rgba(12, 112, 212, 0.8)\"}, \"mode\": \"markers\", \"name\": \"General Mills\", \"text\": [\"General Mills\", \"General Mills\", \"General Mills\", \"General Mills\", \"General Mills\", \"General Mills\", \"General Mills\", \"General Mills\", \"General Mills\", \"General Mills\", \"General Mills\", \"General Mills\", \"General Mills\", \"General Mills\", \"General Mills\", \"General Mills\", \"General Mills\", \"General Mills\", \"General Mills\", \"General Mills\", \"General Mills\", \"General Mills\"], \"x\": [\"70.0\", \"75.2\", \"105.0\", \"45.0\", \"105.0\", \"55.0\", \"65.0\", \"120.0\", \"45.0\", \"90.0\", \"40.0\", \"55.0\", \"90.0\", \"96.0\", \"140.0\", \"35.0\", \"153.3\", \"110.0\", \"60.0\", \"25.0\", \"110.0\", \"60.0\"], \"y\": [\"1.5\", \"1.5\", \"2.0\", \"0.0\", \"2.0\", \"0.0\", \"0.0\", \"2.0\", \"0.0\", \"1.5\", \"0.0\", \"0.0\", \"2.0\", \"1.2\", \"2.5\", \"0.0\", \"2.7\", \"3.0\", \"0.0\", \"0.0\", \"3.0\", \"1.0\"], \"type\": \"scatter\", \"uid\": \"76836564-a72c-4a64-ac4d-1e3e8acb66f2\"}, {\"marker\": {\"color\": \"rgba(11, 209, 208, 0.8)\"}, \"mode\": \"markers\", \"name\": \"Kelloggs\", \"text\": [\"Kelloggs\", \"Kelloggs\", \"Kelloggs\", \"Kelloggs\", \"Kelloggs\", \"Kelloggs\", \"Kelloggs\", \"Kelloggs\", \"Kelloggs\", \"Kelloggs\", \"Kelloggs\", \"Kelloggs\", \"Kelloggs\", \"Kelloggs\", \"Kelloggs\", \"Kelloggs\", \"Kelloggs\", \"Kelloggs\", \"Kelloggs\", \"Kelloggs\", \"Kelloggs\", \"Kelloggs\", \"Kelloggs\"], \"x\": [\"320.0\", \"330.0\", \"30.0\", \"35.0\", \"20.0\", \"160.0\", \"30.0\", \"30.0\", \"25.0\", \"100.0\", \"142.9\", \"60.0\", \"73.1\", \"106.7\", \"40.0\", \"97.7\", \"90.0\", \"45.0\", \"180.5\", \"110.0\", \"35.0\", \"40.0\", \"55.0\"], \"y\": [\"9.0\", \"14.0\", \"1.0\", \"1.0\", \"1.0\", \"4.0\", \"1.0\", \"1.0\", \"1.0\", \"3.0\", \"3.8\", \"1.0\", \"1.5\", \"2.0\", \"0.0\", \"2.3\", \"3.0\", \"1.0\", \"3.8\", \"2.0\", \"0.0\", \"1.0\", \"1.0\"], \"type\": \"scatter\", \"uid\": \"01ad3953-1a17-42bf-b0cc-98cae0d565c2\"}, {\"marker\": {\"color\": \"rgba(183, 98, 65, 0.8)\"}, \"mode\": \"markers\", \"name\": \"Nabisco\", \"text\": [\"Nabisco\", \"Nabisco\", \"Nabisco\", \"Nabisco\", \"Nabisco\"], \"x\": [\"280.0\", \"114.5\", \"140.0\", \"120.0\", \"90.0\"], \"y\": [\"10.0\", \"3.6\", \"4.0\", \"3.0\", \"3.0\"], \"type\": \"scatter\", \"uid\": \"a9ba72c9-578b-41d3-abe8-33420522b8de\"}, {\"marker\": {\"color\": \"rgba(23, 50, 170, 0.8)\"}, \"mode\": \"markers\", \"name\": \"Post\", \"text\": [\"Post\", \"Post\", \"Post\", \"Post\", \"Post\", \"Post\", \"Post\", \"Post\", \"Post\"], \"x\": [\"190.0\", \"160.0\", \"25.0\", \"40.0\", \"85.0\", \"90.0\", \"100.0\", \"35.0\", \"195.5\"], \"y\": [\"5.0\", \"4.0\", \"0.0\", \"0.0\", \"3.0\", \"3.0\", \"3.0\", \"0.0\", \"4.5\"], \"type\": \"scatter\", \"uid\": \"d07d4bc3-dc6d-4127-babf-ad044924a6a6\"}, {\"marker\": {\"color\": \"rgba(123, 123, 10, 0.8)\"}, \"mode\": \"markers\", \"name\": \"Quaker Oats\", \"text\": [\"Quaker Oats\", \"Quaker Oats\", \"Quaker Oats\", \"Quaker Oats\", \"Quaker Oats\", \"Quaker Oats\", \"Quaker Oats\"], \"x\": [\"135.0\", \"35.0\", \"45.0\", \"95.0\", \"30.0\", \"100.0\", \"110.0\"], \"y\": [\"2.0\", \"0.0\", \"1.0\", \"2.0\", \"0.0\", \"2.0\", \"2.0\"], \"type\": \"scatter\", \"uid\": \"3758a47d-4f0b-47e8-8211-6bf911de1fd0\"}, {\"marker\": {\"color\": \"rgba(80, 198, 65, 0.8)\"}, \"mode\": \"markers\", \"name\": \"Ralston Purina\", \"text\": [\"Ralston Purina\", \"Ralston Purina\", \"Ralston Purina\", \"Ralston Purina\", \"Ralston Purina\", \"Ralston Purina\", \"Ralston Purina\"], \"x\": [\"125.0\", \"25.0\", \"80.0\", \"170.0\", \"170.0\", \"30.0\", \"115.0\"], \"y\": [\"4.0\", \"0.0\", \"1.0\", \"3.0\", \"3.0\", \"0.0\", \"3.0\"], \"type\": \"scatter\", \"uid\": \"8052084e-81a9-4d6a-9133-8ee9e9b1eee3\"}], {\"title\": {\"text\": \"Fiber vs Potassium\"}, \"xaxis\": {\"ticklen\": 5, \"title\": {\"text\": \"Potassium\"}, \"zeroline\": false}, \"yaxis\": {\"ticklen\": 5, \"title\": {\"text\": \"Fat\"}, \"zeroline\": false}}, {\"showLink\": false, \"linkText\": \"Export to plot.ly\", \"plotlyServerURL\": \"https://plot.ly\"})});</script><script type=\"text/javascript\">window.addEventListener(\"resize\", function(){window._Plotly.Plots.resize(document.getElementById(\"86d2f235-a180-4710-ab42-fba3d0519e7e\"));});</script>"
      ]
     },
     "metadata": {},
     "output_type": "display_data"
    }
   ],
   "source": [
    "py.offline.iplot(fig)"
   ]
  },
  {
   "cell_type": "code",
   "execution_count": 84,
   "metadata": {},
   "outputs": [
    {
     "data": {
      "image/png": "[encoded data removed]",
      "text/plain": [
       "<Figure size 432x288 with 1 Axes>"
      ]
     },
     "metadata": {
      "needs_background": "light"
     },
     "output_type": "display_data"
    }
   ],
   "source": [
    "data=pd.read_csv('breakfast_cereals.csv')\n",
    "plt.hist(data['Vitamins'],bins=10)\n",
    "\n",
    "# Add a suitable title\n",
    "plt.title('Histogram of Vitamins in Cereals')\n",
    "\n",
    "# Adding suitable labels to the axes\n",
    "plt.xlabel('Vitamins')\n",
    "plt.ylabel('Count')\n",
    "\n",
    "plt.show()"
   ]
  },
  {
   "cell_type": "code",
   "execution_count": 85,
   "metadata": {},
   "outputs": [],
   "source": [
    "#The above demonstrates how most cereals' vitamin level are clustered between the 20-30mg range. "
   ]
  },
  {
   "cell_type": "code",
   "execution_count": 86,
   "metadata": {},
   "outputs": [
    {
     "data": {
      "application/vnd.plotly.v1+json": {
       "config": {
        "linkText": "Export to plot.ly",
        "plotlyServerURL": "https://plot.ly",
        "showLink": false
       },
       "data": [
        {
         "marker": {
          "color": "rgba(12, 112, 212, 0.8)"
         },
         "name": "General Mills",
         "type": "box",
         "uid": "d07bbd32-a7d5-4939-8c74-7ee053f7bd79",
         "y": [
          "10.0",
          "6.0",
          "1.0",
          "9.0",
          "7.0",
          "13.0",
          "13.0",
          "10.0",
          "9.0",
          "10.0",
          "3.0",
          "12.0",
          "6.0",
          "8.0",
          "8.0",
          "3.0",
          "9.3",
          "3.0",
          "3.0",
          "12.0",
          "3.0",
          "8.0"
         ]
        },
        {
         "marker": {
          "color": "rgba(11, 209, 208, 0.8)"
         },
         "name": "Kelloggs",
         "type": "box",
         "uid": "d1af1e0d-9763-4638-9413-3aaf775268a1",
         "y": [
          "5.0",
          "0.0",
          "14.0",
          "2.0",
          "12.0",
          "7.0",
          "3.0",
          "13.0",
          "11.0",
          "7.0",
          "9.0",
          "6.0",
          "6.9",
          "8.7",
          "9.0",
          "5.3",
          "2.0",
          "3.0",
          "9.0",
          "6.0",
          "3.0",
          "15.0",
          "3.0"
         ]
        },
        {
         "marker": {
          "color": "rgba(183, 98, 65, 0.8)"
         },
         "name": "Nabisco",
         "type": "box",
         "uid": "43c042e8-c95c-4b00-890a-41e16a7f3ecc",
         "y": [
          "6.0",
          "0.0",
          "0.0",
          "0.0",
          "5.0"
         ]
        },
        {
         "marker": {
          "color": "rgba(23, 50, 170, 0.8)"
         },
         "name": "Post",
         "type": "box",
         "uid": "fe43c238-f08e-4c46-9681-ae14cab9244a",
         "y": [
          "5.0",
          "8.0",
          "12.0",
          "15.0",
          "5.0",
          "3.0",
          "4.0",
          "11.0",
          "10.5"
         ]
        },
        {
         "marker": {
          "color": "rgba(123, 123, 10, 0.8)"
         },
         "name": "Quaker Oats",
         "type": "box",
         "uid": "5fc99942-812a-4390-8941-60618f8b5394",
         "y": [
          "8.0",
          "12.0",
          "11.0",
          "6.0",
          "0.0",
          "0.0",
          "6.0"
         ]
        },
        {
         "marker": {
          "color": "rgba(80, 198, 65, 0.8)"
         },
         "name": "Ralston Purina",
         "type": "box",
         "uid": "a9ecce7f-e107-401d-8895-97cad827418c",
         "y": [
          "6.0",
          "3.0",
          "5.0",
          "11.0",
          "11.0",
          "2.0",
          "3.0"
         ]
        }
       ],
       "layout": {}
      },
      "text/html": [
       "<div id=\"d578cc00-2572-4ff9-ac78-a32a1b207b68\" style=\"height: 525px; width: 100%;\" class=\"plotly-graph-div\"></div><script type=\"text/javascript\">require([\"plotly\"], function(Plotly) { window.PLOTLYENV=window.PLOTLYENV || {};window.PLOTLYENV.BASE_URL=\"https://plot.ly\";Plotly.newPlot(\"d578cc00-2572-4ff9-ac78-a32a1b207b68\", [{\"marker\": {\"color\": \"rgba(12, 112, 212, 0.8)\"}, \"name\": \"General Mills\", \"y\": [\"10.0\", \"6.0\", \"1.0\", \"9.0\", \"7.0\", \"13.0\", \"13.0\", \"10.0\", \"9.0\", \"10.0\", \"3.0\", \"12.0\", \"6.0\", \"8.0\", \"8.0\", \"3.0\", \"9.3\", \"3.0\", \"3.0\", \"12.0\", \"3.0\", \"8.0\"], \"type\": \"box\", \"uid\": \"e7138ff3-bfff-46f2-ad6f-e1d1dadeb1b9\"}, {\"marker\": {\"color\": \"rgba(11, 209, 208, 0.8)\"}, \"name\": \"Kelloggs\", \"y\": [\"5.0\", \"0.0\", \"14.0\", \"2.0\", \"12.0\", \"7.0\", \"3.0\", \"13.0\", \"11.0\", \"7.0\", \"9.0\", \"6.0\", \"6.9\", \"8.7\", \"9.0\", \"5.3\", \"2.0\", \"3.0\", \"9.0\", \"6.0\", \"3.0\", \"15.0\", \"3.0\"], \"type\": \"box\", \"uid\": \"16221558-1570-4da9-8410-f75b4a43d9f1\"}, {\"marker\": {\"color\": \"rgba(183, 98, 65, 0.8)\"}, \"name\": \"Nabisco\", \"y\": [\"6.0\", \"0.0\", \"0.0\", \"0.0\", \"5.0\"], \"type\": \"box\", \"uid\": \"208527dd-d7dd-4ece-9f14-5164873d009c\"}, {\"marker\": {\"color\": \"rgba(23, 50, 170, 0.8)\"}, \"name\": \"Post\", \"y\": [\"5.0\", \"8.0\", \"12.0\", \"15.0\", \"5.0\", \"3.0\", \"4.0\", \"11.0\", \"10.5\"], \"type\": \"box\", \"uid\": \"1f7d256d-f733-4ab6-82bc-b30ef3869a44\"}, {\"marker\": {\"color\": \"rgba(123, 123, 10, 0.8)\"}, \"name\": \"Quaker Oats\", \"y\": [\"8.0\", \"12.0\", \"11.0\", \"6.0\", \"0.0\", \"0.0\", \"6.0\"], \"type\": \"box\", \"uid\": \"4bf62379-976a-42a2-aaef-ad93fdbbb8a9\"}, {\"marker\": {\"color\": \"rgba(80, 198, 65, 0.8)\"}, \"name\": \"Ralston Purina\", \"y\": [\"6.0\", \"3.0\", \"5.0\", \"11.0\", \"11.0\", \"2.0\", \"3.0\"], \"type\": \"box\", \"uid\": \"860808aa-8ba2-4d4c-9496-c355e39c7b8d\"}], {}, {\"showLink\": false, \"linkText\": \"Export to plot.ly\", \"plotlyServerURL\": \"https://plot.ly\"})});</script><script type=\"text/javascript\">window.addEventListener(\"resize\", function(){window._Plotly.Plots.resize(document.getElementById(\"d578cc00-2572-4ff9-ac78-a32a1b207b68\"));});</script>"
      ],
      "text/vnd.plotly.v1+html": [
       "<div id=\"d578cc00-2572-4ff9-ac78-a32a1b207b68\" style=\"height: 525px; width: 100%;\" class=\"plotly-graph-div\"></div><script type=\"text/javascript\">require([\"plotly\"], function(Plotly) { window.PLOTLYENV=window.PLOTLYENV || {};window.PLOTLYENV.BASE_URL=\"https://plot.ly\";Plotly.newPlot(\"d578cc00-2572-4ff9-ac78-a32a1b207b68\", [{\"marker\": {\"color\": \"rgba(12, 112, 212, 0.8)\"}, \"name\": \"General Mills\", \"y\": [\"10.0\", \"6.0\", \"1.0\", \"9.0\", \"7.0\", \"13.0\", \"13.0\", \"10.0\", \"9.0\", \"10.0\", \"3.0\", \"12.0\", \"6.0\", \"8.0\", \"8.0\", \"3.0\", \"9.3\", \"3.0\", \"3.0\", \"12.0\", \"3.0\", \"8.0\"], \"type\": \"box\", \"uid\": \"e7138ff3-bfff-46f2-ad6f-e1d1dadeb1b9\"}, {\"marker\": {\"color\": \"rgba(11, 209, 208, 0.8)\"}, \"name\": \"Kelloggs\", \"y\": [\"5.0\", \"0.0\", \"14.0\", \"2.0\", \"12.0\", \"7.0\", \"3.0\", \"13.0\", \"11.0\", \"7.0\", \"9.0\", \"6.0\", \"6.9\", \"8.7\", \"9.0\", \"5.3\", \"2.0\", \"3.0\", \"9.0\", \"6.0\", \"3.0\", \"15.0\", \"3.0\"], \"type\": \"box\", \"uid\": \"16221558-1570-4da9-8410-f75b4a43d9f1\"}, {\"marker\": {\"color\": \"rgba(183, 98, 65, 0.8)\"}, \"name\": \"Nabisco\", \"y\": [\"6.0\", \"0.0\", \"0.0\", \"0.0\", \"5.0\"], \"type\": \"box\", \"uid\": \"208527dd-d7dd-4ece-9f14-5164873d009c\"}, {\"marker\": {\"color\": \"rgba(23, 50, 170, 0.8)\"}, \"name\": \"Post\", \"y\": [\"5.0\", \"8.0\", \"12.0\", \"15.0\", \"5.0\", \"3.0\", \"4.0\", \"11.0\", \"10.5\"], \"type\": \"box\", \"uid\": \"1f7d256d-f733-4ab6-82bc-b30ef3869a44\"}, {\"marker\": {\"color\": \"rgba(123, 123, 10, 0.8)\"}, \"name\": \"Quaker Oats\", \"y\": [\"8.0\", \"12.0\", \"11.0\", \"6.0\", \"0.0\", \"0.0\", \"6.0\"], \"type\": \"box\", \"uid\": \"4bf62379-976a-42a2-aaef-ad93fdbbb8a9\"}, {\"marker\": {\"color\": \"rgba(80, 198, 65, 0.8)\"}, \"name\": \"Ralston Purina\", \"y\": [\"6.0\", \"3.0\", \"5.0\", \"11.0\", \"11.0\", \"2.0\", \"3.0\"], \"type\": \"box\", \"uid\": \"860808aa-8ba2-4d4c-9496-c355e39c7b8d\"}], {}, {\"showLink\": false, \"linkText\": \"Export to plot.ly\", \"plotlyServerURL\": \"https://plot.ly\"})});</script><script type=\"text/javascript\">window.addEventListener(\"resize\", function(){window._Plotly.Plots.resize(document.getElementById(\"d578cc00-2572-4ff9-ac78-a32a1b207b68\"));});</script>"
      ]
     },
     "metadata": {},
     "output_type": "display_data"
    }
   ],
   "source": [
    "#Generate Box Plots for Sugar values for each manufacturer\n",
    "\n",
    "trace1 = go.Box(\n",
    "    y=df1.Sugar,\n",
    "    name='General Mills',\n",
    "    marker=dict(color = 'rgba(12, 112, 212, 0.8)'),\n",
    "    )\n",
    "trace2 = go.Box(\n",
    "    y=df2.Sugar,\n",
    "    name='Kelloggs',\n",
    "    marker=dict(color = 'rgba(11, 209, 208, 0.8)'),\n",
    "    )\n",
    "trace3 = go.Box(\n",
    "    y=df3.Sugar,\n",
    "    name='Nabisco',\n",
    "    marker=dict(color = 'rgba(183, 98, 65, 0.8)'),\n",
    "    )\n",
    "trace4 = go.Box(\n",
    "    y=df4.Sugar,\n",
    "    name='Post',\n",
    "    marker=dict(color = 'rgba(23, 50, 170, 0.8)'),\n",
    "    )\n",
    "trace5 = go.Box(\n",
    "    y=df5.Sugar,\n",
    "    name='Quaker Oats',\n",
    "    marker=dict(color = 'rgba(123, 123, 10, 0.8)'),\n",
    "    )\n",
    "trace6 = go.Box(\n",
    "    y=df6.Sugar,\n",
    "    name='Ralston Purina',\n",
    "    marker=dict(color = 'rgba(80, 198, 65, 0.8)'),\n",
    ")\n",
    "\n",
    "bp = [trace1, trace2, trace3, trace4, trace5, trace6]\n",
    "py.offline.iplot(bp)"
   ]
  },
  {
   "cell_type": "code",
   "execution_count": null,
   "metadata": {},
   "outputs": [],
   "source": []
  },
  {
   "cell_type": "code",
   "execution_count": 95,
   "metadata": {},
   "outputs": [
    {
     "data": {
      "application/vnd.plotly.v1+json": {
       "config": {
        "linkText": "Export to plot.ly",
        "plotlyServerURL": "https://plot.ly",
        "showLink": false
       },
       "data": [
        {
         "marker": {
          "color": "rgba(12, 112, 212, 0.8)",
          "line": {
           "color": "rgb(204, 204, 204)",
           "width": 0.5
          },
          "opacity": 0.8,
          "size": 12
         },
         "mode": "markers",
         "name": "General Mills",
         "type": "scatter3d",
         "uid": "1e0fdb86-444f-4f30-af02-505260f27554",
         "x": [
          "110.0",
          "97.7",
          "110.0",
          "120.0",
          "110.0",
          "110.0",
          "110.0",
          "100.0",
          "110.0",
          "110.0",
          "110.0",
          "110.0",
          "100.0",
          "104.0",
          "100.0",
          "110.0",
          "93.3",
          "100.0",
          "110.0",
          "110.0",
          "100.0",
          "110.0"
         ],
         "y": [
          "180.0",
          "157.9",
          "290.0",
          "210.0",
          "140.0",
          "180.0",
          "180.0",
          "140.0",
          "280.0",
          "250.0",
          "260.0",
          "180.0",
          "220.0",
          "136.0",
          "140.0",
          "200.0",
          "126.7",
          "200.0",
          "250.0",
          "140.0",
          "200.0",
          "200.0"
         ],
         "z": [
          "70.0",
          "75.2",
          "105.0",
          "45.0",
          "105.0",
          "55.0",
          "65.0",
          "120.0",
          "45.0",
          "90.0",
          "40.0",
          "55.0",
          "90.0",
          "96.0",
          "140.0",
          "35.0",
          "153.3",
          "110.0",
          "60.0",
          "25.0",
          "110.0",
          "60.0"
         ]
        },
        {
         "marker": {
          "color": "rgba(11, 209, 208, 0.8)",
          "line": {
           "color": "rgb(204, 204, 204)",
           "width": 1
          },
          "opacity": 0.9,
          "size": 12,
          "symbol": "circle"
         },
         "mode": "markers",
         "name": "Kelloggs",
         "type": "scatter3d",
         "uid": "d3f3297a-df3e-4a86-8070-0155b887e916",
         "x": [
          "70.0",
          "50.0",
          "110.0",
          "100.0",
          "110.0",
          "110.0",
          "110.0",
          "110.0",
          "110.0",
          "100.0",
          "90.2",
          "110.0",
          "107.7",
          "106.7",
          "120.0",
          "105.3",
          "90.0",
          "100.0",
          "90.2",
          "90.0",
          "110.0",
          "110.0",
          "110.0"
         ],
         "y": [
          "260.0",
          "140.0",
          "125.0",
          "290.0",
          "90.0",
          "140.0",
          "220.0",
          "125.0",
          "200.0",
          "0.0",
          "180.5",
          "170.0",
          "130.8",
          "100.0",
          "190.0",
          "165.4",
          "170.0",
          "320.0",
          "157.9",
          "0.0",
          "290.0",
          "70.0",
          "230.0"
         ],
         "z": [
          "320.0",
          "330.0",
          "30.0",
          "35.0",
          "20.0",
          "160.0",
          "30.0",
          "30.0",
          "25.0",
          "100.0",
          "142.9",
          "60.0",
          "73.1",
          "106.7",
          "40.0",
          "97.7",
          "90.0",
          "45.0",
          "180.5",
          "110.0",
          "35.0",
          "40.0",
          "55.0"
         ]
        },
        {
         "marker": {
          "color": "rgba(183, 98, 65, 0.8)",
          "line": {
           "color": "rgb(204, 204, 204)",
           "width": 1
          },
          "opacity": 0.9,
          "size": 12,
          "symbol": "circle"
         },
         "mode": "markers",
         "name": "Nabisco",
         "type": "scatter3d",
         "uid": "278d433b-35fe-458b-b5e4-796fb9f7bccc",
         "x": [
          "70.0",
          "96.4",
          "90.0",
          "90.0",
          "90.0"
         ],
         "y": [
          "130.0",
          "0.0",
          "0.0",
          "0.0",
          "15.0"
         ],
         "z": [
          "280.0",
          "114.5",
          "140.0",
          "120.0",
          "90.0"
         ]
        },
        {
         "marker": {
          "color": "rgba(23, 50, 170, 0.8)",
          "line": {
           "color": "rgb(204, 204, 204)",
           "width": 1
          },
          "opacity": 0.9,
          "size": 12,
          "symbol": "circle"
         },
         "mode": "markers",
         "name": "Post",
         "type": "scatter3d",
         "uid": "16ebe809-1467-4e3c-8323-ce08e9b631ec",
         "x": [
          "90.0",
          "96.0",
          "110.0",
          "100.0",
          "100.0",
          "110.0",
          "120.0",
          "110.0",
          "90.2"
         ],
         "y": [
          "210.0",
          "128.0",
          "135.0",
          "45.0",
          "140.0",
          "170.0",
          "75.0",
          "180.0",
          "150.4"
         ],
         "z": [
          "190.0",
          "160.0",
          "25.0",
          "40.0",
          "85.0",
          "90.0",
          "100.0",
          "35.0",
          "195.5"
         ]
        },
        {
         "marker": {
          "color": "rgba(123, 123, 10, 0.8)",
          "line": {
           "color": "rgb(204, 204, 204)",
           "width": 1
          },
          "opacity": 0.9,
          "size": 12,
          "symbol": "circle"
         },
         "mode": "markers",
         "name": "Quaker Oats",
         "type": "scatter3d",
         "uid": "eed6b158-092a-4cd2-8cb9-59c5e5d54330",
         "x": [
          "120.0",
          "120.0",
          "120.0",
          "100.0",
          "100.0",
          "100.0",
          "100.0"
         ],
         "y": [
          "15.0",
          "220.0",
          "220.0",
          "150.0",
          "0.0",
          "0.0",
          "135.0"
         ],
         "z": [
          "135.0",
          "35.0",
          "45.0",
          "95.0",
          "30.0",
          "100.0",
          "110.0"
         ]
        },
        {
         "marker": {
          "color": "rgba(80, 198, 65, 0.8)",
          "line": {
           "color": "rgb(204, 204, 204)",
           "width": 1
          },
          "opacity": 0.9,
          "size": 12,
          "symbol": "circle"
         },
         "mode": "markers",
         "name": "Ralston Purina",
         "type": "scatter3d",
         "uid": "30f43248-eedc-4487-b8a9-4bc2dd6f2802",
         "x": [
          "90.0",
          "110.0",
          "100.0",
          "150.0",
          "150.0",
          "110.0",
          "100.0"
         ],
         "y": [
          "200.0",
          "280.0",
          "190.0",
          "95.0",
          "150.0",
          "240.0",
          "230.0"
         ],
         "z": [
          "125.0",
          "25.0",
          "80.0",
          "170.0",
          "170.0",
          "30.0",
          "115.0"
         ]
        }
       ],
       "layout": {
        "margin": {
         "b": 0,
         "l": 0,
         "r": 0,
         "t": 0
        },
        "scene": {
         "xaxis": {
          "title": {
           "text": "Calories (Cal)"
          }
         },
         "yaxis": {
          "title": {
           "text": "Sodium (mg)"
          }
         },
         "zaxis": {
          "title": {
           "text": "Potassium (mg)"
          }
         }
        },
        "title": {
         "text": "Calories vs Sodium vs Potassium",
         "x": 0,
         "xref": "paper"
        }
       }
      },
      "text/html": [
       "<div id=\"9c781e6f-df09-40ba-badc-2492df204a26\" style=\"height: 525px; width: 100%;\" class=\"plotly-graph-div\"></div><script type=\"text/javascript\">require([\"plotly\"], function(Plotly) { window.PLOTLYENV=window.PLOTLYENV || {};window.PLOTLYENV.BASE_URL=\"https://plot.ly\";Plotly.newPlot(\"9c781e6f-df09-40ba-badc-2492df204a26\", [{\"marker\": {\"color\": \"rgba(12, 112, 212, 0.8)\", \"line\": {\"color\": \"rgb(204, 204, 204)\", \"width\": 0.5}, \"opacity\": 0.8, \"size\": 12}, \"mode\": \"markers\", \"name\": \"General Mills\", \"x\": [\"110.0\", \"97.7\", \"110.0\", \"120.0\", \"110.0\", \"110.0\", \"110.0\", \"100.0\", \"110.0\", \"110.0\", \"110.0\", \"110.0\", \"100.0\", \"104.0\", \"100.0\", \"110.0\", \"93.3\", \"100.0\", \"110.0\", \"110.0\", \"100.0\", \"110.0\"], \"y\": [\"180.0\", \"157.9\", \"290.0\", \"210.0\", \"140.0\", \"180.0\", \"180.0\", \"140.0\", \"280.0\", \"250.0\", \"260.0\", \"180.0\", \"220.0\", \"136.0\", \"140.0\", \"200.0\", \"126.7\", \"200.0\", \"250.0\", \"140.0\", \"200.0\", \"200.0\"], \"z\": [\"70.0\", \"75.2\", \"105.0\", \"45.0\", \"105.0\", \"55.0\", \"65.0\", \"120.0\", \"45.0\", \"90.0\", \"40.0\", \"55.0\", \"90.0\", \"96.0\", \"140.0\", \"35.0\", \"153.3\", \"110.0\", \"60.0\", \"25.0\", \"110.0\", \"60.0\"], \"type\": \"scatter3d\", \"uid\": \"1e0fdb86-444f-4f30-af02-505260f27554\"}, {\"marker\": {\"color\": \"rgba(11, 209, 208, 0.8)\", \"line\": {\"color\": \"rgb(204, 204, 204)\", \"width\": 1}, \"opacity\": 0.9, \"size\": 12, \"symbol\": \"circle\"}, \"mode\": \"markers\", \"name\": \"Kelloggs\", \"x\": [\"70.0\", \"50.0\", \"110.0\", \"100.0\", \"110.0\", \"110.0\", \"110.0\", \"110.0\", \"110.0\", \"100.0\", \"90.2\", \"110.0\", \"107.7\", \"106.7\", \"120.0\", \"105.3\", \"90.0\", \"100.0\", \"90.2\", \"90.0\", \"110.0\", \"110.0\", \"110.0\"], \"y\": [\"260.0\", \"140.0\", \"125.0\", \"290.0\", \"90.0\", \"140.0\", \"220.0\", \"125.0\", \"200.0\", \"0.0\", \"180.5\", \"170.0\", \"130.8\", \"100.0\", \"190.0\", \"165.4\", \"170.0\", \"320.0\", \"157.9\", \"0.0\", \"290.0\", \"70.0\", \"230.0\"], \"z\": [\"320.0\", \"330.0\", \"30.0\", \"35.0\", \"20.0\", \"160.0\", \"30.0\", \"30.0\", \"25.0\", \"100.0\", \"142.9\", \"60.0\", \"73.1\", \"106.7\", \"40.0\", \"97.7\", \"90.0\", \"45.0\", \"180.5\", \"110.0\", \"35.0\", \"40.0\", \"55.0\"], \"type\": \"scatter3d\", \"uid\": \"d3f3297a-df3e-4a86-8070-0155b887e916\"}, {\"marker\": {\"color\": \"rgba(183, 98, 65, 0.8)\", \"line\": {\"color\": \"rgb(204, 204, 204)\", \"width\": 1}, \"opacity\": 0.9, \"size\": 12, \"symbol\": \"circle\"}, \"mode\": \"markers\", \"name\": \"Nabisco\", \"x\": [\"70.0\", \"96.4\", \"90.0\", \"90.0\", \"90.0\"], \"y\": [\"130.0\", \"0.0\", \"0.0\", \"0.0\", \"15.0\"], \"z\": [\"280.0\", \"114.5\", \"140.0\", \"120.0\", \"90.0\"], \"type\": \"scatter3d\", \"uid\": \"278d433b-35fe-458b-b5e4-796fb9f7bccc\"}, {\"marker\": {\"color\": \"rgba(23, 50, 170, 0.8)\", \"line\": {\"color\": \"rgb(204, 204, 204)\", \"width\": 1}, \"opacity\": 0.9, \"size\": 12, \"symbol\": \"circle\"}, \"mode\": \"markers\", \"name\": \"Post\", \"x\": [\"90.0\", \"96.0\", \"110.0\", \"100.0\", \"100.0\", \"110.0\", \"120.0\", \"110.0\", \"90.2\"], \"y\": [\"210.0\", \"128.0\", \"135.0\", \"45.0\", \"140.0\", \"170.0\", \"75.0\", \"180.0\", \"150.4\"], \"z\": [\"190.0\", \"160.0\", \"25.0\", \"40.0\", \"85.0\", \"90.0\", \"100.0\", \"35.0\", \"195.5\"], \"type\": \"scatter3d\", \"uid\": \"16ebe809-1467-4e3c-8323-ce08e9b631ec\"}, {\"marker\": {\"color\": \"rgba(123, 123, 10, 0.8)\", \"line\": {\"color\": \"rgb(204, 204, 204)\", \"width\": 1}, \"opacity\": 0.9, \"size\": 12, \"symbol\": \"circle\"}, \"mode\": \"markers\", \"name\": \"Quaker Oats\", \"x\": [\"120.0\", \"120.0\", \"120.0\", \"100.0\", \"100.0\", \"100.0\", \"100.0\"], \"y\": [\"15.0\", \"220.0\", \"220.0\", \"150.0\", \"0.0\", \"0.0\", \"135.0\"], \"z\": [\"135.0\", \"35.0\", \"45.0\", \"95.0\", \"30.0\", \"100.0\", \"110.0\"], \"type\": \"scatter3d\", \"uid\": \"eed6b158-092a-4cd2-8cb9-59c5e5d54330\"}, {\"marker\": {\"color\": \"rgba(80, 198, 65, 0.8)\", \"line\": {\"color\": \"rgb(204, 204, 204)\", \"width\": 1}, \"opacity\": 0.9, \"size\": 12, \"symbol\": \"circle\"}, \"mode\": \"markers\", \"name\": \"Ralston Purina\", \"x\": [\"90.0\", \"110.0\", \"100.0\", \"150.0\", \"150.0\", \"110.0\", \"100.0\"], \"y\": [\"200.0\", \"280.0\", \"190.0\", \"95.0\", \"150.0\", \"240.0\", \"230.0\"], \"z\": [\"125.0\", \"25.0\", \"80.0\", \"170.0\", \"170.0\", \"30.0\", \"115.0\"], \"type\": \"scatter3d\", \"uid\": \"30f43248-eedc-4487-b8a9-4bc2dd6f2802\"}], {\"margin\": {\"b\": 0, \"l\": 0, \"r\": 0, \"t\": 0}, \"scene\": {\"xaxis\": {\"title\": {\"text\": \"Calories (Cal)\"}}, \"yaxis\": {\"title\": {\"text\": \"Sodium (mg)\"}}, \"zaxis\": {\"title\": {\"text\": \"Potassium (mg)\"}}}, \"title\": {\"text\": \"Calories vs Sodium vs Potassium\", \"x\": 0, \"xref\": \"paper\"}}, {\"showLink\": false, \"linkText\": \"Export to plot.ly\", \"plotlyServerURL\": \"https://plot.ly\"})});</script><script type=\"text/javascript\">window.addEventListener(\"resize\", function(){window._Plotly.Plots.resize(document.getElementById(\"9c781e6f-df09-40ba-badc-2492df204a26\"));});</script>"
      ],
      "text/vnd.plotly.v1+html": [
       "<div id=\"9c781e6f-df09-40ba-badc-2492df204a26\" style=\"height: 525px; width: 100%;\" class=\"plotly-graph-div\"></div><script type=\"text/javascript\">require([\"plotly\"], function(Plotly) { window.PLOTLYENV=window.PLOTLYENV || {};window.PLOTLYENV.BASE_URL=\"https://plot.ly\";Plotly.newPlot(\"9c781e6f-df09-40ba-badc-2492df204a26\", [{\"marker\": {\"color\": \"rgba(12, 112, 212, 0.8)\", \"line\": {\"color\": \"rgb(204, 204, 204)\", \"width\": 0.5}, \"opacity\": 0.8, \"size\": 12}, \"mode\": \"markers\", \"name\": \"General Mills\", \"x\": [\"110.0\", \"97.7\", \"110.0\", \"120.0\", \"110.0\", \"110.0\", \"110.0\", \"100.0\", \"110.0\", \"110.0\", \"110.0\", \"110.0\", \"100.0\", \"104.0\", \"100.0\", \"110.0\", \"93.3\", \"100.0\", \"110.0\", \"110.0\", \"100.0\", \"110.0\"], \"y\": [\"180.0\", \"157.9\", \"290.0\", \"210.0\", \"140.0\", \"180.0\", \"180.0\", \"140.0\", \"280.0\", \"250.0\", \"260.0\", \"180.0\", \"220.0\", \"136.0\", \"140.0\", \"200.0\", \"126.7\", \"200.0\", \"250.0\", \"140.0\", \"200.0\", \"200.0\"], \"z\": [\"70.0\", \"75.2\", \"105.0\", \"45.0\", \"105.0\", \"55.0\", \"65.0\", \"120.0\", \"45.0\", \"90.0\", \"40.0\", \"55.0\", \"90.0\", \"96.0\", \"140.0\", \"35.0\", \"153.3\", \"110.0\", \"60.0\", \"25.0\", \"110.0\", \"60.0\"], \"type\": \"scatter3d\", \"uid\": \"1e0fdb86-444f-4f30-af02-505260f27554\"}, {\"marker\": {\"color\": \"rgba(11, 209, 208, 0.8)\", \"line\": {\"color\": \"rgb(204, 204, 204)\", \"width\": 1}, \"opacity\": 0.9, \"size\": 12, \"symbol\": \"circle\"}, \"mode\": \"markers\", \"name\": \"Kelloggs\", \"x\": [\"70.0\", \"50.0\", \"110.0\", \"100.0\", \"110.0\", \"110.0\", \"110.0\", \"110.0\", \"110.0\", \"100.0\", \"90.2\", \"110.0\", \"107.7\", \"106.7\", \"120.0\", \"105.3\", \"90.0\", \"100.0\", \"90.2\", \"90.0\", \"110.0\", \"110.0\", \"110.0\"], \"y\": [\"260.0\", \"140.0\", \"125.0\", \"290.0\", \"90.0\", \"140.0\", \"220.0\", \"125.0\", \"200.0\", \"0.0\", \"180.5\", \"170.0\", \"130.8\", \"100.0\", \"190.0\", \"165.4\", \"170.0\", \"320.0\", \"157.9\", \"0.0\", \"290.0\", \"70.0\", \"230.0\"], \"z\": [\"320.0\", \"330.0\", \"30.0\", \"35.0\", \"20.0\", \"160.0\", \"30.0\", \"30.0\", \"25.0\", \"100.0\", \"142.9\", \"60.0\", \"73.1\", \"106.7\", \"40.0\", \"97.7\", \"90.0\", \"45.0\", \"180.5\", \"110.0\", \"35.0\", \"40.0\", \"55.0\"], \"type\": \"scatter3d\", \"uid\": \"d3f3297a-df3e-4a86-8070-0155b887e916\"}, {\"marker\": {\"color\": \"rgba(183, 98, 65, 0.8)\", \"line\": {\"color\": \"rgb(204, 204, 204)\", \"width\": 1}, \"opacity\": 0.9, \"size\": 12, \"symbol\": \"circle\"}, \"mode\": \"markers\", \"name\": \"Nabisco\", \"x\": [\"70.0\", \"96.4\", \"90.0\", \"90.0\", \"90.0\"], \"y\": [\"130.0\", \"0.0\", \"0.0\", \"0.0\", \"15.0\"], \"z\": [\"280.0\", \"114.5\", \"140.0\", \"120.0\", \"90.0\"], \"type\": \"scatter3d\", \"uid\": \"278d433b-35fe-458b-b5e4-796fb9f7bccc\"}, {\"marker\": {\"color\": \"rgba(23, 50, 170, 0.8)\", \"line\": {\"color\": \"rgb(204, 204, 204)\", \"width\": 1}, \"opacity\": 0.9, \"size\": 12, \"symbol\": \"circle\"}, \"mode\": \"markers\", \"name\": \"Post\", \"x\": [\"90.0\", \"96.0\", \"110.0\", \"100.0\", \"100.0\", \"110.0\", \"120.0\", \"110.0\", \"90.2\"], \"y\": [\"210.0\", \"128.0\", \"135.0\", \"45.0\", \"140.0\", \"170.0\", \"75.0\", \"180.0\", \"150.4\"], \"z\": [\"190.0\", \"160.0\", \"25.0\", \"40.0\", \"85.0\", \"90.0\", \"100.0\", \"35.0\", \"195.5\"], \"type\": \"scatter3d\", \"uid\": \"16ebe809-1467-4e3c-8323-ce08e9b631ec\"}, {\"marker\": {\"color\": \"rgba(123, 123, 10, 0.8)\", \"line\": {\"color\": \"rgb(204, 204, 204)\", \"width\": 1}, \"opacity\": 0.9, \"size\": 12, \"symbol\": \"circle\"}, \"mode\": \"markers\", \"name\": \"Quaker Oats\", \"x\": [\"120.0\", \"120.0\", \"120.0\", \"100.0\", \"100.0\", \"100.0\", \"100.0\"], \"y\": [\"15.0\", \"220.0\", \"220.0\", \"150.0\", \"0.0\", \"0.0\", \"135.0\"], \"z\": [\"135.0\", \"35.0\", \"45.0\", \"95.0\", \"30.0\", \"100.0\", \"110.0\"], \"type\": \"scatter3d\", \"uid\": \"eed6b158-092a-4cd2-8cb9-59c5e5d54330\"}, {\"marker\": {\"color\": \"rgba(80, 198, 65, 0.8)\", \"line\": {\"color\": \"rgb(204, 204, 204)\", \"width\": 1}, \"opacity\": 0.9, \"size\": 12, \"symbol\": \"circle\"}, \"mode\": \"markers\", \"name\": \"Ralston Purina\", \"x\": [\"90.0\", \"110.0\", \"100.0\", \"150.0\", \"150.0\", \"110.0\", \"100.0\"], \"y\": [\"200.0\", \"280.0\", \"190.0\", \"95.0\", \"150.0\", \"240.0\", \"230.0\"], \"z\": [\"125.0\", \"25.0\", \"80.0\", \"170.0\", \"170.0\", \"30.0\", \"115.0\"], \"type\": \"scatter3d\", \"uid\": \"30f43248-eedc-4487-b8a9-4bc2dd6f2802\"}], {\"margin\": {\"b\": 0, \"l\": 0, \"r\": 0, \"t\": 0}, \"scene\": {\"xaxis\": {\"title\": {\"text\": \"Calories (Cal)\"}}, \"yaxis\": {\"title\": {\"text\": \"Sodium (mg)\"}}, \"zaxis\": {\"title\": {\"text\": \"Potassium (mg)\"}}}, \"title\": {\"text\": \"Calories vs Sodium vs Potassium\", \"x\": 0, \"xref\": \"paper\"}}, {\"showLink\": false, \"linkText\": \"Export to plot.ly\", \"plotlyServerURL\": \"https://plot.ly\"})});</script><script type=\"text/javascript\">window.addEventListener(\"resize\", function(){window._Plotly.Plots.resize(document.getElementById(\"9c781e6f-df09-40ba-badc-2492df204a26\"));});</script>"
      ]
     },
     "metadata": {},
     "output_type": "display_data"
    }
   ],
   "source": [
    "trace1 = go.Scatter3d(\n",
    "    x=df1.Calories,\n",
    "    y=df1.Sodium,\n",
    "    z=df1.Potassium,\n",
    "    name = 'General Mills',\n",
    "    mode='markers',\n",
    "    marker=dict(\n",
    "        color= 'rgba(12, 112, 212, 0.8)',\n",
    "        size=12,\n",
    "        line=dict(\n",
    "            color='rgb(204, 204, 204)',\n",
    "            width=0.5\n",
    "        ),\n",
    "        opacity=0.8\n",
    "    )\n",
    ")\n",
    "trace2 = go.Scatter3d(\n",
    "    x=df2.Calories,\n",
    "    y=df2.Sodium,\n",
    "    z=df2.Potassium,\n",
    "    name = 'Kelloggs',\n",
    "    mode='markers',\n",
    "    marker=dict(\n",
    "        color='rgba(11, 209, 208, 0.8)',\n",
    "        size=12,\n",
    "        symbol='circle',\n",
    "        line=dict(\n",
    "            color='rgb(204, 204, 204)',\n",
    "            width=1\n",
    "        ),\n",
    "        opacity=0.9\n",
    "    )\n",
    ")\n",
    "trace3 = go.Scatter3d(\n",
    "    x=df3.Calories,\n",
    "    y=df3.Sodium,\n",
    "    z=df3.Potassium,\n",
    "    name = 'Nabisco',\n",
    "    mode='markers',\n",
    "    marker=dict(\n",
    "        color='rgba(183, 98, 65, 0.8)',\n",
    "        size=12,\n",
    "        symbol='circle',\n",
    "        line=dict(\n",
    "            color='rgb(204, 204, 204)',\n",
    "            width=1\n",
    "        ),\n",
    "        opacity=0.9\n",
    "    )\n",
    ")\n",
    "trace4 = go.Scatter3d(\n",
    "    x=df4.Calories,\n",
    "    y=df4.Sodium,\n",
    "    z=df4.Potassium,\n",
    "    name = 'Post',\n",
    "    mode='markers',\n",
    "    marker=dict(\n",
    "        color='rgba(23, 50, 170, 0.8)',\n",
    "        size=12,\n",
    "        symbol='circle',\n",
    "        line=dict(\n",
    "            color='rgb(204, 204, 204)',\n",
    "            width=1\n",
    "        ),\n",
    "        opacity=0.9\n",
    "    )\n",
    ")\n",
    "trace5 = go.Scatter3d(\n",
    "    x=df5.Calories,\n",
    "    y=df5.Sodium,\n",
    "    z=df5.Potassium,\n",
    "    name = 'Quaker Oats',\n",
    "    mode='markers',\n",
    "    marker=dict(\n",
    "        color='rgba(123, 123, 10, 0.8)',\n",
    "        size=12,\n",
    "        symbol='circle',\n",
    "        line=dict(\n",
    "            color='rgb(204, 204, 204)',\n",
    "            width=1\n",
    "        ),\n",
    "        opacity=0.9\n",
    "    )\n",
    ")\n",
    "trace6 = go.Scatter3d(\n",
    "    x=df6.Calories,\n",
    "    y=df6.Sodium,\n",
    "    z=df6.Potassium,\n",
    "    name = 'Ralston Purina',\n",
    "    mode='markers',\n",
    "    marker=dict(\n",
    "        color='rgba(80, 198, 65, 0.8)',\n",
    "        size=12,\n",
    "        symbol='circle',\n",
    "        line=dict(\n",
    "            color='rgb(204, 204, 204)',\n",
    "            width=1\n",
    "        ),\n",
    "        opacity=0.9\n",
    "    )\n",
    ")\n",
    "data = [trace1, trace2, trace3, trace4, trace5, trace6]\n",
    "layout = go.Layout(\n",
    "    margin=dict(\n",
    "        l=0,\n",
    "        r=0,\n",
    "        b=0,\n",
    "        t=0\n",
    "    ),\n",
    "    scene = dict(\n",
    "        xaxis = dict(\n",
    "            title= 'Calories (Cal)'),\n",
    "        yaxis = dict(\n",
    "            title= 'Sodium (mg)'),\n",
    "        zaxis = dict(\n",
    "            title='Potassium (mg)'),),\n",
    "    title=go.layout.Title(\n",
    "        text='Calories vs Sodium vs Potassium',\n",
    "        xref='paper',\n",
    "        x=0\n",
    "    ),\n",
    ")\n",
    "fig = go.Figure(data=data, layout=layout)\n",
    "py.offline.iplot(fig, filename='Calories vs Sodium vs Potassium')"
   ]
  },
  {
   "cell_type": "code",
   "execution_count": null,
   "metadata": {},
   "outputs": [],
   "source": []
  },
  {
   "cell_type": "code",
   "execution_count": null,
   "metadata": {},
   "outputs": [],
   "source": []
  },
  {
   "cell_type": "code",
   "execution_count": null,
   "metadata": {},
   "outputs": [],
   "source": []
  },
  {
   "cell_type": "code",
   "execution_count": null,
   "metadata": {},
   "outputs": [],
   "source": []
  },
  {
   "cell_type": "code",
   "execution_count": null,
   "metadata": {},
   "outputs": [],
   "source": []
  }
 ],
 "metadata": {
  "kernelspec": {
   "display_name": "Python 3",
   "language": "python",
   "name": "python3"
  },
  "language_info": {
   "codemirror_mode": {
    "name": "ipython",
    "version": 3
   },
   "file_extension": ".py",
   "mimetype": "text/x-python",
   "name": "python",
   "nbconvert_exporter": "python",
   "pygments_lexer": "ipython3",
   "version": "3.7.1"
  }
 },
 "nbformat": 4,
 "nbformat_minor": 2
}
